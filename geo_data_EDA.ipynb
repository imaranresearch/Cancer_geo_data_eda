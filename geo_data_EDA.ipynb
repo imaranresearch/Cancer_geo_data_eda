{
 "cells": [
  {
   "cell_type": "code",
   "execution_count": 1,
   "id": "70f088cf",
   "metadata": {
    "scrolled": true
   },
   "outputs": [
    {
     "data": {
      "text/html": "        <script type=\"text/javascript\">\n        window.PlotlyConfig = {MathJaxConfig: 'local'};\n        if (window.MathJax && window.MathJax.Hub && window.MathJax.Hub.Config) {window.MathJax.Hub.Config({SVG: {font: \"STIX-Web\"}});}\n        if (typeof require !== 'undefined') {\n        require.undef(\"plotly\");\n        requirejs.config({\n            paths: {\n                'plotly': ['https://cdn.plot.ly/plotly-2.12.1.min']\n            }\n        });\n        require(['plotly'], function(Plotly) {\n            window._Plotly = Plotly;\n        });\n        }\n        </script>\n        "
     },
     "metadata": {},
     "output_type": "display_data"
    }
   ],
   "source": [
    "import pandas as pd\n",
    "import numpy as np\n",
    "import matplotlib.pylab as plt\n",
    "from plotly import __version__\n",
    "import cufflinks as cf\n",
    "from plotly.offline import download_plotlyjs,init_notebook_mode,plot,iplot\n",
    "import chart_studio.plotly as py\n",
    "import seaborn as sns\n",
    "%matplotlib inline\n",
    "init_notebook_mode(connected=True)\n",
    "import plotly.graph_objs as go"
   ]
  },
  {
   "cell_type": "code",
   "execution_count": 2,
   "id": "6bb2cf0f",
   "metadata": {},
   "outputs": [],
   "source": [
    "df = pd.read_csv('data.csv')"
   ]
  },
  {
   "cell_type": "code",
   "execution_count": 3,
   "id": "ace0be2d",
   "metadata": {
    "scrolled": true
   },
   "outputs": [
    {
     "data": {
      "text/plain": "          place  pop2022  growthRate         area country cca3  cca2  \\\n426   2305825.0  0.01068       30355      Lesotho     LSO   LS   426   \n328    808726.0  0.00517      214969       Guyana     GUY   GY   328   \n748   1201670.0  0.00788       17364     Eswatini     SWZ   SZ   748   \n410  51815810.0 -0.00028      100210  South Korea     KOR   KR   410   \n296    131232.0  0.01830         811     Kiribati     KIR   KI   296   \n\n              ccn3           region           subregion  ...    density  \\\n426         Africa  Southern Africa  Sub-Saharan Africa  ...    75.9494   \n328  South America    South America       Latin America  ...     4.1083   \n748         Africa  Southern Africa  Sub-Saharan Africa  ...    69.8645   \n410           Asia     Eastern Asia               97600  ...  1375.0302   \n296        Oceania       Micronesia                 810  ...   419.6184   \n\n     densityMi   Rank  rate2019male  rate2019female  rate2019both  \\\n426   196.7090  147.0         116.0            30.1          72.4   \n328    10.6406  164.0          63.0            17.4          40.3   \n748   180.9491  159.0          55.1             4.7          29.4   \n410    29.0000   40.2          16.9            28.6          39.0   \n296   192.0000   48.6           8.7            28.3          50.0   \n\n     rate2015male  rate2015female  rate2015both  rank  \n426           147              39            92   1.0  \n328            58              16            37   2.0  \n748            62               9            35   3.0  \n410            16              28             4   NaN  \n296             9              29             5   NaN  \n\n[5 rows x 21 columns]",
      "text/html": "<div>\n<style scoped>\n    .dataframe tbody tr th:only-of-type {\n        vertical-align: middle;\n    }\n\n    .dataframe tbody tr th {\n        vertical-align: top;\n    }\n\n    .dataframe thead th {\n        text-align: right;\n    }\n</style>\n<table border=\"1\" class=\"dataframe\">\n  <thead>\n    <tr style=\"text-align: right;\">\n      <th></th>\n      <th>place</th>\n      <th>pop2022</th>\n      <th>growthRate</th>\n      <th>area</th>\n      <th>country</th>\n      <th>cca3</th>\n      <th>cca2</th>\n      <th>ccn3</th>\n      <th>region</th>\n      <th>subregion</th>\n      <th>...</th>\n      <th>density</th>\n      <th>densityMi</th>\n      <th>Rank</th>\n      <th>rate2019male</th>\n      <th>rate2019female</th>\n      <th>rate2019both</th>\n      <th>rate2015male</th>\n      <th>rate2015female</th>\n      <th>rate2015both</th>\n      <th>rank</th>\n    </tr>\n  </thead>\n  <tbody>\n    <tr>\n      <th>426</th>\n      <td>2305825.0</td>\n      <td>0.01068</td>\n      <td>30355</td>\n      <td>Lesotho</td>\n      <td>LSO</td>\n      <td>LS</td>\n      <td>426</td>\n      <td>Africa</td>\n      <td>Southern Africa</td>\n      <td>Sub-Saharan Africa</td>\n      <td>...</td>\n      <td>75.9494</td>\n      <td>196.7090</td>\n      <td>147.0</td>\n      <td>116.0</td>\n      <td>30.1</td>\n      <td>72.4</td>\n      <td>147</td>\n      <td>39</td>\n      <td>92</td>\n      <td>1.0</td>\n    </tr>\n    <tr>\n      <th>328</th>\n      <td>808726.0</td>\n      <td>0.00517</td>\n      <td>214969</td>\n      <td>Guyana</td>\n      <td>GUY</td>\n      <td>GY</td>\n      <td>328</td>\n      <td>South America</td>\n      <td>South America</td>\n      <td>Latin America</td>\n      <td>...</td>\n      <td>4.1083</td>\n      <td>10.6406</td>\n      <td>164.0</td>\n      <td>63.0</td>\n      <td>17.4</td>\n      <td>40.3</td>\n      <td>58</td>\n      <td>16</td>\n      <td>37</td>\n      <td>2.0</td>\n    </tr>\n    <tr>\n      <th>748</th>\n      <td>1201670.0</td>\n      <td>0.00788</td>\n      <td>17364</td>\n      <td>Eswatini</td>\n      <td>SWZ</td>\n      <td>SZ</td>\n      <td>748</td>\n      <td>Africa</td>\n      <td>Southern Africa</td>\n      <td>Sub-Saharan Africa</td>\n      <td>...</td>\n      <td>69.8645</td>\n      <td>180.9491</td>\n      <td>159.0</td>\n      <td>55.1</td>\n      <td>4.7</td>\n      <td>29.4</td>\n      <td>62</td>\n      <td>9</td>\n      <td>35</td>\n      <td>3.0</td>\n    </tr>\n    <tr>\n      <th>410</th>\n      <td>51815810.0</td>\n      <td>-0.00028</td>\n      <td>100210</td>\n      <td>South Korea</td>\n      <td>KOR</td>\n      <td>KR</td>\n      <td>410</td>\n      <td>Asia</td>\n      <td>Eastern Asia</td>\n      <td>97600</td>\n      <td>...</td>\n      <td>1375.0302</td>\n      <td>29.0000</td>\n      <td>40.2</td>\n      <td>16.9</td>\n      <td>28.6</td>\n      <td>39.0</td>\n      <td>16</td>\n      <td>28</td>\n      <td>4</td>\n      <td>NaN</td>\n    </tr>\n    <tr>\n      <th>296</th>\n      <td>131232.0</td>\n      <td>0.01830</td>\n      <td>811</td>\n      <td>Kiribati</td>\n      <td>KIR</td>\n      <td>KI</td>\n      <td>296</td>\n      <td>Oceania</td>\n      <td>Micronesia</td>\n      <td>810</td>\n      <td>...</td>\n      <td>419.6184</td>\n      <td>192.0000</td>\n      <td>48.6</td>\n      <td>8.7</td>\n      <td>28.3</td>\n      <td>50.0</td>\n      <td>9</td>\n      <td>29</td>\n      <td>5</td>\n      <td>NaN</td>\n    </tr>\n  </tbody>\n</table>\n<p>5 rows × 21 columns</p>\n</div>"
     },
     "execution_count": 3,
     "metadata": {},
     "output_type": "execute_result"
    }
   ],
   "source": [
    "df.head()"
   ]
  },
  {
   "cell_type": "code",
   "execution_count": 4,
   "id": "7399a61b",
   "metadata": {},
   "outputs": [],
   "source": [
    "col = df.columns.tolist()\n",
    "df=df.reset_index(drop=False)"
   ]
  },
  {
   "cell_type": "code",
   "execution_count": 5,
   "id": "866f771d",
   "metadata": {},
   "outputs": [],
   "source": [
    "df.columns = col + ['x']"
   ]
  },
  {
   "cell_type": "code",
   "execution_count": 6,
   "id": "da762e5c",
   "metadata": {
    "scrolled": true
   },
   "outputs": [
    {
     "name": "stdout",
     "output_type": "stream",
     "text": [
      "<class 'pandas.core.frame.DataFrame'>\n",
      "RangeIndex: 179 entries, 0 to 178\n",
      "Data columns (total 22 columns):\n",
      " #   Column          Non-Null Count  Dtype  \n",
      "---  ------          --------------  -----  \n",
      " 0   place           179 non-null    int64  \n",
      " 1   pop2022         179 non-null    float64\n",
      " 2   growthRate      179 non-null    float64\n",
      " 3   area            179 non-null    int64  \n",
      " 4   country         179 non-null    object \n",
      " 5   cca3            179 non-null    object \n",
      " 6   cca2            178 non-null    object \n",
      " 7   ccn3            179 non-null    int64  \n",
      " 8   region          179 non-null    object \n",
      " 9   subregion       179 non-null    object \n",
      " 10  landAreaKm      179 non-null    object \n",
      " 11  density         179 non-null    float64\n",
      " 12  densityMi       179 non-null    float64\n",
      " 13  Rank            179 non-null    float64\n",
      " 14  rate2019male    179 non-null    float64\n",
      " 15  rate2019female  179 non-null    float64\n",
      " 16  rate2019both    179 non-null    float64\n",
      " 17  rate2015male    179 non-null    float64\n",
      " 18  rate2015female  179 non-null    int64  \n",
      " 19  rate2015both    179 non-null    int64  \n",
      " 20  rank            179 non-null    int64  \n",
      " 21  x               93 non-null     float64\n",
      "dtypes: float64(10), int64(6), object(6)\n",
      "memory usage: 30.9+ KB\n"
     ]
    }
   ],
   "source": [
    "df.info()"
   ]
  },
  {
   "cell_type": "code",
   "execution_count": 7,
   "id": "d93e72d6",
   "metadata": {
    "scrolled": true
   },
   "outputs": [
    {
     "name": "stdout",
     "output_type": "stream",
     "text": [
      "['Southern Africa', 'South America', 'Eastern Asia', 'Micronesia', 'Northern Europe', 'Eastern Europe', 'Southern Europe', 'Western Europe', 'Melanesia', 'Central Asia', 'Northern America', 'Caribbean', 'Eastern Africa', 'Southern Asia', 'Polynesia', 'Australia and New Zealand', 'Middle Africa', 'South-Eastern Asia', 'Western Asia', 'Western Africa', 'Central America', 'Northern Africa', 'South Central Asia']\n",
      "['Sub-Saharan Africa', 'Latin America', '97600', '810', '700', '62620', '16376870', '579400', '202980', '13450', '62230', '20136.4', '30280', '12190', '1557506.8', '2699700', '91260', '55960', '9147420', '364500', '303940', '42750', '407283.5', '32884.6', '27990', '82520', '103800', '39516', 'South Central Asia', '547557', '2780', '7692020', '349390', '49035', '100830', '8965590', '33670', '364285', '91605.6', '87460', '306130', '2574.5', '718', '263310', '51200', '40000', '230080', '108560', '27560', '68890', '120410', '25220', '69490', '18270', 'The Middle East', '510890', '5130', '9424702.9', '241930', '610', '499556.6', '313429', '446300', '295717', '320', '328550', '230800', '128900', '176520', '48310', '1759540', '27400', 'Southern Asia', '82646', '1868000', '720', '14870', '10010', '155360', '28470', '452860', '652670', '5270', '2381741', '1877519', '10830', '298170', '390', '340', '430', '440']\n"
     ]
    }
   ],
   "source": [
    "print(df['subregion'].unique().tolist())\n",
    "print(df['landAreaKm'].unique().tolist())"
   ]
  },
  {
   "cell_type": "code",
   "execution_count": 8,
   "id": "cb2274e0",
   "metadata": {},
   "outputs": [],
   "source": [
    "for i in range(len(df)):\n",
    "    if 'a' in df.iloc[i,10]: #'landAreaKm'\n",
    "        df.iloc[i,10:21]=df.iloc[i,11:22]\n",
    "df['landAreaKm']=df['landAreaKm'].astype(float)"
   ]
  },
  {
   "cell_type": "code",
   "execution_count": 9,
   "id": "9f279e06",
   "metadata": {},
   "outputs": [
    {
     "data": {
      "text/plain": "   place     pop2022  growthRate    area      country cca3 cca2  ccn3  \\\n0    426   2305825.0     0.01068   30355      Lesotho  LSO   LS   426   \n1    328    808726.0     0.00517  214969       Guyana  GUY   GY   328   \n2    748   1201670.0     0.00788   17364     Eswatini  SWZ   SZ   748   \n3    410  51815810.0    -0.00028  100210  South Korea  KOR   KR   410   \n4    296    131232.0     0.01830     811     Kiribati  KIR   KI   296   \n\n          region        subregion  ...  densityMi   Rank  rate2019male  \\\n0         Africa  Southern Africa  ...   196.7090  147.0         116.0   \n1  South America    South America  ...    10.6406  164.0          63.0   \n2         Africa  Southern Africa  ...   180.9491  159.0          55.1   \n3           Asia     Eastern Asia  ...  1375.0302   29.0          40.2   \n4        Oceania       Micronesia  ...   419.6184  192.0          48.6   \n\n   rate2019female  rate2019both  rate2015male  rate2015female  rate2015both  \\\n0            30.1          72.4         147.0              39            92   \n1            17.4          40.3          58.0              16            37   \n2             4.7          29.4          62.0               9            35   \n3            16.9          28.6          39.0              16            28   \n4             8.7          28.3          50.0               9            29   \n\n   rank    x  \n0     1  1.0  \n1     2  2.0  \n2     3  3.0  \n3     4  NaN  \n4     5  NaN  \n\n[5 rows x 22 columns]",
      "text/html": "<div>\n<style scoped>\n    .dataframe tbody tr th:only-of-type {\n        vertical-align: middle;\n    }\n\n    .dataframe tbody tr th {\n        vertical-align: top;\n    }\n\n    .dataframe thead th {\n        text-align: right;\n    }\n</style>\n<table border=\"1\" class=\"dataframe\">\n  <thead>\n    <tr style=\"text-align: right;\">\n      <th></th>\n      <th>place</th>\n      <th>pop2022</th>\n      <th>growthRate</th>\n      <th>area</th>\n      <th>country</th>\n      <th>cca3</th>\n      <th>cca2</th>\n      <th>ccn3</th>\n      <th>region</th>\n      <th>subregion</th>\n      <th>...</th>\n      <th>densityMi</th>\n      <th>Rank</th>\n      <th>rate2019male</th>\n      <th>rate2019female</th>\n      <th>rate2019both</th>\n      <th>rate2015male</th>\n      <th>rate2015female</th>\n      <th>rate2015both</th>\n      <th>rank</th>\n      <th>x</th>\n    </tr>\n  </thead>\n  <tbody>\n    <tr>\n      <th>0</th>\n      <td>426</td>\n      <td>2305825.0</td>\n      <td>0.01068</td>\n      <td>30355</td>\n      <td>Lesotho</td>\n      <td>LSO</td>\n      <td>LS</td>\n      <td>426</td>\n      <td>Africa</td>\n      <td>Southern Africa</td>\n      <td>...</td>\n      <td>196.7090</td>\n      <td>147.0</td>\n      <td>116.0</td>\n      <td>30.1</td>\n      <td>72.4</td>\n      <td>147.0</td>\n      <td>39</td>\n      <td>92</td>\n      <td>1</td>\n      <td>1.0</td>\n    </tr>\n    <tr>\n      <th>1</th>\n      <td>328</td>\n      <td>808726.0</td>\n      <td>0.00517</td>\n      <td>214969</td>\n      <td>Guyana</td>\n      <td>GUY</td>\n      <td>GY</td>\n      <td>328</td>\n      <td>South America</td>\n      <td>South America</td>\n      <td>...</td>\n      <td>10.6406</td>\n      <td>164.0</td>\n      <td>63.0</td>\n      <td>17.4</td>\n      <td>40.3</td>\n      <td>58.0</td>\n      <td>16</td>\n      <td>37</td>\n      <td>2</td>\n      <td>2.0</td>\n    </tr>\n    <tr>\n      <th>2</th>\n      <td>748</td>\n      <td>1201670.0</td>\n      <td>0.00788</td>\n      <td>17364</td>\n      <td>Eswatini</td>\n      <td>SWZ</td>\n      <td>SZ</td>\n      <td>748</td>\n      <td>Africa</td>\n      <td>Southern Africa</td>\n      <td>...</td>\n      <td>180.9491</td>\n      <td>159.0</td>\n      <td>55.1</td>\n      <td>4.7</td>\n      <td>29.4</td>\n      <td>62.0</td>\n      <td>9</td>\n      <td>35</td>\n      <td>3</td>\n      <td>3.0</td>\n    </tr>\n    <tr>\n      <th>3</th>\n      <td>410</td>\n      <td>51815810.0</td>\n      <td>-0.00028</td>\n      <td>100210</td>\n      <td>South Korea</td>\n      <td>KOR</td>\n      <td>KR</td>\n      <td>410</td>\n      <td>Asia</td>\n      <td>Eastern Asia</td>\n      <td>...</td>\n      <td>1375.0302</td>\n      <td>29.0</td>\n      <td>40.2</td>\n      <td>16.9</td>\n      <td>28.6</td>\n      <td>39.0</td>\n      <td>16</td>\n      <td>28</td>\n      <td>4</td>\n      <td>NaN</td>\n    </tr>\n    <tr>\n      <th>4</th>\n      <td>296</td>\n      <td>131232.0</td>\n      <td>0.01830</td>\n      <td>811</td>\n      <td>Kiribati</td>\n      <td>KIR</td>\n      <td>KI</td>\n      <td>296</td>\n      <td>Oceania</td>\n      <td>Micronesia</td>\n      <td>...</td>\n      <td>419.6184</td>\n      <td>192.0</td>\n      <td>48.6</td>\n      <td>8.7</td>\n      <td>28.3</td>\n      <td>50.0</td>\n      <td>9</td>\n      <td>29</td>\n      <td>5</td>\n      <td>NaN</td>\n    </tr>\n  </tbody>\n</table>\n<p>5 rows × 22 columns</p>\n</div>"
     },
     "execution_count": 9,
     "metadata": {},
     "output_type": "execute_result"
    }
   ],
   "source": [
    "df.head(5)"
   ]
  },
  {
   "cell_type": "code",
   "execution_count": 10,
   "id": "092c666e",
   "metadata": {},
   "outputs": [],
   "source": [
    "df.drop('x',axis=1, inplace=True)"
   ]
  },
  {
   "cell_type": "code",
   "execution_count": 11,
   "id": "946c4ecd",
   "metadata": {
    "scrolled": true
   },
   "outputs": [
    {
     "data": {
      "text/plain": "            place       pop2022  growthRate          area        ccn3  \\\ncount  179.000000  1.790000e+02  179.000000  1.790000e+02  179.000000   \nmean   432.223464  4.406868e+07    0.010976  7.420734e+05  432.223464   \nstd    255.224412  1.550831e+08    0.014019  1.981464e+06  255.224412   \nmin      4.000000  9.376300e+04   -0.087980  3.000000e+02    4.000000   \n25%    216.000000  2.728024e+06    0.003835  3.004900e+04  216.000000   \n50%    426.000000  1.014262e+07    0.010290  1.475700e+05  426.000000   \n75%    654.000000  3.381742e+07    0.019350  5.845205e+05  654.000000   \nmax    894.000000  1.425887e+09    0.069080  1.709824e+07  894.000000   \n\n         landAreaKm      density     densityMi        Rank  rate2019male  \\\ncount  1.790000e+02   179.000000    179.000000  179.000000    179.000000   \nmean   7.200937e+05   206.872856    535.800701   94.324022     14.678212   \nstd    1.903359e+06   665.014692   1722.388057   56.185148     13.216496   \nmin    3.000000e+02     2.181900      5.651200    1.000000      0.000000   \n25%    2.829500e+04    31.552650     81.721300   45.500000      6.700000   \n50%    1.433500e+05    83.011800    215.000500   93.000000     11.300000   \n75%    5.742700e+05   183.079150    474.175000  141.500000     17.750000   \nmax    1.637687e+07  8322.686600  21555.758400  201.000000    116.000000   \n\n       rate2019female  rate2019both  rate2015male  rate2015female  \\\ncount      179.000000    179.000000    179.000000      179.000000   \nmean         4.372626      9.478771     15.229050        4.307263   \nstd          3.559917      8.049698     15.399476        4.064163   \nmin          0.300000      0.400000      0.000000        0.000000   \n25%          2.000000      4.600000      7.000000        2.000000   \n50%          3.300000      7.500000     11.000000        3.000000   \n75%          6.150000     11.800000     19.000000        6.000000   \nmax         30.100000     72.400000    147.000000       39.000000   \n\n       rate2015both        rank  \ncount    179.000000  179.000000  \nmean       9.748603   90.000000  \nstd        9.398089   51.816986  \nmin        0.000000    1.000000  \n25%        4.000000   45.500000  \n50%        7.000000   90.000000  \n75%       12.500000  134.500000  \nmax       92.000000  179.000000  ",
      "text/html": "<div>\n<style scoped>\n    .dataframe tbody tr th:only-of-type {\n        vertical-align: middle;\n    }\n\n    .dataframe tbody tr th {\n        vertical-align: top;\n    }\n\n    .dataframe thead th {\n        text-align: right;\n    }\n</style>\n<table border=\"1\" class=\"dataframe\">\n  <thead>\n    <tr style=\"text-align: right;\">\n      <th></th>\n      <th>place</th>\n      <th>pop2022</th>\n      <th>growthRate</th>\n      <th>area</th>\n      <th>ccn3</th>\n      <th>landAreaKm</th>\n      <th>density</th>\n      <th>densityMi</th>\n      <th>Rank</th>\n      <th>rate2019male</th>\n      <th>rate2019female</th>\n      <th>rate2019both</th>\n      <th>rate2015male</th>\n      <th>rate2015female</th>\n      <th>rate2015both</th>\n      <th>rank</th>\n    </tr>\n  </thead>\n  <tbody>\n    <tr>\n      <th>count</th>\n      <td>179.000000</td>\n      <td>1.790000e+02</td>\n      <td>179.000000</td>\n      <td>1.790000e+02</td>\n      <td>179.000000</td>\n      <td>1.790000e+02</td>\n      <td>179.000000</td>\n      <td>179.000000</td>\n      <td>179.000000</td>\n      <td>179.000000</td>\n      <td>179.000000</td>\n      <td>179.000000</td>\n      <td>179.000000</td>\n      <td>179.000000</td>\n      <td>179.000000</td>\n      <td>179.000000</td>\n    </tr>\n    <tr>\n      <th>mean</th>\n      <td>432.223464</td>\n      <td>4.406868e+07</td>\n      <td>0.010976</td>\n      <td>7.420734e+05</td>\n      <td>432.223464</td>\n      <td>7.200937e+05</td>\n      <td>206.872856</td>\n      <td>535.800701</td>\n      <td>94.324022</td>\n      <td>14.678212</td>\n      <td>4.372626</td>\n      <td>9.478771</td>\n      <td>15.229050</td>\n      <td>4.307263</td>\n      <td>9.748603</td>\n      <td>90.000000</td>\n    </tr>\n    <tr>\n      <th>std</th>\n      <td>255.224412</td>\n      <td>1.550831e+08</td>\n      <td>0.014019</td>\n      <td>1.981464e+06</td>\n      <td>255.224412</td>\n      <td>1.903359e+06</td>\n      <td>665.014692</td>\n      <td>1722.388057</td>\n      <td>56.185148</td>\n      <td>13.216496</td>\n      <td>3.559917</td>\n      <td>8.049698</td>\n      <td>15.399476</td>\n      <td>4.064163</td>\n      <td>9.398089</td>\n      <td>51.816986</td>\n    </tr>\n    <tr>\n      <th>min</th>\n      <td>4.000000</td>\n      <td>9.376300e+04</td>\n      <td>-0.087980</td>\n      <td>3.000000e+02</td>\n      <td>4.000000</td>\n      <td>3.000000e+02</td>\n      <td>2.181900</td>\n      <td>5.651200</td>\n      <td>1.000000</td>\n      <td>0.000000</td>\n      <td>0.300000</td>\n      <td>0.400000</td>\n      <td>0.000000</td>\n      <td>0.000000</td>\n      <td>0.000000</td>\n      <td>1.000000</td>\n    </tr>\n    <tr>\n      <th>25%</th>\n      <td>216.000000</td>\n      <td>2.728024e+06</td>\n      <td>0.003835</td>\n      <td>3.004900e+04</td>\n      <td>216.000000</td>\n      <td>2.829500e+04</td>\n      <td>31.552650</td>\n      <td>81.721300</td>\n      <td>45.500000</td>\n      <td>6.700000</td>\n      <td>2.000000</td>\n      <td>4.600000</td>\n      <td>7.000000</td>\n      <td>2.000000</td>\n      <td>4.000000</td>\n      <td>45.500000</td>\n    </tr>\n    <tr>\n      <th>50%</th>\n      <td>426.000000</td>\n      <td>1.014262e+07</td>\n      <td>0.010290</td>\n      <td>1.475700e+05</td>\n      <td>426.000000</td>\n      <td>1.433500e+05</td>\n      <td>83.011800</td>\n      <td>215.000500</td>\n      <td>93.000000</td>\n      <td>11.300000</td>\n      <td>3.300000</td>\n      <td>7.500000</td>\n      <td>11.000000</td>\n      <td>3.000000</td>\n      <td>7.000000</td>\n      <td>90.000000</td>\n    </tr>\n    <tr>\n      <th>75%</th>\n      <td>654.000000</td>\n      <td>3.381742e+07</td>\n      <td>0.019350</td>\n      <td>5.845205e+05</td>\n      <td>654.000000</td>\n      <td>5.742700e+05</td>\n      <td>183.079150</td>\n      <td>474.175000</td>\n      <td>141.500000</td>\n      <td>17.750000</td>\n      <td>6.150000</td>\n      <td>11.800000</td>\n      <td>19.000000</td>\n      <td>6.000000</td>\n      <td>12.500000</td>\n      <td>134.500000</td>\n    </tr>\n    <tr>\n      <th>max</th>\n      <td>894.000000</td>\n      <td>1.425887e+09</td>\n      <td>0.069080</td>\n      <td>1.709824e+07</td>\n      <td>894.000000</td>\n      <td>1.637687e+07</td>\n      <td>8322.686600</td>\n      <td>21555.758400</td>\n      <td>201.000000</td>\n      <td>116.000000</td>\n      <td>30.100000</td>\n      <td>72.400000</td>\n      <td>147.000000</td>\n      <td>39.000000</td>\n      <td>92.000000</td>\n      <td>179.000000</td>\n    </tr>\n  </tbody>\n</table>\n</div>"
     },
     "execution_count": 11,
     "metadata": {},
     "output_type": "execute_result"
    }
   ],
   "source": [
    "df.describe()"
   ]
  },
  {
   "cell_type": "code",
   "execution_count": 12,
   "id": "71d5b70a",
   "metadata": {},
   "outputs": [
    {
     "data": {
      "text/plain": "<AxesSubplot:>"
     },
     "execution_count": 12,
     "metadata": {},
     "output_type": "execute_result"
    },
    {
     "data": {
      "text/plain": "<Figure size 640x480 with 1 Axes>",
      "image/png": "[encoded data removed]"
     },
     "metadata": {},
     "output_type": "display_data"
    }
   ],
   "source": [
    "sns.heatmap(df.isna(),yticklabels=False,cbar=False, cmap='viridis')"
   ]
  },
  {
   "cell_type": "code",
   "execution_count": 13,
   "id": "fc7aae48",
   "metadata": {},
   "outputs": [
    {
     "data": {
      "text/plain": "Index(['place', 'pop2022', 'growthRate', 'area', 'country', 'cca3', 'cca2',\n       'ccn3', 'region', 'subregion', 'landAreaKm', 'density', 'densityMi',\n       'Rank', 'rate2019male', 'rate2019female', 'rate2019both',\n       'rate2015male', 'rate2015female', 'rate2015both', 'rank'],\n      dtype='object')"
     },
     "execution_count": 13,
     "metadata": {},
     "output_type": "execute_result"
    }
   ],
   "source": [
    "df.columns"
   ]
  },
  {
   "cell_type": "code",
   "execution_count": 14,
   "id": "6e801c16",
   "metadata": {},
   "outputs": [
    {
     "data": {
      "text/plain": "(array([58]),)"
     },
     "execution_count": 14,
     "metadata": {},
     "output_type": "execute_result"
    }
   ],
   "source": [
    "np.where(df['cca2'].isna())"
   ]
  },
  {
   "cell_type": "code",
   "execution_count": 15,
   "id": "3d768e52",
   "metadata": {},
   "outputs": [
    {
     "data": {
      "text/plain": "(nan, 'Namibia', 516)"
     },
     "execution_count": 15,
     "metadata": {},
     "output_type": "execute_result"
    }
   ],
   "source": [
    "df['cca2'].iloc[58],df['country'].iloc[58],df['ccn3'].iloc[58]"
   ]
  },
  {
   "cell_type": "markdown",
   "id": "b7042110",
   "metadata": {},
   "source": [
    "cca2 is ISO 3166-1 alpha-2 codes are two-letter country codes defined in ISO 3166-1, part of the ISO 3166 standard[1] published by the International Organization for Standardization (ISO), to represent countries, dependent territories, and special areas of geographical interest. "
   ]
  },
  {
   "cell_type": "markdown",
   "id": "c4a8cf79",
   "metadata": {},
   "source": [
    "Filling the missing value in cca2 column"
   ]
  },
  {
   "cell_type": "code",
   "execution_count": 16,
   "id": "8ef09325",
   "metadata": {},
   "outputs": [],
   "source": [
    "df['cca2'].fillna(value='NA',inplace=True)"
   ]
  },
  {
   "cell_type": "code",
   "execution_count": 17,
   "id": "ef36a838",
   "metadata": {},
   "outputs": [
    {
     "data": {
      "text/plain": "<AxesSubplot:>"
     },
     "execution_count": 17,
     "metadata": {},
     "output_type": "execute_result"
    },
    {
     "data": {
      "text/plain": "<Figure size 640x480 with 1 Axes>",
      "image/png": "[encoded data removed]"
     },
     "metadata": {},
     "output_type": "display_data"
    }
   ],
   "source": [
    "sns.heatmap(df.isna(),yticklabels=False,cbar=False, cmap='viridis')"
   ]
  },
  {
   "cell_type": "markdown",
   "id": "a2e40c54",
   "metadata": {},
   "source": [
    "## EDA"
   ]
  },
  {
   "cell_type": "markdown",
   "id": "d72ccc34",
   "metadata": {},
   "source": [
    "### Male suicide rate in 2019"
   ]
  },
  {
   "cell_type": "code",
   "execution_count": 18,
   "id": "f85209d9",
   "metadata": {
    "scrolled": true
   },
   "outputs": [
    {
     "data": {
      "text/plain": "<AxesSubplot:xlabel='rate2019male', ylabel='Count'>"
     },
     "execution_count": 18,
     "metadata": {},
     "output_type": "execute_result"
    },
    {
     "data": {
      "text/plain": "<Figure size 640x480 with 1 Axes>",
      "image/png": "[encoded data removed]"
     },
     "metadata": {},
     "output_type": "display_data"
    }
   ],
   "source": [
    "sns.histplot(x='rate2019male',bins=50,data=df,kde=True)"
   ]
  },
  {
   "cell_type": "code",
   "execution_count": 19,
   "id": "aa5995a2",
   "metadata": {},
   "outputs": [
    {
     "data": {
      "application/vnd.plotly.v1+json": {
       "data": [
        {
         "colorbar": {
          "title": {
           "text": "Suicide rate(2019)"
          }
         },
         "locations": [
          "LSO",
          "GUY",
          "SWZ",
          "KOR",
          "KIR",
          "FSM",
          "LTU",
          "SUR",
          "RUS",
          "ZAF",
          "UKR",
          "BLR",
          "URY",
          "MNE",
          "LVA",
          "SVN",
          "BEL",
          "VUT",
          "MNG",
          "KAZ",
          "HUN",
          "HRV",
          "USA",
          "BWA",
          "JPN",
          "FIN",
          "EST",
          "SWE",
          "MDA",
          "SLB",
          "AUT",
          "CUB",
          "CHE",
          "ZWE",
          "LKA",
          "FRA",
          "MOZ",
          "IND",
          "WSM",
          "AUS",
          "DEU",
          "CAF",
          "SVK",
          "ISL",
          "CAN",
          "NLD",
          "NOR",
          "PRT",
          "SRB",
          "POL",
          "LUX",
          "SGP",
          "NZL",
          "ERI",
          "BIH",
          "DNK",
          "ROU",
          "BGR",
          "NAM",
          "HTI",
          "IRL",
          "DJI",
          "MUS",
          "PRK",
          "MKD",
          "GEO",
          "NPL",
          "CMR",
          "CHL",
          "FJI",
          "PAK",
          "CIV",
          "BHR",
          "THA",
          "TGO",
          "TTO",
          "ARG",
          "GAB",
          "CHN",
          "CRI",
          "SYC",
          "UZB",
          "GBR",
          "SOM",
          "GNQ",
          "LCA",
          "BEN",
          "ESP",
          "ECU",
          "VNM",
          "BFA",
          "KGZ",
          "ZMB",
          "MAR",
          "BLZ",
          "GIN",
          "GNB",
          "BRA",
          "COD",
          "ITA",
          "SLE",
          "GHA",
          "TCD",
          "ARE",
          "BDI",
          "BOL",
          "KEN",
          "AGO",
          "SLV",
          "MLT",
          "SAU",
          "SEN",
          "PRY",
          "GTM",
          "YEM",
          "QAT",
          "MYS",
          "TKM",
          "RWA",
          "MDG",
          "ETH",
          "MWI",
          "LAO",
          "COM",
          "MEX",
          "NER",
          "ISR",
          "IRN",
          "GRC",
          "KHM",
          "DOM",
          "OMN",
          "GMB",
          "UGA",
          "BTN",
          "LBY",
          "LBR",
          "NIC",
          "TZA",
          "TJK",
          "ALB",
          "AFG",
          "MLI",
          "AZE",
          "COL",
          "SSD",
          "SDN",
          "TON",
          "BGD",
          "TLS",
          "IRQ",
          "CYP",
          "NGA",
          "BHS",
          "TUN",
          "ARM",
          "MRT",
          "EGY",
          "PNG",
          "MMR",
          "PAN",
          "KWT",
          "PER",
          "LBN",
          "MDV",
          "BRN",
          "DZA",
          "IDN",
          "TUR",
          "JAM",
          "PHL",
          "VEN",
          "HND",
          "JOR",
          "STP",
          "VCT",
          "GRD",
          "BRB",
          "ATG"
         ],
         "text": [
          "Lesotho",
          "Guyana",
          "Eswatini",
          "South Korea",
          "Kiribati",
          "Micronesia",
          "Lithuania",
          "Suriname",
          "Russia",
          "South Africa",
          "Ukraine",
          "Belarus",
          "Uruguay",
          "Montenegro",
          "Latvia",
          "Slovenia",
          "Belgium",
          "Vanuatu",
          "Mongolia",
          "Kazakhstan",
          "Hungary",
          "Croatia",
          "United States",
          "Botswana",
          "Japan",
          "Finland",
          "Estonia",
          "Sweden",
          "Moldova",
          "Solomon Islands",
          "Austria",
          "Cuba",
          "Switzerland",
          "Zimbabwe",
          "Sri Lanka",
          "France",
          "Mozambique",
          "India",
          "Samoa",
          "Australia",
          "Germany",
          "Central African Republic",
          "Slovakia",
          "Iceland",
          "Canada",
          "Netherlands",
          "Norway",
          "Portugal",
          "Serbia",
          "Poland",
          "Luxembourg",
          "Singapore",
          "New Zealand",
          "Eritrea",
          "Bosnia and Herzegovina",
          "Denmark",
          "Romania",
          "Bulgaria",
          "Namibia",
          "Haiti",
          "Ireland",
          "Djibouti",
          "Mauritius",
          "North Korea",
          "North Macedonia",
          "Georgia",
          "Nepal",
          "Cameroon",
          "Chile",
          "Fiji",
          "Pakistan",
          "Ivory Coast",
          "Bahrain",
          "Thailand",
          "Togo",
          "Trinidad and Tobago",
          "Argentina",
          "Gabon",
          "China",
          "Costa Rica",
          "Seychelles",
          "Uzbekistan",
          "United Kingdom",
          "Somalia",
          "Equatorial Guinea",
          "Saint Lucia",
          "Benin",
          "Spain",
          "Ecuador",
          "Vietnam",
          "Burkina Faso",
          "Kyrgyzstan",
          "Zambia",
          "Morocco",
          "Belize",
          "Guinea",
          "Guinea-Bissau",
          "Brazil",
          "DR Congo",
          "Italy",
          "Sierra Leone",
          "Ghana",
          "Chad",
          "United Arab Emirates",
          "Burundi",
          "Bolivia",
          "Kenya",
          "Angola",
          "El Salvador",
          "Malta",
          "Saudi Arabia",
          "Senegal",
          "Paraguay",
          "Guatemala",
          "Yemen",
          "Qatar",
          "Malaysia",
          "Turkmenistan",
          "Rwanda",
          "Madagascar",
          "Ethiopia",
          "Malawi",
          "Laos",
          "Comoros",
          "Mexico",
          "Niger",
          "Israel",
          "Iran",
          "Greece",
          "Cambodia",
          "Dominican Republic",
          "Oman",
          "Gambia",
          "Uganda",
          "Bhutan",
          "Libya",
          "Liberia",
          "Nicaragua",
          "Tanzania",
          "Tajikistan",
          "Albania",
          "Afghanistan",
          "Mali",
          "Azerbaijan",
          "Colombia",
          "South Sudan",
          "Sudan",
          "Tonga",
          "Bangladesh",
          "Timor-Leste",
          "Iraq",
          "Cyprus",
          "Nigeria",
          "Bahamas",
          "Tunisia",
          "Armenia",
          "Mauritania",
          "Egypt",
          "Papua New Guinea",
          "Myanmar",
          "Panama",
          "Kuwait",
          "Peru",
          "Lebanon",
          "Maldives",
          "Brunei",
          "Algeria",
          "Indonesia",
          "Turkey",
          "Jamaica",
          "Philippines",
          "Venezuela",
          "Honduras",
          "Jordan",
          "Sao Tome and Principe",
          "Saint Vincent and the Grenadines",
          "Grenada",
          "Barbados",
          "Antigua and Barbuda"
         ],
         "z": [
          116.0,
          63.0,
          55.1,
          40.2,
          48.6,
          43.2,
          45.4,
          38.8,
          43.6,
          37.6,
          39.2,
          36.7,
          34.5,
          31.7,
          35.5,
          31.4,
          24.9,
          28.1,
          30.7,
          29.0,
          25.9,
          25.3,
          25.0,
          26.3,
          21.8,
          23.2,
          24.3,
          19.9,
          26.1,
          27.0,
          22.8,
          23.0,
          20.2,
          20.0,
          22.3,
          20.4,
          22.0,
          14.1,
          18.0,
          18.6,
          18.6,
          19.6,
          21.2,
          19.8,
          17.6,
          15.5,
          15.8,
          17.9,
          16.6,
          20.1,
          15.3,
          15.0,
          16.5,
          16.6,
          17.6,
          14.9,
          16.5,
          15.3,
          16.7,
          11.8,
          15.4,
          12.6,
          16.3,
          11.2,
          13.9,
          16.0,
          16.4,
          13.6,
          14.9,
          12.2,
          13.3,
          14.9,
          12.5,
          15.0,
          13.8,
          13.9,
          13.7,
          14.2,
          9.8,
          14.1,
          14.4,
          11.3,
          11.8,
          12.0,
          9.4,
          14.3,
          11.8,
          11.4,
          11.6,
          10.4,
          11.3,
          11.7,
          12.0,
          9.7,
          12.5,
          9.2,
          10.2,
          10.9,
          10.6,
          10.1,
          8.3,
          11.8,
          9.6,
          8.0,
          9.2,
          8.4,
          9.1,
          10.0,
          10.5,
          9.8,
          8.9,
          9.2,
          8.7,
          9.3,
          7.0,
          7.2,
          8.9,
          8.8,
          8.2,
          7.6,
          7.7,
          9.2,
          7.6,
          7.0,
          8.5,
          7.2,
          8.4,
          7.7,
          8.4,
          7.0,
          8.0,
          6.8,
          6.6,
          7.6,
          6.3,
          6.0,
          5.6,
          6.9,
          6.6,
          5.7,
          5.9,
          4.6,
          5.3,
          6.6,
          6.1,
          5.7,
          4.9,
          5.0,
          5.7,
          5.3,
          5.2,
          6.0,
          5.0,
          5.9,
          4.7,
          5.6,
          4.0,
          4.0,
          4.3,
          4.9,
          4.7,
          4.3,
          4.2,
          3.8,
          3.9,
          4.4,
          3.1,
          3.7,
          3.6,
          3.7,
          3.1,
          3.5,
          3.3,
          2.5,
          2.2,
          1.3,
          0.6,
          0.9,
          0.0
         ],
         "type": "choropleth"
        }
       ],
       "layout": {
        "geo": {
         "showframe": true
        },
        "template": {
         "data": {
          "barpolar": [
           {
            "marker": {
             "line": {
              "color": "rgb(17,17,17)",
              "width": 0.5
             },
             "pattern": {
              "fillmode": "overlay",
              "size": 10,
              "solidity": 0.2
             }
            },
            "type": "barpolar"
           }
          ],
          "bar": [
           {
            "error_x": {
             "color": "#f2f5fa"
            },
            "error_y": {
             "color": "#f2f5fa"
            },
            "marker": {
             "line": {
              "color": "rgb(17,17,17)",
              "width": 0.5
             },
             "pattern": {
              "fillmode": "overlay",
              "size": 10,
              "solidity": 0.2
             }
            },
            "type": "bar"
           }
          ],
          "carpet": [
           {
            "aaxis": {
             "endlinecolor": "#A2B1C6",
             "gridcolor": "#506784",
             "linecolor": "#506784",
             "minorgridcolor": "#506784",
             "startlinecolor": "#A2B1C6"
            },
            "baxis": {
             "endlinecolor": "#A2B1C6",
             "gridcolor": "#506784",
             "linecolor": "#506784",
             "minorgridcolor": "#506784",
             "startlinecolor": "#A2B1C6"
            },
            "type": "carpet"
           }
          ],
          "choropleth": [
           {
            "colorbar": {
             "outlinewidth": 0,
             "ticks": ""
            },
            "type": "choropleth"
           }
          ],
          "contourcarpet": [
           {
            "colorbar": {
             "outlinewidth": 0,
             "ticks": ""
            },
            "type": "contourcarpet"
           }
          ],
          "contour": [
           {
            "colorbar": {
             "outlinewidth": 0,
             "ticks": ""
            },
            "colorscale": [
             [
              0.0,
              "#0d0887"
             ],
             [
              0.1111111111111111,
              "#46039f"
             ],
             [
              0.2222222222222222,
              "#7201a8"
             ],
             [
              0.3333333333333333,
              "#9c179e"
             ],
             [
              0.4444444444444444,
              "#bd3786"
             ],
             [
              0.5555555555555556,
              "#d8576b"
             ],
             [
              0.6666666666666666,
              "#ed7953"
             ],
             [
              0.7777777777777778,
              "#fb9f3a"
             ],
             [
              0.8888888888888888,
              "#fdca26"
             ],
             [
              1.0,
              "#f0f921"
             ]
            ],
            "type": "contour"
           }
          ],
          "heatmapgl": [
           {
            "colorbar": {
             "outlinewidth": 0,
             "ticks": ""
            },
            "colorscale": [
             [
              0.0,
              "#0d0887"
             ],
             [
              0.1111111111111111,
              "#46039f"
             ],
             [
              0.2222222222222222,
              "#7201a8"
             ],
             [
              0.3333333333333333,
              "#9c179e"
             ],
             [
              0.4444444444444444,
              "#bd3786"
             ],
             [
              0.5555555555555556,
              "#d8576b"
             ],
             [
              0.6666666666666666,
              "#ed7953"
             ],
             [
              0.7777777777777778,
              "#fb9f3a"
             ],
             [
              0.8888888888888888,
              "#fdca26"
             ],
             [
              1.0,
              "#f0f921"
             ]
            ],
            "type": "heatmapgl"
           }
          ],
          "heatmap": [
           {
            "colorbar": {
             "outlinewidth": 0,
             "ticks": ""
            },
            "colorscale": [
             [
              0.0,
              "#0d0887"
             ],
             [
              0.1111111111111111,
              "#46039f"
             ],
             [
              0.2222222222222222,
              "#7201a8"
             ],
             [
              0.3333333333333333,
              "#9c179e"
             ],
             [
              0.4444444444444444,
              "#bd3786"
             ],
             [
              0.5555555555555556,
              "#d8576b"
             ],
             [
              0.6666666666666666,
              "#ed7953"
             ],
             [
              0.7777777777777778,
              "#fb9f3a"
             ],
             [
              0.8888888888888888,
              "#fdca26"
             ],
             [
              1.0,
              "#f0f921"
             ]
            ],
            "type": "heatmap"
           }
          ],
          "histogram2dcontour": [
           {
            "colorbar": {
             "outlinewidth": 0,
             "ticks": ""
            },
            "colorscale": [
             [
              0.0,
              "#0d0887"
             ],
             [
              0.1111111111111111,
              "#46039f"
             ],
             [
              0.2222222222222222,
              "#7201a8"
             ],
             [
              0.3333333333333333,
              "#9c179e"
             ],
             [
              0.4444444444444444,
              "#bd3786"
             ],
             [
              0.5555555555555556,
              "#d8576b"
             ],
             [
              0.6666666666666666,
              "#ed7953"
             ],
             [
              0.7777777777777778,
              "#fb9f3a"
             ],
             [
              0.8888888888888888,
              "#fdca26"
             ],
             [
              1.0,
              "#f0f921"
             ]
            ],
            "type": "histogram2dcontour"
           }
          ],
          "histogram2d": [
           {
            "colorbar": {
             "outlinewidth": 0,
             "ticks": ""
            },
            "colorscale": [
             [
              0.0,
              "#0d0887"
             ],
             [
              0.1111111111111111,
              "#46039f"
             ],
             [
              0.2222222222222222,
              "#7201a8"
             ],
             [
              0.3333333333333333,
              "#9c179e"
             ],
             [
              0.4444444444444444,
              "#bd3786"
             ],
             [
              0.5555555555555556,
              "#d8576b"
             ],
             [
              0.6666666666666666,
              "#ed7953"
             ],
             [
              0.7777777777777778,
              "#fb9f3a"
             ],
             [
              0.8888888888888888,
              "#fdca26"
             ],
             [
              1.0,
              "#f0f921"
             ]
            ],
            "type": "histogram2d"
           }
          ],
          "histogram": [
           {
            "marker": {
             "pattern": {
              "fillmode": "overlay",
              "size": 10,
              "solidity": 0.2
             }
            },
            "type": "histogram"
           }
          ],
          "mesh3d": [
           {
            "colorbar": {
             "outlinewidth": 0,
             "ticks": ""
            },
            "type": "mesh3d"
           }
          ],
          "parcoords": [
           {
            "line": {
             "colorbar": {
              "outlinewidth": 0,
              "ticks": ""
             }
            },
            "type": "parcoords"
           }
          ],
          "pie": [
           {
            "automargin": true,
            "type": "pie"
           }
          ],
          "scatter3d": [
           {
            "line": {
             "colorbar": {
              "outlinewidth": 0,
              "ticks": ""
             }
            },
            "marker": {
             "colorbar": {
              "outlinewidth": 0,
              "ticks": ""
             }
            },
            "type": "scatter3d"
           }
          ],
          "scattercarpet": [
           {
            "marker": {
             "colorbar": {
              "outlinewidth": 0,
              "ticks": ""
             }
            },
            "type": "scattercarpet"
           }
          ],
          "scattergeo": [
           {
            "marker": {
             "colorbar": {
              "outlinewidth": 0,
              "ticks": ""
             }
            },
            "type": "scattergeo"
           }
          ],
          "scattergl": [
           {
            "marker": {
             "line": {
              "color": "#283442"
             }
            },
            "type": "scattergl"
           }
          ],
          "scattermapbox": [
           {
            "marker": {
             "colorbar": {
              "outlinewidth": 0,
              "ticks": ""
             }
            },
            "type": "scattermapbox"
           }
          ],
          "scatterpolargl": [
           {
            "marker": {
             "colorbar": {
              "outlinewidth": 0,
              "ticks": ""
             }
            },
            "type": "scatterpolargl"
           }
          ],
          "scatterpolar": [
           {
            "marker": {
             "colorbar": {
              "outlinewidth": 0,
              "ticks": ""
             }
            },
            "type": "scatterpolar"
           }
          ],
          "scatter": [
           {
            "marker": {
             "line": {
              "color": "#283442"
             }
            },
            "type": "scatter"
           }
          ],
          "scatterternary": [
           {
            "marker": {
             "colorbar": {
              "outlinewidth": 0,
              "ticks": ""
             }
            },
            "type": "scatterternary"
           }
          ],
          "surface": [
           {
            "colorbar": {
             "outlinewidth": 0,
             "ticks": ""
            },
            "colorscale": [
             [
              0.0,
              "#0d0887"
             ],
             [
              0.1111111111111111,
              "#46039f"
             ],
             [
              0.2222222222222222,
              "#7201a8"
             ],
             [
              0.3333333333333333,
              "#9c179e"
             ],
             [
              0.4444444444444444,
              "#bd3786"
             ],
             [
              0.5555555555555556,
              "#d8576b"
             ],
             [
              0.6666666666666666,
              "#ed7953"
             ],
             [
              0.7777777777777778,
              "#fb9f3a"
             ],
             [
              0.8888888888888888,
              "#fdca26"
             ],
             [
              1.0,
              "#f0f921"
             ]
            ],
            "type": "surface"
           }
          ],
          "table": [
           {
            "cells": {
             "fill": {
              "color": "#506784"
             },
             "line": {
              "color": "rgb(17,17,17)"
             }
            },
            "header": {
             "fill": {
              "color": "#2a3f5f"
             },
             "line": {
              "color": "rgb(17,17,17)"
             }
            },
            "type": "table"
           }
          ]
         },
         "layout": {
          "annotationdefaults": {
           "arrowcolor": "#f2f5fa",
           "arrowhead": 0,
           "arrowwidth": 1
          },
          "autotypenumbers": "strict",
          "coloraxis": {
           "colorbar": {
            "outlinewidth": 0,
            "ticks": ""
           }
          },
          "colorscale": {
           "diverging": [
            [
             0,
             "#8e0152"
            ],
            [
             0.1,
             "#c51b7d"
            ],
            [
             0.2,
             "#de77ae"
            ],
            [
             0.3,
             "#f1b6da"
            ],
            [
             0.4,
             "#fde0ef"
            ],
            [
             0.5,
             "#f7f7f7"
            ],
            [
             0.6,
             "#e6f5d0"
            ],
            [
             0.7,
             "#b8e186"
            ],
            [
             0.8,
             "#7fbc41"
            ],
            [
             0.9,
             "#4d9221"
            ],
            [
             1,
             "#276419"
            ]
           ],
           "sequential": [
            [
             0.0,
             "#0d0887"
            ],
            [
             0.1111111111111111,
             "#46039f"
            ],
            [
             0.2222222222222222,
             "#7201a8"
            ],
            [
             0.3333333333333333,
             "#9c179e"
            ],
            [
             0.4444444444444444,
             "#bd3786"
            ],
            [
             0.5555555555555556,
             "#d8576b"
            ],
            [
             0.6666666666666666,
             "#ed7953"
            ],
            [
             0.7777777777777778,
             "#fb9f3a"
            ],
            [
             0.8888888888888888,
             "#fdca26"
            ],
            [
             1.0,
             "#f0f921"
            ]
           ],
           "sequentialminus": [
            [
             0.0,
             "#0d0887"
            ],
            [
             0.1111111111111111,
             "#46039f"
            ],
            [
             0.2222222222222222,
             "#7201a8"
            ],
            [
             0.3333333333333333,
             "#9c179e"
            ],
            [
             0.4444444444444444,
             "#bd3786"
            ],
            [
             0.5555555555555556,
             "#d8576b"
            ],
            [
             0.6666666666666666,
             "#ed7953"
            ],
            [
             0.7777777777777778,
             "#fb9f3a"
            ],
            [
             0.8888888888888888,
             "#fdca26"
            ],
            [
             1.0,
             "#f0f921"
            ]
           ]
          },
          "colorway": [
           "#636efa",
           "#EF553B",
           "#00cc96",
           "#ab63fa",
           "#FFA15A",
           "#19d3f3",
           "#FF6692",
           "#B6E880",
           "#FF97FF",
           "#FECB52"
          ],
          "font": {
           "color": "#f2f5fa"
          },
          "geo": {
           "bgcolor": "rgb(17,17,17)",
           "lakecolor": "rgb(17,17,17)",
           "landcolor": "rgb(17,17,17)",
           "showlakes": true,
           "showland": true,
           "subunitcolor": "#506784"
          },
          "hoverlabel": {
           "align": "left"
          },
          "hovermode": "closest",
          "mapbox": {
           "style": "dark"
          },
          "paper_bgcolor": "rgb(17,17,17)",
          "plot_bgcolor": "rgb(17,17,17)",
          "polar": {
           "angularaxis": {
            "gridcolor": "#506784",
            "linecolor": "#506784",
            "ticks": ""
           },
           "bgcolor": "rgb(17,17,17)",
           "radialaxis": {
            "gridcolor": "#506784",
            "linecolor": "#506784",
            "ticks": ""
           }
          },
          "scene": {
           "xaxis": {
            "backgroundcolor": "rgb(17,17,17)",
            "gridcolor": "#506784",
            "gridwidth": 2,
            "linecolor": "#506784",
            "showbackground": true,
            "ticks": "",
            "zerolinecolor": "#C8D4E3"
           },
           "yaxis": {
            "backgroundcolor": "rgb(17,17,17)",
            "gridcolor": "#506784",
            "gridwidth": 2,
            "linecolor": "#506784",
            "showbackground": true,
            "ticks": "",
            "zerolinecolor": "#C8D4E3"
           },
           "zaxis": {
            "backgroundcolor": "rgb(17,17,17)",
            "gridcolor": "#506784",
            "gridwidth": 2,
            "linecolor": "#506784",
            "showbackground": true,
            "ticks": "",
            "zerolinecolor": "#C8D4E3"
           }
          },
          "shapedefaults": {
           "line": {
            "color": "#f2f5fa"
           }
          },
          "sliderdefaults": {
           "bgcolor": "#C8D4E3",
           "bordercolor": "rgb(17,17,17)",
           "borderwidth": 1,
           "tickwidth": 0
          },
          "ternary": {
           "aaxis": {
            "gridcolor": "#506784",
            "linecolor": "#506784",
            "ticks": ""
           },
           "baxis": {
            "gridcolor": "#506784",
            "linecolor": "#506784",
            "ticks": ""
           },
           "bgcolor": "rgb(17,17,17)",
           "caxis": {
            "gridcolor": "#506784",
            "linecolor": "#506784",
            "ticks": ""
           }
          },
          "title": {
           "x": 0.05
          },
          "updatemenudefaults": {
           "bgcolor": "#506784",
           "borderwidth": 0
          },
          "xaxis": {
           "automargin": true,
           "gridcolor": "#283442",
           "linecolor": "#506784",
           "ticks": "",
           "title": {
            "standoff": 15
           },
           "zerolinecolor": "#283442",
           "zerolinewidth": 2
          },
          "yaxis": {
           "automargin": true,
           "gridcolor": "#283442",
           "linecolor": "#506784",
           "ticks": "",
           "title": {
            "standoff": 15
           },
           "zerolinecolor": "#283442",
           "zerolinewidth": 2
          }
         }
        },
        "title": {
         "text": "Male suicide rate(2019)"
        }
       },
       "config": {
        "showLink": false,
        "linkText": "Export to plot.ly",
        "plotlyServerURL": "https://plot.ly"
       }
      },
      "text/html": "<div>                            <div id=\"5381272f-d536-4039-af1b-b4d17a43b394\" class=\"plotly-graph-div\" style=\"height:525px; width:100%;\"></div>            <script type=\"text/javascript\">                require([\"plotly\"], function(Plotly) {                    window.PLOTLYENV=window.PLOTLYENV || {};                                    if (document.getElementById(\"5381272f-d536-4039-af1b-b4d17a43b394\")) {                    Plotly.newPlot(                        \"5381272f-d536-4039-af1b-b4d17a43b394\",                        [{\"colorbar\":{\"title\":{\"text\":\"Suicide rate(2019)\"}},\"locations\":[\"LSO\",\"GUY\",\"SWZ\",\"KOR\",\"KIR\",\"FSM\",\"LTU\",\"SUR\",\"RUS\",\"ZAF\",\"UKR\",\"BLR\",\"URY\",\"MNE\",\"LVA\",\"SVN\",\"BEL\",\"VUT\",\"MNG\",\"KAZ\",\"HUN\",\"HRV\",\"USA\",\"BWA\",\"JPN\",\"FIN\",\"EST\",\"SWE\",\"MDA\",\"SLB\",\"AUT\",\"CUB\",\"CHE\",\"ZWE\",\"LKA\",\"FRA\",\"MOZ\",\"IND\",\"WSM\",\"AUS\",\"DEU\",\"CAF\",\"SVK\",\"ISL\",\"CAN\",\"NLD\",\"NOR\",\"PRT\",\"SRB\",\"POL\",\"LUX\",\"SGP\",\"NZL\",\"ERI\",\"BIH\",\"DNK\",\"ROU\",\"BGR\",\"NAM\",\"HTI\",\"IRL\",\"DJI\",\"MUS\",\"PRK\",\"MKD\",\"GEO\",\"NPL\",\"CMR\",\"CHL\",\"FJI\",\"PAK\",\"CIV\",\"BHR\",\"THA\",\"TGO\",\"TTO\",\"ARG\",\"GAB\",\"CHN\",\"CRI\",\"SYC\",\"UZB\",\"GBR\",\"SOM\",\"GNQ\",\"LCA\",\"BEN\",\"ESP\",\"ECU\",\"VNM\",\"BFA\",\"KGZ\",\"ZMB\",\"MAR\",\"BLZ\",\"GIN\",\"GNB\",\"BRA\",\"COD\",\"ITA\",\"SLE\",\"GHA\",\"TCD\",\"ARE\",\"BDI\",\"BOL\",\"KEN\",\"AGO\",\"SLV\",\"MLT\",\"SAU\",\"SEN\",\"PRY\",\"GTM\",\"YEM\",\"QAT\",\"MYS\",\"TKM\",\"RWA\",\"MDG\",\"ETH\",\"MWI\",\"LAO\",\"COM\",\"MEX\",\"NER\",\"ISR\",\"IRN\",\"GRC\",\"KHM\",\"DOM\",\"OMN\",\"GMB\",\"UGA\",\"BTN\",\"LBY\",\"LBR\",\"NIC\",\"TZA\",\"TJK\",\"ALB\",\"AFG\",\"MLI\",\"AZE\",\"COL\",\"SSD\",\"SDN\",\"TON\",\"BGD\",\"TLS\",\"IRQ\",\"CYP\",\"NGA\",\"BHS\",\"TUN\",\"ARM\",\"MRT\",\"EGY\",\"PNG\",\"MMR\",\"PAN\",\"KWT\",\"PER\",\"LBN\",\"MDV\",\"BRN\",\"DZA\",\"IDN\",\"TUR\",\"JAM\",\"PHL\",\"VEN\",\"HND\",\"JOR\",\"STP\",\"VCT\",\"GRD\",\"BRB\",\"ATG\"],\"text\":[\"Lesotho\",\"Guyana\",\"Eswatini\",\"South Korea\",\"Kiribati\",\"Micronesia\",\"Lithuania\",\"Suriname\",\"Russia\",\"South Africa\",\"Ukraine\",\"Belarus\",\"Uruguay\",\"Montenegro\",\"Latvia\",\"Slovenia\",\"Belgium\",\"Vanuatu\",\"Mongolia\",\"Kazakhstan\",\"Hungary\",\"Croatia\",\"United States\",\"Botswana\",\"Japan\",\"Finland\",\"Estonia\",\"Sweden\",\"Moldova\",\"Solomon Islands\",\"Austria\",\"Cuba\",\"Switzerland\",\"Zimbabwe\",\"Sri Lanka\",\"France\",\"Mozambique\",\"India\",\"Samoa\",\"Australia\",\"Germany\",\"Central African Republic\",\"Slovakia\",\"Iceland\",\"Canada\",\"Netherlands\",\"Norway\",\"Portugal\",\"Serbia\",\"Poland\",\"Luxembourg\",\"Singapore\",\"New Zealand\",\"Eritrea\",\"Bosnia and Herzegovina\",\"Denmark\",\"Romania\",\"Bulgaria\",\"Namibia\",\"Haiti\",\"Ireland\",\"Djibouti\",\"Mauritius\",\"North Korea\",\"North Macedonia\",\"Georgia\",\"Nepal\",\"Cameroon\",\"Chile\",\"Fiji\",\"Pakistan\",\"Ivory Coast\",\"Bahrain\",\"Thailand\",\"Togo\",\"Trinidad and Tobago\",\"Argentina\",\"Gabon\",\"China\",\"Costa Rica\",\"Seychelles\",\"Uzbekistan\",\"United Kingdom\",\"Somalia\",\"Equatorial Guinea\",\"Saint Lucia\",\"Benin\",\"Spain\",\"Ecuador\",\"Vietnam\",\"Burkina Faso\",\"Kyrgyzstan\",\"Zambia\",\"Morocco\",\"Belize\",\"Guinea\",\"Guinea-Bissau\",\"Brazil\",\"DR Congo\",\"Italy\",\"Sierra Leone\",\"Ghana\",\"Chad\",\"United Arab Emirates\",\"Burundi\",\"Bolivia\",\"Kenya\",\"Angola\",\"El Salvador\",\"Malta\",\"Saudi Arabia\",\"Senegal\",\"Paraguay\",\"Guatemala\",\"Yemen\",\"Qatar\",\"Malaysia\",\"Turkmenistan\",\"Rwanda\",\"Madagascar\",\"Ethiopia\",\"Malawi\",\"Laos\",\"Comoros\",\"Mexico\",\"Niger\",\"Israel\",\"Iran\",\"Greece\",\"Cambodia\",\"Dominican Republic\",\"Oman\",\"Gambia\",\"Uganda\",\"Bhutan\",\"Libya\",\"Liberia\",\"Nicaragua\",\"Tanzania\",\"Tajikistan\",\"Albania\",\"Afghanistan\",\"Mali\",\"Azerbaijan\",\"Colombia\",\"South Sudan\",\"Sudan\",\"Tonga\",\"Bangladesh\",\"Timor-Leste\",\"Iraq\",\"Cyprus\",\"Nigeria\",\"Bahamas\",\"Tunisia\",\"Armenia\",\"Mauritania\",\"Egypt\",\"Papua New Guinea\",\"Myanmar\",\"Panama\",\"Kuwait\",\"Peru\",\"Lebanon\",\"Maldives\",\"Brunei\",\"Algeria\",\"Indonesia\",\"Turkey\",\"Jamaica\",\"Philippines\",\"Venezuela\",\"Honduras\",\"Jordan\",\"Sao Tome and Principe\",\"Saint Vincent and the Grenadines\",\"Grenada\",\"Barbados\",\"Antigua and Barbuda\"],\"z\":[116.0,63.0,55.1,40.2,48.6,43.2,45.4,38.8,43.6,37.6,39.2,36.7,34.5,31.7,35.5,31.4,24.9,28.1,30.7,29.0,25.9,25.3,25.0,26.3,21.8,23.2,24.3,19.9,26.1,27.0,22.8,23.0,20.2,20.0,22.3,20.4,22.0,14.1,18.0,18.6,18.6,19.6,21.2,19.8,17.6,15.5,15.8,17.9,16.6,20.1,15.3,15.0,16.5,16.6,17.6,14.9,16.5,15.3,16.7,11.8,15.4,12.6,16.3,11.2,13.9,16.0,16.4,13.6,14.9,12.2,13.3,14.9,12.5,15.0,13.8,13.9,13.7,14.2,9.8,14.1,14.4,11.3,11.8,12.0,9.4,14.3,11.8,11.4,11.6,10.4,11.3,11.7,12.0,9.7,12.5,9.2,10.2,10.9,10.6,10.1,8.3,11.8,9.6,8.0,9.2,8.4,9.1,10.0,10.5,9.8,8.9,9.2,8.7,9.3,7.0,7.2,8.9,8.8,8.2,7.6,7.7,9.2,7.6,7.0,8.5,7.2,8.4,7.7,8.4,7.0,8.0,6.8,6.6,7.6,6.3,6.0,5.6,6.9,6.6,5.7,5.9,4.6,5.3,6.6,6.1,5.7,4.9,5.0,5.7,5.3,5.2,6.0,5.0,5.9,4.7,5.6,4.0,4.0,4.3,4.9,4.7,4.3,4.2,3.8,3.9,4.4,3.1,3.7,3.6,3.7,3.1,3.5,3.3,2.5,2.2,1.3,0.6,0.9,0.0],\"type\":\"choropleth\"}],                        {\"geo\":{\"showframe\":true},\"template\":{\"data\":{\"barpolar\":[{\"marker\":{\"line\":{\"color\":\"rgb(17,17,17)\",\"width\":0.5},\"pattern\":{\"fillmode\":\"overlay\",\"size\":10,\"solidity\":0.2}},\"type\":\"barpolar\"}],\"bar\":[{\"error_x\":{\"color\":\"#f2f5fa\"},\"error_y\":{\"color\":\"#f2f5fa\"},\"marker\":{\"line\":{\"color\":\"rgb(17,17,17)\",\"width\":0.5},\"pattern\":{\"fillmode\":\"overlay\",\"size\":10,\"solidity\":0.2}},\"type\":\"bar\"}],\"carpet\":[{\"aaxis\":{\"endlinecolor\":\"#A2B1C6\",\"gridcolor\":\"#506784\",\"linecolor\":\"#506784\",\"minorgridcolor\":\"#506784\",\"startlinecolor\":\"#A2B1C6\"},\"baxis\":{\"endlinecolor\":\"#A2B1C6\",\"gridcolor\":\"#506784\",\"linecolor\":\"#506784\",\"minorgridcolor\":\"#506784\",\"startlinecolor\":\"#A2B1C6\"},\"type\":\"carpet\"}],\"choropleth\":[{\"colorbar\":{\"outlinewidth\":0,\"ticks\":\"\"},\"type\":\"choropleth\"}],\"contourcarpet\":[{\"colorbar\":{\"outlinewidth\":0,\"ticks\":\"\"},\"type\":\"contourcarpet\"}],\"contour\":[{\"colorbar\":{\"outlinewidth\":0,\"ticks\":\"\"},\"colorscale\":[[0.0,\"#0d0887\"],[0.1111111111111111,\"#46039f\"],[0.2222222222222222,\"#7201a8\"],[0.3333333333333333,\"#9c179e\"],[0.4444444444444444,\"#bd3786\"],[0.5555555555555556,\"#d8576b\"],[0.6666666666666666,\"#ed7953\"],[0.7777777777777778,\"#fb9f3a\"],[0.8888888888888888,\"#fdca26\"],[1.0,\"#f0f921\"]],\"type\":\"contour\"}],\"heatmapgl\":[{\"colorbar\":{\"outlinewidth\":0,\"ticks\":\"\"},\"colorscale\":[[0.0,\"#0d0887\"],[0.1111111111111111,\"#46039f\"],[0.2222222222222222,\"#7201a8\"],[0.3333333333333333,\"#9c179e\"],[0.4444444444444444,\"#bd3786\"],[0.5555555555555556,\"#d8576b\"],[0.6666666666666666,\"#ed7953\"],[0.7777777777777778,\"#fb9f3a\"],[0.8888888888888888,\"#fdca26\"],[1.0,\"#f0f921\"]],\"type\":\"heatmapgl\"}],\"heatmap\":[{\"colorbar\":{\"outlinewidth\":0,\"ticks\":\"\"},\"colorscale\":[[0.0,\"#0d0887\"],[0.1111111111111111,\"#46039f\"],[0.2222222222222222,\"#7201a8\"],[0.3333333333333333,\"#9c179e\"],[0.4444444444444444,\"#bd3786\"],[0.5555555555555556,\"#d8576b\"],[0.6666666666666666,\"#ed7953\"],[0.7777777777777778,\"#fb9f3a\"],[0.8888888888888888,\"#fdca26\"],[1.0,\"#f0f921\"]],\"type\":\"heatmap\"}],\"histogram2dcontour\":[{\"colorbar\":{\"outlinewidth\":0,\"ticks\":\"\"},\"colorscale\":[[0.0,\"#0d0887\"],[0.1111111111111111,\"#46039f\"],[0.2222222222222222,\"#7201a8\"],[0.3333333333333333,\"#9c179e\"],[0.4444444444444444,\"#bd3786\"],[0.5555555555555556,\"#d8576b\"],[0.6666666666666666,\"#ed7953\"],[0.7777777777777778,\"#fb9f3a\"],[0.8888888888888888,\"#fdca26\"],[1.0,\"#f0f921\"]],\"type\":\"histogram2dcontour\"}],\"histogram2d\":[{\"colorbar\":{\"outlinewidth\":0,\"ticks\":\"\"},\"colorscale\":[[0.0,\"#0d0887\"],[0.1111111111111111,\"#46039f\"],[0.2222222222222222,\"#7201a8\"],[0.3333333333333333,\"#9c179e\"],[0.4444444444444444,\"#bd3786\"],[0.5555555555555556,\"#d8576b\"],[0.6666666666666666,\"#ed7953\"],[0.7777777777777778,\"#fb9f3a\"],[0.8888888888888888,\"#fdca26\"],[1.0,\"#f0f921\"]],\"type\":\"histogram2d\"}],\"histogram\":[{\"marker\":{\"pattern\":{\"fillmode\":\"overlay\",\"size\":10,\"solidity\":0.2}},\"type\":\"histogram\"}],\"mesh3d\":[{\"colorbar\":{\"outlinewidth\":0,\"ticks\":\"\"},\"type\":\"mesh3d\"}],\"parcoords\":[{\"line\":{\"colorbar\":{\"outlinewidth\":0,\"ticks\":\"\"}},\"type\":\"parcoords\"}],\"pie\":[{\"automargin\":true,\"type\":\"pie\"}],\"scatter3d\":[{\"line\":{\"colorbar\":{\"outlinewidth\":0,\"ticks\":\"\"}},\"marker\":{\"colorbar\":{\"outlinewidth\":0,\"ticks\":\"\"}},\"type\":\"scatter3d\"}],\"scattercarpet\":[{\"marker\":{\"colorbar\":{\"outlinewidth\":0,\"ticks\":\"\"}},\"type\":\"scattercarpet\"}],\"scattergeo\":[{\"marker\":{\"colorbar\":{\"outlinewidth\":0,\"ticks\":\"\"}},\"type\":\"scattergeo\"}],\"scattergl\":[{\"marker\":{\"line\":{\"color\":\"#283442\"}},\"type\":\"scattergl\"}],\"scattermapbox\":[{\"marker\":{\"colorbar\":{\"outlinewidth\":0,\"ticks\":\"\"}},\"type\":\"scattermapbox\"}],\"scatterpolargl\":[{\"marker\":{\"colorbar\":{\"outlinewidth\":0,\"ticks\":\"\"}},\"type\":\"scatterpolargl\"}],\"scatterpolar\":[{\"marker\":{\"colorbar\":{\"outlinewidth\":0,\"ticks\":\"\"}},\"type\":\"scatterpolar\"}],\"scatter\":[{\"marker\":{\"line\":{\"color\":\"#283442\"}},\"type\":\"scatter\"}],\"scatterternary\":[{\"marker\":{\"colorbar\":{\"outlinewidth\":0,\"ticks\":\"\"}},\"type\":\"scatterternary\"}],\"surface\":[{\"colorbar\":{\"outlinewidth\":0,\"ticks\":\"\"},\"colorscale\":[[0.0,\"#0d0887\"],[0.1111111111111111,\"#46039f\"],[0.2222222222222222,\"#7201a8\"],[0.3333333333333333,\"#9c179e\"],[0.4444444444444444,\"#bd3786\"],[0.5555555555555556,\"#d8576b\"],[0.6666666666666666,\"#ed7953\"],[0.7777777777777778,\"#fb9f3a\"],[0.8888888888888888,\"#fdca26\"],[1.0,\"#f0f921\"]],\"type\":\"surface\"}],\"table\":[{\"cells\":{\"fill\":{\"color\":\"#506784\"},\"line\":{\"color\":\"rgb(17,17,17)\"}},\"header\":{\"fill\":{\"color\":\"#2a3f5f\"},\"line\":{\"color\":\"rgb(17,17,17)\"}},\"type\":\"table\"}]},\"layout\":{\"annotationdefaults\":{\"arrowcolor\":\"#f2f5fa\",\"arrowhead\":0,\"arrowwidth\":1},\"autotypenumbers\":\"strict\",\"coloraxis\":{\"colorbar\":{\"outlinewidth\":0,\"ticks\":\"\"}},\"colorscale\":{\"diverging\":[[0,\"#8e0152\"],[0.1,\"#c51b7d\"],[0.2,\"#de77ae\"],[0.3,\"#f1b6da\"],[0.4,\"#fde0ef\"],[0.5,\"#f7f7f7\"],[0.6,\"#e6f5d0\"],[0.7,\"#b8e186\"],[0.8,\"#7fbc41\"],[0.9,\"#4d9221\"],[1,\"#276419\"]],\"sequential\":[[0.0,\"#0d0887\"],[0.1111111111111111,\"#46039f\"],[0.2222222222222222,\"#7201a8\"],[0.3333333333333333,\"#9c179e\"],[0.4444444444444444,\"#bd3786\"],[0.5555555555555556,\"#d8576b\"],[0.6666666666666666,\"#ed7953\"],[0.7777777777777778,\"#fb9f3a\"],[0.8888888888888888,\"#fdca26\"],[1.0,\"#f0f921\"]],\"sequentialminus\":[[0.0,\"#0d0887\"],[0.1111111111111111,\"#46039f\"],[0.2222222222222222,\"#7201a8\"],[0.3333333333333333,\"#9c179e\"],[0.4444444444444444,\"#bd3786\"],[0.5555555555555556,\"#d8576b\"],[0.6666666666666666,\"#ed7953\"],[0.7777777777777778,\"#fb9f3a\"],[0.8888888888888888,\"#fdca26\"],[1.0,\"#f0f921\"]]},\"colorway\":[\"#636efa\",\"#EF553B\",\"#00cc96\",\"#ab63fa\",\"#FFA15A\",\"#19d3f3\",\"#FF6692\",\"#B6E880\",\"#FF97FF\",\"#FECB52\"],\"font\":{\"color\":\"#f2f5fa\"},\"geo\":{\"bgcolor\":\"rgb(17,17,17)\",\"lakecolor\":\"rgb(17,17,17)\",\"landcolor\":\"rgb(17,17,17)\",\"showlakes\":true,\"showland\":true,\"subunitcolor\":\"#506784\"},\"hoverlabel\":{\"align\":\"left\"},\"hovermode\":\"closest\",\"mapbox\":{\"style\":\"dark\"},\"paper_bgcolor\":\"rgb(17,17,17)\",\"plot_bgcolor\":\"rgb(17,17,17)\",\"polar\":{\"angularaxis\":{\"gridcolor\":\"#506784\",\"linecolor\":\"#506784\",\"ticks\":\"\"},\"bgcolor\":\"rgb(17,17,17)\",\"radialaxis\":{\"gridcolor\":\"#506784\",\"linecolor\":\"#506784\",\"ticks\":\"\"}},\"scene\":{\"xaxis\":{\"backgroundcolor\":\"rgb(17,17,17)\",\"gridcolor\":\"#506784\",\"gridwidth\":2,\"linecolor\":\"#506784\",\"showbackground\":true,\"ticks\":\"\",\"zerolinecolor\":\"#C8D4E3\"},\"yaxis\":{\"backgroundcolor\":\"rgb(17,17,17)\",\"gridcolor\":\"#506784\",\"gridwidth\":2,\"linecolor\":\"#506784\",\"showbackground\":true,\"ticks\":\"\",\"zerolinecolor\":\"#C8D4E3\"},\"zaxis\":{\"backgroundcolor\":\"rgb(17,17,17)\",\"gridcolor\":\"#506784\",\"gridwidth\":2,\"linecolor\":\"#506784\",\"showbackground\":true,\"ticks\":\"\",\"zerolinecolor\":\"#C8D4E3\"}},\"shapedefaults\":{\"line\":{\"color\":\"#f2f5fa\"}},\"sliderdefaults\":{\"bgcolor\":\"#C8D4E3\",\"bordercolor\":\"rgb(17,17,17)\",\"borderwidth\":1,\"tickwidth\":0},\"ternary\":{\"aaxis\":{\"gridcolor\":\"#506784\",\"linecolor\":\"#506784\",\"ticks\":\"\"},\"baxis\":{\"gridcolor\":\"#506784\",\"linecolor\":\"#506784\",\"ticks\":\"\"},\"bgcolor\":\"rgb(17,17,17)\",\"caxis\":{\"gridcolor\":\"#506784\",\"linecolor\":\"#506784\",\"ticks\":\"\"}},\"title\":{\"x\":0.05},\"updatemenudefaults\":{\"bgcolor\":\"#506784\",\"borderwidth\":0},\"xaxis\":{\"automargin\":true,\"gridcolor\":\"#283442\",\"linecolor\":\"#506784\",\"ticks\":\"\",\"title\":{\"standoff\":15},\"zerolinecolor\":\"#283442\",\"zerolinewidth\":2},\"yaxis\":{\"automargin\":true,\"gridcolor\":\"#283442\",\"linecolor\":\"#506784\",\"ticks\":\"\",\"title\":{\"standoff\":15},\"zerolinecolor\":\"#283442\",\"zerolinewidth\":2}}},\"title\":{\"text\":\"Male suicide rate(2019)\"}},                        {\"responsive\": true}                    ).then(function(){\n                            \nvar gd = document.getElementById('5381272f-d536-4039-af1b-b4d17a43b394');\nvar x = new MutationObserver(function (mutations, observer) {{\n        var display = window.getComputedStyle(gd).display;\n        if (!display || display === 'none') {{\n            console.log([gd, 'removed!']);\n            Plotly.purge(gd);\n            observer.disconnect();\n        }}\n}});\n\n// Listen for the removal of the full notebook cells\nvar notebookContainer = gd.closest('#notebook-container');\nif (notebookContainer) {{\n    x.observe(notebookContainer, {childList: true});\n}}\n\n// Listen for the clearing of the current output cell\nvar outputEl = gd.closest('.output');\nif (outputEl) {{\n    x.observe(outputEl, {childList: true});\n}}\n\n                        })                };                });            </script>        </div>"
     },
     "metadata": {},
     "output_type": "display_data"
    }
   ],
   "source": [
    "data = dict(\n",
    "    type='choropleth', locations=df['cca3'],\n",
    "    z= df['rate2019male'],\n",
    "    text = df['country'],\n",
    "    colorbar={'title':'Suicide rate(2019)'}\n",
    ")\n",
    "layout = dict(title = 'Male suicide rate(2019)',\n",
    "geo = dict(showframe =  True))\n",
    "choromap1 = go.Figure(data= [data],layout=layout)\n",
    "iplot(choromap1)"
   ]
  },
  {
   "cell_type": "code",
   "execution_count": 20,
   "id": "8618049d",
   "metadata": {},
   "outputs": [
    {
     "data": {
      "text/plain": "<AxesSubplot:ylabel='rate2019male'>"
     },
     "execution_count": 20,
     "metadata": {},
     "output_type": "execute_result"
    },
    {
     "data": {
      "text/plain": "<Figure size 640x480 with 1 Axes>",
      "image/png": "[encoded data removed]"
     },
     "metadata": {},
     "output_type": "display_data"
    }
   ],
   "source": [
    "sns.boxplot(y='rate2019male',data = df)"
   ]
  },
  {
   "cell_type": "markdown",
   "id": "d92dfd27",
   "metadata": {},
   "source": [
    "So, there are some outliers in the male suicide rate data. Let's find out the correspnding countries "
   ]
  },
  {
   "cell_type": "code",
   "execution_count": 21,
   "id": "acc32170",
   "metadata": {},
   "outputs": [],
   "source": [
    "# Upper and lower bound\n",
    "q1 = df['rate2019male'].quantile(0.25)\n",
    "q3 = df['rate2019male'].quantile(0.75)\n",
    "iqr = q3-q1\n",
    "lower_lim_m = q1-1.5*iqr\n",
    "upper_lim_m = q3+1.5*iqr"
   ]
  },
  {
   "cell_type": "code",
   "execution_count": 22,
   "id": "f886b9f5",
   "metadata": {},
   "outputs": [],
   "source": [
    "high_mcrate = df[df['rate2019male']>upper_lim_m]['rate2019male'].values\n",
    "countries_high_mcrate = df[df['rate2019male']>upper_lim_m]['cca3'].to_list()\n",
    "country_m = df[df['rate2019male']>upper_lim_m]['country'].to_list()\n"
   ]
  },
  {
   "cell_type": "code",
   "execution_count": 23,
   "id": "86ef9aa9",
   "metadata": {
    "scrolled": true
   },
   "outputs": [
    {
     "data": {
      "application/vnd.plotly.v1+json": {
       "data": [
        {
         "colorbar": {
          "title": {
           "text": "Male suicide rate(2019)"
          }
         },
         "locations": [
          "LSO",
          "GUY",
          "SWZ",
          "KOR",
          "KIR",
          "FSM",
          "LTU",
          "SUR",
          "RUS",
          "ZAF",
          "UKR",
          "BLR",
          "URY",
          "LVA"
         ],
         "text": [
          "Lesotho",
          "Guyana",
          "Eswatini",
          "South Korea",
          "Kiribati",
          "Micronesia",
          "Lithuania",
          "Suriname",
          "Russia",
          "South Africa",
          "Ukraine",
          "Belarus",
          "Uruguay",
          "Latvia"
         ],
         "z": [
          116.0,
          63.0,
          55.1,
          40.2,
          48.6,
          43.2,
          45.4,
          38.8,
          43.6,
          37.6,
          39.2,
          36.7,
          34.5,
          35.5
         ],
         "type": "choropleth"
        }
       ],
       "layout": {
        "geo": {
         "showframe": true
        },
        "template": {
         "data": {
          "barpolar": [
           {
            "marker": {
             "line": {
              "color": "rgb(17,17,17)",
              "width": 0.5
             },
             "pattern": {
              "fillmode": "overlay",
              "size": 10,
              "solidity": 0.2
             }
            },
            "type": "barpolar"
           }
          ],
          "bar": [
           {
            "error_x": {
             "color": "#f2f5fa"
            },
            "error_y": {
             "color": "#f2f5fa"
            },
            "marker": {
             "line": {
              "color": "rgb(17,17,17)",
              "width": 0.5
             },
             "pattern": {
              "fillmode": "overlay",
              "size": 10,
              "solidity": 0.2
             }
            },
            "type": "bar"
           }
          ],
          "carpet": [
           {
            "aaxis": {
             "endlinecolor": "#A2B1C6",
             "gridcolor": "#506784",
             "linecolor": "#506784",
             "minorgridcolor": "#506784",
             "startlinecolor": "#A2B1C6"
            },
            "baxis": {
             "endlinecolor": "#A2B1C6",
             "gridcolor": "#506784",
             "linecolor": "#506784",
             "minorgridcolor": "#506784",
             "startlinecolor": "#A2B1C6"
            },
            "type": "carpet"
           }
          ],
          "choropleth": [
           {
            "colorbar": {
             "outlinewidth": 0,
             "ticks": ""
            },
            "type": "choropleth"
           }
          ],
          "contourcarpet": [
           {
            "colorbar": {
             "outlinewidth": 0,
             "ticks": ""
            },
            "type": "contourcarpet"
           }
          ],
          "contour": [
           {
            "colorbar": {
             "outlinewidth": 0,
             "ticks": ""
            },
            "colorscale": [
             [
              0.0,
              "#0d0887"
             ],
             [
              0.1111111111111111,
              "#46039f"
             ],
             [
              0.2222222222222222,
              "#7201a8"
             ],
             [
              0.3333333333333333,
              "#9c179e"
             ],
             [
              0.4444444444444444,
              "#bd3786"
             ],
             [
              0.5555555555555556,
              "#d8576b"
             ],
             [
              0.6666666666666666,
              "#ed7953"
             ],
             [
              0.7777777777777778,
              "#fb9f3a"
             ],
             [
              0.8888888888888888,
              "#fdca26"
             ],
             [
              1.0,
              "#f0f921"
             ]
            ],
            "type": "contour"
           }
          ],
          "heatmapgl": [
           {
            "colorbar": {
             "outlinewidth": 0,
             "ticks": ""
            },
            "colorscale": [
             [
              0.0,
              "#0d0887"
             ],
             [
              0.1111111111111111,
              "#46039f"
             ],
             [
              0.2222222222222222,
              "#7201a8"
             ],
             [
              0.3333333333333333,
              "#9c179e"
             ],
             [
              0.4444444444444444,
              "#bd3786"
             ],
             [
              0.5555555555555556,
              "#d8576b"
             ],
             [
              0.6666666666666666,
              "#ed7953"
             ],
             [
              0.7777777777777778,
              "#fb9f3a"
             ],
             [
              0.8888888888888888,
              "#fdca26"
             ],
             [
              1.0,
              "#f0f921"
             ]
            ],
            "type": "heatmapgl"
           }
          ],
          "heatmap": [
           {
            "colorbar": {
             "outlinewidth": 0,
             "ticks": ""
            },
            "colorscale": [
             [
              0.0,
              "#0d0887"
             ],
             [
              0.1111111111111111,
              "#46039f"
             ],
             [
              0.2222222222222222,
              "#7201a8"
             ],
             [
              0.3333333333333333,
              "#9c179e"
             ],
             [
              0.4444444444444444,
              "#bd3786"
             ],
             [
              0.5555555555555556,
              "#d8576b"
             ],
             [
              0.6666666666666666,
              "#ed7953"
             ],
             [
              0.7777777777777778,
              "#fb9f3a"
             ],
             [
              0.8888888888888888,
              "#fdca26"
             ],
             [
              1.0,
              "#f0f921"
             ]
            ],
            "type": "heatmap"
           }
          ],
          "histogram2dcontour": [
           {
            "colorbar": {
             "outlinewidth": 0,
             "ticks": ""
            },
            "colorscale": [
             [
              0.0,
              "#0d0887"
             ],
             [
              0.1111111111111111,
              "#46039f"
             ],
             [
              0.2222222222222222,
              "#7201a8"
             ],
             [
              0.3333333333333333,
              "#9c179e"
             ],
             [
              0.4444444444444444,
              "#bd3786"
             ],
             [
              0.5555555555555556,
              "#d8576b"
             ],
             [
              0.6666666666666666,
              "#ed7953"
             ],
             [
              0.7777777777777778,
              "#fb9f3a"
             ],
             [
              0.8888888888888888,
              "#fdca26"
             ],
             [
              1.0,
              "#f0f921"
             ]
            ],
            "type": "histogram2dcontour"
           }
          ],
          "histogram2d": [
           {
            "colorbar": {
             "outlinewidth": 0,
             "ticks": ""
            },
            "colorscale": [
             [
              0.0,
              "#0d0887"
             ],
             [
              0.1111111111111111,
              "#46039f"
             ],
             [
              0.2222222222222222,
              "#7201a8"
             ],
             [
              0.3333333333333333,
              "#9c179e"
             ],
             [
              0.4444444444444444,
              "#bd3786"
             ],
             [
              0.5555555555555556,
              "#d8576b"
             ],
             [
              0.6666666666666666,
              "#ed7953"
             ],
             [
              0.7777777777777778,
              "#fb9f3a"
             ],
             [
              0.8888888888888888,
              "#fdca26"
             ],
             [
              1.0,
              "#f0f921"
             ]
            ],
            "type": "histogram2d"
           }
          ],
          "histogram": [
           {
            "marker": {
             "pattern": {
              "fillmode": "overlay",
              "size": 10,
              "solidity": 0.2
             }
            },
            "type": "histogram"
           }
          ],
          "mesh3d": [
           {
            "colorbar": {
             "outlinewidth": 0,
             "ticks": ""
            },
            "type": "mesh3d"
           }
          ],
          "parcoords": [
           {
            "line": {
             "colorbar": {
              "outlinewidth": 0,
              "ticks": ""
             }
            },
            "type": "parcoords"
           }
          ],
          "pie": [
           {
            "automargin": true,
            "type": "pie"
           }
          ],
          "scatter3d": [
           {
            "line": {
             "colorbar": {
              "outlinewidth": 0,
              "ticks": ""
             }
            },
            "marker": {
             "colorbar": {
              "outlinewidth": 0,
              "ticks": ""
             }
            },
            "type": "scatter3d"
           }
          ],
          "scattercarpet": [
           {
            "marker": {
             "colorbar": {
              "outlinewidth": 0,
              "ticks": ""
             }
            },
            "type": "scattercarpet"
           }
          ],
          "scattergeo": [
           {
            "marker": {
             "colorbar": {
              "outlinewidth": 0,
              "ticks": ""
             }
            },
            "type": "scattergeo"
           }
          ],
          "scattergl": [
           {
            "marker": {
             "line": {
              "color": "#283442"
             }
            },
            "type": "scattergl"
           }
          ],
          "scattermapbox": [
           {
            "marker": {
             "colorbar": {
              "outlinewidth": 0,
              "ticks": ""
             }
            },
            "type": "scattermapbox"
           }
          ],
          "scatterpolargl": [
           {
            "marker": {
             "colorbar": {
              "outlinewidth": 0,
              "ticks": ""
             }
            },
            "type": "scatterpolargl"
           }
          ],
          "scatterpolar": [
           {
            "marker": {
             "colorbar": {
              "outlinewidth": 0,
              "ticks": ""
             }
            },
            "type": "scatterpolar"
           }
          ],
          "scatter": [
           {
            "marker": {
             "line": {
              "color": "#283442"
             }
            },
            "type": "scatter"
           }
          ],
          "scatterternary": [
           {
            "marker": {
             "colorbar": {
              "outlinewidth": 0,
              "ticks": ""
             }
            },
            "type": "scatterternary"
           }
          ],
          "surface": [
           {
            "colorbar": {
             "outlinewidth": 0,
             "ticks": ""
            },
            "colorscale": [
             [
              0.0,
              "#0d0887"
             ],
             [
              0.1111111111111111,
              "#46039f"
             ],
             [
              0.2222222222222222,
              "#7201a8"
             ],
             [
              0.3333333333333333,
              "#9c179e"
             ],
             [
              0.4444444444444444,
              "#bd3786"
             ],
             [
              0.5555555555555556,
              "#d8576b"
             ],
             [
              0.6666666666666666,
              "#ed7953"
             ],
             [
              0.7777777777777778,
              "#fb9f3a"
             ],
             [
              0.8888888888888888,
              "#fdca26"
             ],
             [
              1.0,
              "#f0f921"
             ]
            ],
            "type": "surface"
           }
          ],
          "table": [
           {
            "cells": {
             "fill": {
              "color": "#506784"
             },
             "line": {
              "color": "rgb(17,17,17)"
             }
            },
            "header": {
             "fill": {
              "color": "#2a3f5f"
             },
             "line": {
              "color": "rgb(17,17,17)"
             }
            },
            "type": "table"
           }
          ]
         },
         "layout": {
          "annotationdefaults": {
           "arrowcolor": "#f2f5fa",
           "arrowhead": 0,
           "arrowwidth": 1
          },
          "autotypenumbers": "strict",
          "coloraxis": {
           "colorbar": {
            "outlinewidth": 0,
            "ticks": ""
           }
          },
          "colorscale": {
           "diverging": [
            [
             0,
             "#8e0152"
            ],
            [
             0.1,
             "#c51b7d"
            ],
            [
             0.2,
             "#de77ae"
            ],
            [
             0.3,
             "#f1b6da"
            ],
            [
             0.4,
             "#fde0ef"
            ],
            [
             0.5,
             "#f7f7f7"
            ],
            [
             0.6,
             "#e6f5d0"
            ],
            [
             0.7,
             "#b8e186"
            ],
            [
             0.8,
             "#7fbc41"
            ],
            [
             0.9,
             "#4d9221"
            ],
            [
             1,
             "#276419"
            ]
           ],
           "sequential": [
            [
             0.0,
             "#0d0887"
            ],
            [
             0.1111111111111111,
             "#46039f"
            ],
            [
             0.2222222222222222,
             "#7201a8"
            ],
            [
             0.3333333333333333,
             "#9c179e"
            ],
            [
             0.4444444444444444,
             "#bd3786"
            ],
            [
             0.5555555555555556,
             "#d8576b"
            ],
            [
             0.6666666666666666,
             "#ed7953"
            ],
            [
             0.7777777777777778,
             "#fb9f3a"
            ],
            [
             0.8888888888888888,
             "#fdca26"
            ],
            [
             1.0,
             "#f0f921"
            ]
           ],
           "sequentialminus": [
            [
             0.0,
             "#0d0887"
            ],
            [
             0.1111111111111111,
             "#46039f"
            ],
            [
             0.2222222222222222,
             "#7201a8"
            ],
            [
             0.3333333333333333,
             "#9c179e"
            ],
            [
             0.4444444444444444,
             "#bd3786"
            ],
            [
             0.5555555555555556,
             "#d8576b"
            ],
            [
             0.6666666666666666,
             "#ed7953"
            ],
            [
             0.7777777777777778,
             "#fb9f3a"
            ],
            [
             0.8888888888888888,
             "#fdca26"
            ],
            [
             1.0,
             "#f0f921"
            ]
           ]
          },
          "colorway": [
           "#636efa",
           "#EF553B",
           "#00cc96",
           "#ab63fa",
           "#FFA15A",
           "#19d3f3",
           "#FF6692",
           "#B6E880",
           "#FF97FF",
           "#FECB52"
          ],
          "font": {
           "color": "#f2f5fa"
          },
          "geo": {
           "bgcolor": "rgb(17,17,17)",
           "lakecolor": "rgb(17,17,17)",
           "landcolor": "rgb(17,17,17)",
           "showlakes": true,
           "showland": true,
           "subunitcolor": "#506784"
          },
          "hoverlabel": {
           "align": "left"
          },
          "hovermode": "closest",
          "mapbox": {
           "style": "dark"
          },
          "paper_bgcolor": "rgb(17,17,17)",
          "plot_bgcolor": "rgb(17,17,17)",
          "polar": {
           "angularaxis": {
            "gridcolor": "#506784",
            "linecolor": "#506784",
            "ticks": ""
           },
           "bgcolor": "rgb(17,17,17)",
           "radialaxis": {
            "gridcolor": "#506784",
            "linecolor": "#506784",
            "ticks": ""
           }
          },
          "scene": {
           "xaxis": {
            "backgroundcolor": "rgb(17,17,17)",
            "gridcolor": "#506784",
            "gridwidth": 2,
            "linecolor": "#506784",
            "showbackground": true,
            "ticks": "",
            "zerolinecolor": "#C8D4E3"
           },
           "yaxis": {
            "backgroundcolor": "rgb(17,17,17)",
            "gridcolor": "#506784",
            "gridwidth": 2,
            "linecolor": "#506784",
            "showbackground": true,
            "ticks": "",
            "zerolinecolor": "#C8D4E3"
           },
           "zaxis": {
            "backgroundcolor": "rgb(17,17,17)",
            "gridcolor": "#506784",
            "gridwidth": 2,
            "linecolor": "#506784",
            "showbackground": true,
            "ticks": "",
            "zerolinecolor": "#C8D4E3"
           }
          },
          "shapedefaults": {
           "line": {
            "color": "#f2f5fa"
           }
          },
          "sliderdefaults": {
           "bgcolor": "#C8D4E3",
           "bordercolor": "rgb(17,17,17)",
           "borderwidth": 1,
           "tickwidth": 0
          },
          "ternary": {
           "aaxis": {
            "gridcolor": "#506784",
            "linecolor": "#506784",
            "ticks": ""
           },
           "baxis": {
            "gridcolor": "#506784",
            "linecolor": "#506784",
            "ticks": ""
           },
           "bgcolor": "rgb(17,17,17)",
           "caxis": {
            "gridcolor": "#506784",
            "linecolor": "#506784",
            "ticks": ""
           }
          },
          "title": {
           "x": 0.05
          },
          "updatemenudefaults": {
           "bgcolor": "#506784",
           "borderwidth": 0
          },
          "xaxis": {
           "automargin": true,
           "gridcolor": "#283442",
           "linecolor": "#506784",
           "ticks": "",
           "title": {
            "standoff": 15
           },
           "zerolinecolor": "#283442",
           "zerolinewidth": 2
          },
          "yaxis": {
           "automargin": true,
           "gridcolor": "#283442",
           "linecolor": "#506784",
           "ticks": "",
           "title": {
            "standoff": 15
           },
           "zerolinecolor": "#283442",
           "zerolinewidth": 2
          }
         }
        },
        "title": {
         "text": "Countries with higher male suicide rate(2019)"
        }
       },
       "config": {
        "showLink": false,
        "linkText": "Export to plot.ly",
        "plotlyServerURL": "https://plot.ly"
       }
      },
      "text/html": "<div>                            <div id=\"b77a4a4e-f572-4d4b-86e5-5d7dbd39cdc9\" class=\"plotly-graph-div\" style=\"height:525px; width:100%;\"></div>            <script type=\"text/javascript\">                require([\"plotly\"], function(Plotly) {                    window.PLOTLYENV=window.PLOTLYENV || {};                                    if (document.getElementById(\"b77a4a4e-f572-4d4b-86e5-5d7dbd39cdc9\")) {                    Plotly.newPlot(                        \"b77a4a4e-f572-4d4b-86e5-5d7dbd39cdc9\",                        [{\"colorbar\":{\"title\":{\"text\":\"Male suicide rate(2019)\"}},\"locations\":[\"LSO\",\"GUY\",\"SWZ\",\"KOR\",\"KIR\",\"FSM\",\"LTU\",\"SUR\",\"RUS\",\"ZAF\",\"UKR\",\"BLR\",\"URY\",\"LVA\"],\"text\":[\"Lesotho\",\"Guyana\",\"Eswatini\",\"South Korea\",\"Kiribati\",\"Micronesia\",\"Lithuania\",\"Suriname\",\"Russia\",\"South Africa\",\"Ukraine\",\"Belarus\",\"Uruguay\",\"Latvia\"],\"z\":[116.0,63.0,55.1,40.2,48.6,43.2,45.4,38.8,43.6,37.6,39.2,36.7,34.5,35.5],\"type\":\"choropleth\"}],                        {\"geo\":{\"showframe\":true},\"template\":{\"data\":{\"barpolar\":[{\"marker\":{\"line\":{\"color\":\"rgb(17,17,17)\",\"width\":0.5},\"pattern\":{\"fillmode\":\"overlay\",\"size\":10,\"solidity\":0.2}},\"type\":\"barpolar\"}],\"bar\":[{\"error_x\":{\"color\":\"#f2f5fa\"},\"error_y\":{\"color\":\"#f2f5fa\"},\"marker\":{\"line\":{\"color\":\"rgb(17,17,17)\",\"width\":0.5},\"pattern\":{\"fillmode\":\"overlay\",\"size\":10,\"solidity\":0.2}},\"type\":\"bar\"}],\"carpet\":[{\"aaxis\":{\"endlinecolor\":\"#A2B1C6\",\"gridcolor\":\"#506784\",\"linecolor\":\"#506784\",\"minorgridcolor\":\"#506784\",\"startlinecolor\":\"#A2B1C6\"},\"baxis\":{\"endlinecolor\":\"#A2B1C6\",\"gridcolor\":\"#506784\",\"linecolor\":\"#506784\",\"minorgridcolor\":\"#506784\",\"startlinecolor\":\"#A2B1C6\"},\"type\":\"carpet\"}],\"choropleth\":[{\"colorbar\":{\"outlinewidth\":0,\"ticks\":\"\"},\"type\":\"choropleth\"}],\"contourcarpet\":[{\"colorbar\":{\"outlinewidth\":0,\"ticks\":\"\"},\"type\":\"contourcarpet\"}],\"contour\":[{\"colorbar\":{\"outlinewidth\":0,\"ticks\":\"\"},\"colorscale\":[[0.0,\"#0d0887\"],[0.1111111111111111,\"#46039f\"],[0.2222222222222222,\"#7201a8\"],[0.3333333333333333,\"#9c179e\"],[0.4444444444444444,\"#bd3786\"],[0.5555555555555556,\"#d8576b\"],[0.6666666666666666,\"#ed7953\"],[0.7777777777777778,\"#fb9f3a\"],[0.8888888888888888,\"#fdca26\"],[1.0,\"#f0f921\"]],\"type\":\"contour\"}],\"heatmapgl\":[{\"colorbar\":{\"outlinewidth\":0,\"ticks\":\"\"},\"colorscale\":[[0.0,\"#0d0887\"],[0.1111111111111111,\"#46039f\"],[0.2222222222222222,\"#7201a8\"],[0.3333333333333333,\"#9c179e\"],[0.4444444444444444,\"#bd3786\"],[0.5555555555555556,\"#d8576b\"],[0.6666666666666666,\"#ed7953\"],[0.7777777777777778,\"#fb9f3a\"],[0.8888888888888888,\"#fdca26\"],[1.0,\"#f0f921\"]],\"type\":\"heatmapgl\"}],\"heatmap\":[{\"colorbar\":{\"outlinewidth\":0,\"ticks\":\"\"},\"colorscale\":[[0.0,\"#0d0887\"],[0.1111111111111111,\"#46039f\"],[0.2222222222222222,\"#7201a8\"],[0.3333333333333333,\"#9c179e\"],[0.4444444444444444,\"#bd3786\"],[0.5555555555555556,\"#d8576b\"],[0.6666666666666666,\"#ed7953\"],[0.7777777777777778,\"#fb9f3a\"],[0.8888888888888888,\"#fdca26\"],[1.0,\"#f0f921\"]],\"type\":\"heatmap\"}],\"histogram2dcontour\":[{\"colorbar\":{\"outlinewidth\":0,\"ticks\":\"\"},\"colorscale\":[[0.0,\"#0d0887\"],[0.1111111111111111,\"#46039f\"],[0.2222222222222222,\"#7201a8\"],[0.3333333333333333,\"#9c179e\"],[0.4444444444444444,\"#bd3786\"],[0.5555555555555556,\"#d8576b\"],[0.6666666666666666,\"#ed7953\"],[0.7777777777777778,\"#fb9f3a\"],[0.8888888888888888,\"#fdca26\"],[1.0,\"#f0f921\"]],\"type\":\"histogram2dcontour\"}],\"histogram2d\":[{\"colorbar\":{\"outlinewidth\":0,\"ticks\":\"\"},\"colorscale\":[[0.0,\"#0d0887\"],[0.1111111111111111,\"#46039f\"],[0.2222222222222222,\"#7201a8\"],[0.3333333333333333,\"#9c179e\"],[0.4444444444444444,\"#bd3786\"],[0.5555555555555556,\"#d8576b\"],[0.6666666666666666,\"#ed7953\"],[0.7777777777777778,\"#fb9f3a\"],[0.8888888888888888,\"#fdca26\"],[1.0,\"#f0f921\"]],\"type\":\"histogram2d\"}],\"histogram\":[{\"marker\":{\"pattern\":{\"fillmode\":\"overlay\",\"size\":10,\"solidity\":0.2}},\"type\":\"histogram\"}],\"mesh3d\":[{\"colorbar\":{\"outlinewidth\":0,\"ticks\":\"\"},\"type\":\"mesh3d\"}],\"parcoords\":[{\"line\":{\"colorbar\":{\"outlinewidth\":0,\"ticks\":\"\"}},\"type\":\"parcoords\"}],\"pie\":[{\"automargin\":true,\"type\":\"pie\"}],\"scatter3d\":[{\"line\":{\"colorbar\":{\"outlinewidth\":0,\"ticks\":\"\"}},\"marker\":{\"colorbar\":{\"outlinewidth\":0,\"ticks\":\"\"}},\"type\":\"scatter3d\"}],\"scattercarpet\":[{\"marker\":{\"colorbar\":{\"outlinewidth\":0,\"ticks\":\"\"}},\"type\":\"scattercarpet\"}],\"scattergeo\":[{\"marker\":{\"colorbar\":{\"outlinewidth\":0,\"ticks\":\"\"}},\"type\":\"scattergeo\"}],\"scattergl\":[{\"marker\":{\"line\":{\"color\":\"#283442\"}},\"type\":\"scattergl\"}],\"scattermapbox\":[{\"marker\":{\"colorbar\":{\"outlinewidth\":0,\"ticks\":\"\"}},\"type\":\"scattermapbox\"}],\"scatterpolargl\":[{\"marker\":{\"colorbar\":{\"outlinewidth\":0,\"ticks\":\"\"}},\"type\":\"scatterpolargl\"}],\"scatterpolar\":[{\"marker\":{\"colorbar\":{\"outlinewidth\":0,\"ticks\":\"\"}},\"type\":\"scatterpolar\"}],\"scatter\":[{\"marker\":{\"line\":{\"color\":\"#283442\"}},\"type\":\"scatter\"}],\"scatterternary\":[{\"marker\":{\"colorbar\":{\"outlinewidth\":0,\"ticks\":\"\"}},\"type\":\"scatterternary\"}],\"surface\":[{\"colorbar\":{\"outlinewidth\":0,\"ticks\":\"\"},\"colorscale\":[[0.0,\"#0d0887\"],[0.1111111111111111,\"#46039f\"],[0.2222222222222222,\"#7201a8\"],[0.3333333333333333,\"#9c179e\"],[0.4444444444444444,\"#bd3786\"],[0.5555555555555556,\"#d8576b\"],[0.6666666666666666,\"#ed7953\"],[0.7777777777777778,\"#fb9f3a\"],[0.8888888888888888,\"#fdca26\"],[1.0,\"#f0f921\"]],\"type\":\"surface\"}],\"table\":[{\"cells\":{\"fill\":{\"color\":\"#506784\"},\"line\":{\"color\":\"rgb(17,17,17)\"}},\"header\":{\"fill\":{\"color\":\"#2a3f5f\"},\"line\":{\"color\":\"rgb(17,17,17)\"}},\"type\":\"table\"}]},\"layout\":{\"annotationdefaults\":{\"arrowcolor\":\"#f2f5fa\",\"arrowhead\":0,\"arrowwidth\":1},\"autotypenumbers\":\"strict\",\"coloraxis\":{\"colorbar\":{\"outlinewidth\":0,\"ticks\":\"\"}},\"colorscale\":{\"diverging\":[[0,\"#8e0152\"],[0.1,\"#c51b7d\"],[0.2,\"#de77ae\"],[0.3,\"#f1b6da\"],[0.4,\"#fde0ef\"],[0.5,\"#f7f7f7\"],[0.6,\"#e6f5d0\"],[0.7,\"#b8e186\"],[0.8,\"#7fbc41\"],[0.9,\"#4d9221\"],[1,\"#276419\"]],\"sequential\":[[0.0,\"#0d0887\"],[0.1111111111111111,\"#46039f\"],[0.2222222222222222,\"#7201a8\"],[0.3333333333333333,\"#9c179e\"],[0.4444444444444444,\"#bd3786\"],[0.5555555555555556,\"#d8576b\"],[0.6666666666666666,\"#ed7953\"],[0.7777777777777778,\"#fb9f3a\"],[0.8888888888888888,\"#fdca26\"],[1.0,\"#f0f921\"]],\"sequentialminus\":[[0.0,\"#0d0887\"],[0.1111111111111111,\"#46039f\"],[0.2222222222222222,\"#7201a8\"],[0.3333333333333333,\"#9c179e\"],[0.4444444444444444,\"#bd3786\"],[0.5555555555555556,\"#d8576b\"],[0.6666666666666666,\"#ed7953\"],[0.7777777777777778,\"#fb9f3a\"],[0.8888888888888888,\"#fdca26\"],[1.0,\"#f0f921\"]]},\"colorway\":[\"#636efa\",\"#EF553B\",\"#00cc96\",\"#ab63fa\",\"#FFA15A\",\"#19d3f3\",\"#FF6692\",\"#B6E880\",\"#FF97FF\",\"#FECB52\"],\"font\":{\"color\":\"#f2f5fa\"},\"geo\":{\"bgcolor\":\"rgb(17,17,17)\",\"lakecolor\":\"rgb(17,17,17)\",\"landcolor\":\"rgb(17,17,17)\",\"showlakes\":true,\"showland\":true,\"subunitcolor\":\"#506784\"},\"hoverlabel\":{\"align\":\"left\"},\"hovermode\":\"closest\",\"mapbox\":{\"style\":\"dark\"},\"paper_bgcolor\":\"rgb(17,17,17)\",\"plot_bgcolor\":\"rgb(17,17,17)\",\"polar\":{\"angularaxis\":{\"gridcolor\":\"#506784\",\"linecolor\":\"#506784\",\"ticks\":\"\"},\"bgcolor\":\"rgb(17,17,17)\",\"radialaxis\":{\"gridcolor\":\"#506784\",\"linecolor\":\"#506784\",\"ticks\":\"\"}},\"scene\":{\"xaxis\":{\"backgroundcolor\":\"rgb(17,17,17)\",\"gridcolor\":\"#506784\",\"gridwidth\":2,\"linecolor\":\"#506784\",\"showbackground\":true,\"ticks\":\"\",\"zerolinecolor\":\"#C8D4E3\"},\"yaxis\":{\"backgroundcolor\":\"rgb(17,17,17)\",\"gridcolor\":\"#506784\",\"gridwidth\":2,\"linecolor\":\"#506784\",\"showbackground\":true,\"ticks\":\"\",\"zerolinecolor\":\"#C8D4E3\"},\"zaxis\":{\"backgroundcolor\":\"rgb(17,17,17)\",\"gridcolor\":\"#506784\",\"gridwidth\":2,\"linecolor\":\"#506784\",\"showbackground\":true,\"ticks\":\"\",\"zerolinecolor\":\"#C8D4E3\"}},\"shapedefaults\":{\"line\":{\"color\":\"#f2f5fa\"}},\"sliderdefaults\":{\"bgcolor\":\"#C8D4E3\",\"bordercolor\":\"rgb(17,17,17)\",\"borderwidth\":1,\"tickwidth\":0},\"ternary\":{\"aaxis\":{\"gridcolor\":\"#506784\",\"linecolor\":\"#506784\",\"ticks\":\"\"},\"baxis\":{\"gridcolor\":\"#506784\",\"linecolor\":\"#506784\",\"ticks\":\"\"},\"bgcolor\":\"rgb(17,17,17)\",\"caxis\":{\"gridcolor\":\"#506784\",\"linecolor\":\"#506784\",\"ticks\":\"\"}},\"title\":{\"x\":0.05},\"updatemenudefaults\":{\"bgcolor\":\"#506784\",\"borderwidth\":0},\"xaxis\":{\"automargin\":true,\"gridcolor\":\"#283442\",\"linecolor\":\"#506784\",\"ticks\":\"\",\"title\":{\"standoff\":15},\"zerolinecolor\":\"#283442\",\"zerolinewidth\":2},\"yaxis\":{\"automargin\":true,\"gridcolor\":\"#283442\",\"linecolor\":\"#506784\",\"ticks\":\"\",\"title\":{\"standoff\":15},\"zerolinecolor\":\"#283442\",\"zerolinewidth\":2}}},\"title\":{\"text\":\"Countries with higher male suicide rate(2019)\"}},                        {\"responsive\": true}                    ).then(function(){\n                            \nvar gd = document.getElementById('b77a4a4e-f572-4d4b-86e5-5d7dbd39cdc9');\nvar x = new MutationObserver(function (mutations, observer) {{\n        var display = window.getComputedStyle(gd).display;\n        if (!display || display === 'none') {{\n            console.log([gd, 'removed!']);\n            Plotly.purge(gd);\n            observer.disconnect();\n        }}\n}});\n\n// Listen for the removal of the full notebook cells\nvar notebookContainer = gd.closest('#notebook-container');\nif (notebookContainer) {{\n    x.observe(notebookContainer, {childList: true});\n}}\n\n// Listen for the clearing of the current output cell\nvar outputEl = gd.closest('.output');\nif (outputEl) {{\n    x.observe(outputEl, {childList: true});\n}}\n\n                        })                };                });            </script>        </div>"
     },
     "metadata": {},
     "output_type": "display_data"
    }
   ],
   "source": [
    "data = dict(\n",
    "    type='choropleth', locations=countries_high_mcrate,\n",
    "    z= high_mcrate,\n",
    "    text = country_m,\n",
    "    colorbar={'title':'Male suicide rate(2019)'}\n",
    ")\n",
    "layout = dict(title = 'Countries with higher male suicide rate(2019)',\n",
    "geo = dict(showframe =  True))\n",
    "choromap2 = go.Figure(data= [data],layout=layout)\n",
    "iplot(choromap2)"
   ]
  },
  {
   "cell_type": "markdown",
   "id": "de7c1eb2",
   "metadata": {},
   "source": [
    "### Female suicide rate in 2019"
   ]
  },
  {
   "cell_type": "code",
   "execution_count": 24,
   "id": "f6bd080c",
   "metadata": {},
   "outputs": [
    {
     "data": {
      "text/plain": "<AxesSubplot:xlabel='rate2019female', ylabel='Count'>"
     },
     "execution_count": 24,
     "metadata": {},
     "output_type": "execute_result"
    },
    {
     "data": {
      "text/plain": "<Figure size 640x480 with 1 Axes>",
      "image/png": "[encoded data removed]"
     },
     "metadata": {},
     "output_type": "display_data"
    }
   ],
   "source": [
    "sns.histplot(x='rate2019female',data=df,kde=True)"
   ]
  },
  {
   "cell_type": "code",
   "execution_count": 25,
   "id": "28d02919",
   "metadata": {},
   "outputs": [
    {
     "data": {
      "application/vnd.plotly.v1+json": {
       "data": [
        {
         "colorbar": {
          "title": {
           "text": "suicide rate(2019)"
          }
         },
         "locations": [
          "LSO",
          "GUY",
          "SWZ",
          "KOR",
          "KIR",
          "FSM",
          "LTU",
          "SUR",
          "RUS",
          "ZAF",
          "UKR",
          "BLR",
          "URY",
          "MNE",
          "LVA",
          "SVN",
          "BEL",
          "VUT",
          "MNG",
          "KAZ",
          "HUN",
          "HRV",
          "USA",
          "BWA",
          "JPN",
          "FIN",
          "EST",
          "SWE",
          "MDA",
          "SLB",
          "AUT",
          "CUB",
          "CHE",
          "ZWE",
          "LKA",
          "FRA",
          "MOZ",
          "IND",
          "WSM",
          "AUS",
          "DEU",
          "CAF",
          "SVK",
          "ISL",
          "CAN",
          "NLD",
          "NOR",
          "PRT",
          "SRB",
          "POL",
          "LUX",
          "SGP",
          "NZL",
          "ERI",
          "BIH",
          "DNK",
          "ROU",
          "BGR",
          "NAM",
          "HTI",
          "IRL",
          "DJI",
          "MUS",
          "PRK",
          "MKD",
          "GEO",
          "NPL",
          "CMR",
          "CHL",
          "FJI",
          "PAK",
          "CIV",
          "BHR",
          "THA",
          "TGO",
          "TTO",
          "ARG",
          "GAB",
          "CHN",
          "CRI",
          "SYC",
          "UZB",
          "GBR",
          "SOM",
          "GNQ",
          "LCA",
          "BEN",
          "ESP",
          "ECU",
          "VNM",
          "BFA",
          "KGZ",
          "ZMB",
          "MAR",
          "BLZ",
          "GIN",
          "GNB",
          "BRA",
          "COD",
          "ITA",
          "SLE",
          "GHA",
          "TCD",
          "ARE",
          "BDI",
          "BOL",
          "KEN",
          "AGO",
          "SLV",
          "MLT",
          "SAU",
          "SEN",
          "PRY",
          "GTM",
          "YEM",
          "QAT",
          "MYS",
          "TKM",
          "RWA",
          "MDG",
          "ETH",
          "MWI",
          "LAO",
          "COM",
          "MEX",
          "NER",
          "ISR",
          "IRN",
          "GRC",
          "KHM",
          "DOM",
          "OMN",
          "GMB",
          "UGA",
          "BTN",
          "LBY",
          "LBR",
          "NIC",
          "TZA",
          "TJK",
          "ALB",
          "AFG",
          "MLI",
          "AZE",
          "COL",
          "SSD",
          "SDN",
          "TON",
          "BGD",
          "TLS",
          "IRQ",
          "CYP",
          "NGA",
          "BHS",
          "TUN",
          "ARM",
          "MRT",
          "EGY",
          "PNG",
          "MMR",
          "PAN",
          "KWT",
          "PER",
          "LBN",
          "MDV",
          "BRN",
          "DZA",
          "IDN",
          "TUR",
          "JAM",
          "PHL",
          "VEN",
          "HND",
          "JOR",
          "STP",
          "VCT",
          "GRD",
          "BRB",
          "ATG"
         ],
         "text": [
          "Lesotho",
          "Guyana",
          "Eswatini",
          "South Korea",
          "Kiribati",
          "Micronesia",
          "Lithuania",
          "Suriname",
          "Russia",
          "South Africa",
          "Ukraine",
          "Belarus",
          "Uruguay",
          "Montenegro",
          "Latvia",
          "Slovenia",
          "Belgium",
          "Vanuatu",
          "Mongolia",
          "Kazakhstan",
          "Hungary",
          "Croatia",
          "United States",
          "Botswana",
          "Japan",
          "Finland",
          "Estonia",
          "Sweden",
          "Moldova",
          "Solomon Islands",
          "Austria",
          "Cuba",
          "Switzerland",
          "Zimbabwe",
          "Sri Lanka",
          "France",
          "Mozambique",
          "India",
          "Samoa",
          "Australia",
          "Germany",
          "Central African Republic",
          "Slovakia",
          "Iceland",
          "Canada",
          "Netherlands",
          "Norway",
          "Portugal",
          "Serbia",
          "Poland",
          "Luxembourg",
          "Singapore",
          "New Zealand",
          "Eritrea",
          "Bosnia and Herzegovina",
          "Denmark",
          "Romania",
          "Bulgaria",
          "Namibia",
          "Haiti",
          "Ireland",
          "Djibouti",
          "Mauritius",
          "North Korea",
          "North Macedonia",
          "Georgia",
          "Nepal",
          "Cameroon",
          "Chile",
          "Fiji",
          "Pakistan",
          "Ivory Coast",
          "Bahrain",
          "Thailand",
          "Togo",
          "Trinidad and Tobago",
          "Argentina",
          "Gabon",
          "China",
          "Costa Rica",
          "Seychelles",
          "Uzbekistan",
          "United Kingdom",
          "Somalia",
          "Equatorial Guinea",
          "Saint Lucia",
          "Benin",
          "Spain",
          "Ecuador",
          "Vietnam",
          "Burkina Faso",
          "Kyrgyzstan",
          "Zambia",
          "Morocco",
          "Belize",
          "Guinea",
          "Guinea-Bissau",
          "Brazil",
          "DR Congo",
          "Italy",
          "Sierra Leone",
          "Ghana",
          "Chad",
          "United Arab Emirates",
          "Burundi",
          "Bolivia",
          "Kenya",
          "Angola",
          "El Salvador",
          "Malta",
          "Saudi Arabia",
          "Senegal",
          "Paraguay",
          "Guatemala",
          "Yemen",
          "Qatar",
          "Malaysia",
          "Turkmenistan",
          "Rwanda",
          "Madagascar",
          "Ethiopia",
          "Malawi",
          "Laos",
          "Comoros",
          "Mexico",
          "Niger",
          "Israel",
          "Iran",
          "Greece",
          "Cambodia",
          "Dominican Republic",
          "Oman",
          "Gambia",
          "Uganda",
          "Bhutan",
          "Libya",
          "Liberia",
          "Nicaragua",
          "Tanzania",
          "Tajikistan",
          "Albania",
          "Afghanistan",
          "Mali",
          "Azerbaijan",
          "Colombia",
          "South Sudan",
          "Sudan",
          "Tonga",
          "Bangladesh",
          "Timor-Leste",
          "Iraq",
          "Cyprus",
          "Nigeria",
          "Bahamas",
          "Tunisia",
          "Armenia",
          "Mauritania",
          "Egypt",
          "Papua New Guinea",
          "Myanmar",
          "Panama",
          "Kuwait",
          "Peru",
          "Lebanon",
          "Maldives",
          "Brunei",
          "Algeria",
          "Indonesia",
          "Turkey",
          "Jamaica",
          "Philippines",
          "Venezuela",
          "Honduras",
          "Jordan",
          "Sao Tome and Principe",
          "Saint Vincent and the Grenadines",
          "Grenada",
          "Barbados",
          "Antigua and Barbuda"
         ],
         "z": [
          30.1,
          17.4,
          4.7,
          16.9,
          8.7,
          12.7,
          9.6,
          11.8,
          9.1,
          9.8,
          6.5,
          7.7,
          8.9,
          10.4,
          7.0,
          8.3,
          11.8,
          7.6,
          5.4,
          6.8,
          8.3,
          8.1,
          7.5,
          6.4,
          9.2,
          7.6,
          6.5,
          9.5,
          4.1,
          1.9,
          6.7,
          6.0,
          9.0,
          8.8,
          6.2,
          7.6,
          5.7,
          11.1,
          6.7,
          6.4,
          6.2,
          5.2,
          3.4,
          3.9,
          6.1,
          8.3,
          7.7,
          5.7,
          6.3,
          3.1,
          7.1,
          7.1,
          5.8,
          5.2,
          4.5,
          6.5,
          3.3,
          4.4,
          3.2,
          7.6,
          3.9,
          6.4,
          2.8,
          7.6,
          4.8,
          3.0,
          2.7,
          4.4,
          3.2,
          5.7,
          4.3,
          2.8,
          2.4,
          2.9,
          3.9,
          3.6,
          3.3,
          2.4,
          6.2,
          2.0,
          1.4,
          4.8,
          4.0,
          3.8,
          6.0,
          1.7,
          3.8,
          4.2,
          3.6,
          4.7,
          3.7,
          3.2,
          2.7,
          4.7,
          1.7,
          4.9,
          3.9,
          3.0,
          2.8,
          3.5,
          5.1,
          1.2,
          3.3,
          3.0,
          3.4,
          4.1,
          3.2,
          2.3,
          2.1,
          2.3,
          2.0,
          3.0,
          3.2,
          2.6,
          4.6,
          1.7,
          2.3,
          2.7,
          3.0,
          3.4,
          3.1,
          1.7,
          3.2,
          3.8,
          2.2,
          3.3,
          2.3,
          2.8,
          1.9,
          2.8,
          1.8,
          1.0,
          3.0,
          1.7,
          2.7,
          2.9,
          3.3,
          1.9,
          2.0,
          2.8,
          2.7,
          3.6,
          2.9,
          1.6,
          1.8,
          2.0,
          2.8,
          2.6,
          1.7,
          2.0,
          2.0,
          1.3,
          1.9,
          1.3,
          1.9,
          1.3,
          2.2,
          2.0,
          1.6,
          1.1,
          1.0,
          0.7,
          1.4,
          1.7,
          0.8,
          0.8,
          1.8,
          1.1,
          1.2,
          1.1,
          1.2,
          0.7,
          0.8,
          0.7,
          0.8,
          0.6,
          0.7,
          0.3,
          0.8
         ],
         "type": "choropleth"
        }
       ],
       "layout": {
        "geo": {
         "showframe": true
        },
        "template": {
         "data": {
          "barpolar": [
           {
            "marker": {
             "line": {
              "color": "rgb(17,17,17)",
              "width": 0.5
             },
             "pattern": {
              "fillmode": "overlay",
              "size": 10,
              "solidity": 0.2
             }
            },
            "type": "barpolar"
           }
          ],
          "bar": [
           {
            "error_x": {
             "color": "#f2f5fa"
            },
            "error_y": {
             "color": "#f2f5fa"
            },
            "marker": {
             "line": {
              "color": "rgb(17,17,17)",
              "width": 0.5
             },
             "pattern": {
              "fillmode": "overlay",
              "size": 10,
              "solidity": 0.2
             }
            },
            "type": "bar"
           }
          ],
          "carpet": [
           {
            "aaxis": {
             "endlinecolor": "#A2B1C6",
             "gridcolor": "#506784",
             "linecolor": "#506784",
             "minorgridcolor": "#506784",
             "startlinecolor": "#A2B1C6"
            },
            "baxis": {
             "endlinecolor": "#A2B1C6",
             "gridcolor": "#506784",
             "linecolor": "#506784",
             "minorgridcolor": "#506784",
             "startlinecolor": "#A2B1C6"
            },
            "type": "carpet"
           }
          ],
          "choropleth": [
           {
            "colorbar": {
             "outlinewidth": 0,
             "ticks": ""
            },
            "type": "choropleth"
           }
          ],
          "contourcarpet": [
           {
            "colorbar": {
             "outlinewidth": 0,
             "ticks": ""
            },
            "type": "contourcarpet"
           }
          ],
          "contour": [
           {
            "colorbar": {
             "outlinewidth": 0,
             "ticks": ""
            },
            "colorscale": [
             [
              0.0,
              "#0d0887"
             ],
             [
              0.1111111111111111,
              "#46039f"
             ],
             [
              0.2222222222222222,
              "#7201a8"
             ],
             [
              0.3333333333333333,
              "#9c179e"
             ],
             [
              0.4444444444444444,
              "#bd3786"
             ],
             [
              0.5555555555555556,
              "#d8576b"
             ],
             [
              0.6666666666666666,
              "#ed7953"
             ],
             [
              0.7777777777777778,
              "#fb9f3a"
             ],
             [
              0.8888888888888888,
              "#fdca26"
             ],
             [
              1.0,
              "#f0f921"
             ]
            ],
            "type": "contour"
           }
          ],
          "heatmapgl": [
           {
            "colorbar": {
             "outlinewidth": 0,
             "ticks": ""
            },
            "colorscale": [
             [
              0.0,
              "#0d0887"
             ],
             [
              0.1111111111111111,
              "#46039f"
             ],
             [
              0.2222222222222222,
              "#7201a8"
             ],
             [
              0.3333333333333333,
              "#9c179e"
             ],
             [
              0.4444444444444444,
              "#bd3786"
             ],
             [
              0.5555555555555556,
              "#d8576b"
             ],
             [
              0.6666666666666666,
              "#ed7953"
             ],
             [
              0.7777777777777778,
              "#fb9f3a"
             ],
             [
              0.8888888888888888,
              "#fdca26"
             ],
             [
              1.0,
              "#f0f921"
             ]
            ],
            "type": "heatmapgl"
           }
          ],
          "heatmap": [
           {
            "colorbar": {
             "outlinewidth": 0,
             "ticks": ""
            },
            "colorscale": [
             [
              0.0,
              "#0d0887"
             ],
             [
              0.1111111111111111,
              "#46039f"
             ],
             [
              0.2222222222222222,
              "#7201a8"
             ],
             [
              0.3333333333333333,
              "#9c179e"
             ],
             [
              0.4444444444444444,
              "#bd3786"
             ],
             [
              0.5555555555555556,
              "#d8576b"
             ],
             [
              0.6666666666666666,
              "#ed7953"
             ],
             [
              0.7777777777777778,
              "#fb9f3a"
             ],
             [
              0.8888888888888888,
              "#fdca26"
             ],
             [
              1.0,
              "#f0f921"
             ]
            ],
            "type": "heatmap"
           }
          ],
          "histogram2dcontour": [
           {
            "colorbar": {
             "outlinewidth": 0,
             "ticks": ""
            },
            "colorscale": [
             [
              0.0,
              "#0d0887"
             ],
             [
              0.1111111111111111,
              "#46039f"
             ],
             [
              0.2222222222222222,
              "#7201a8"
             ],
             [
              0.3333333333333333,
              "#9c179e"
             ],
             [
              0.4444444444444444,
              "#bd3786"
             ],
             [
              0.5555555555555556,
              "#d8576b"
             ],
             [
              0.6666666666666666,
              "#ed7953"
             ],
             [
              0.7777777777777778,
              "#fb9f3a"
             ],
             [
              0.8888888888888888,
              "#fdca26"
             ],
             [
              1.0,
              "#f0f921"
             ]
            ],
            "type": "histogram2dcontour"
           }
          ],
          "histogram2d": [
           {
            "colorbar": {
             "outlinewidth": 0,
             "ticks": ""
            },
            "colorscale": [
             [
              0.0,
              "#0d0887"
             ],
             [
              0.1111111111111111,
              "#46039f"
             ],
             [
              0.2222222222222222,
              "#7201a8"
             ],
             [
              0.3333333333333333,
              "#9c179e"
             ],
             [
              0.4444444444444444,
              "#bd3786"
             ],
             [
              0.5555555555555556,
              "#d8576b"
             ],
             [
              0.6666666666666666,
              "#ed7953"
             ],
             [
              0.7777777777777778,
              "#fb9f3a"
             ],
             [
              0.8888888888888888,
              "#fdca26"
             ],
             [
              1.0,
              "#f0f921"
             ]
            ],
            "type": "histogram2d"
           }
          ],
          "histogram": [
           {
            "marker": {
             "pattern": {
              "fillmode": "overlay",
              "size": 10,
              "solidity": 0.2
             }
            },
            "type": "histogram"
           }
          ],
          "mesh3d": [
           {
            "colorbar": {
             "outlinewidth": 0,
             "ticks": ""
            },
            "type": "mesh3d"
           }
          ],
          "parcoords": [
           {
            "line": {
             "colorbar": {
              "outlinewidth": 0,
              "ticks": ""
             }
            },
            "type": "parcoords"
           }
          ],
          "pie": [
           {
            "automargin": true,
            "type": "pie"
           }
          ],
          "scatter3d": [
           {
            "line": {
             "colorbar": {
              "outlinewidth": 0,
              "ticks": ""
             }
            },
            "marker": {
             "colorbar": {
              "outlinewidth": 0,
              "ticks": ""
             }
            },
            "type": "scatter3d"
           }
          ],
          "scattercarpet": [
           {
            "marker": {
             "colorbar": {
              "outlinewidth": 0,
              "ticks": ""
             }
            },
            "type": "scattercarpet"
           }
          ],
          "scattergeo": [
           {
            "marker": {
             "colorbar": {
              "outlinewidth": 0,
              "ticks": ""
             }
            },
            "type": "scattergeo"
           }
          ],
          "scattergl": [
           {
            "marker": {
             "line": {
              "color": "#283442"
             }
            },
            "type": "scattergl"
           }
          ],
          "scattermapbox": [
           {
            "marker": {
             "colorbar": {
              "outlinewidth": 0,
              "ticks": ""
             }
            },
            "type": "scattermapbox"
           }
          ],
          "scatterpolargl": [
           {
            "marker": {
             "colorbar": {
              "outlinewidth": 0,
              "ticks": ""
             }
            },
            "type": "scatterpolargl"
           }
          ],
          "scatterpolar": [
           {
            "marker": {
             "colorbar": {
              "outlinewidth": 0,
              "ticks": ""
             }
            },
            "type": "scatterpolar"
           }
          ],
          "scatter": [
           {
            "marker": {
             "line": {
              "color": "#283442"
             }
            },
            "type": "scatter"
           }
          ],
          "scatterternary": [
           {
            "marker": {
             "colorbar": {
              "outlinewidth": 0,
              "ticks": ""
             }
            },
            "type": "scatterternary"
           }
          ],
          "surface": [
           {
            "colorbar": {
             "outlinewidth": 0,
             "ticks": ""
            },
            "colorscale": [
             [
              0.0,
              "#0d0887"
             ],
             [
              0.1111111111111111,
              "#46039f"
             ],
             [
              0.2222222222222222,
              "#7201a8"
             ],
             [
              0.3333333333333333,
              "#9c179e"
             ],
             [
              0.4444444444444444,
              "#bd3786"
             ],
             [
              0.5555555555555556,
              "#d8576b"
             ],
             [
              0.6666666666666666,
              "#ed7953"
             ],
             [
              0.7777777777777778,
              "#fb9f3a"
             ],
             [
              0.8888888888888888,
              "#fdca26"
             ],
             [
              1.0,
              "#f0f921"
             ]
            ],
            "type": "surface"
           }
          ],
          "table": [
           {
            "cells": {
             "fill": {
              "color": "#506784"
             },
             "line": {
              "color": "rgb(17,17,17)"
             }
            },
            "header": {
             "fill": {
              "color": "#2a3f5f"
             },
             "line": {
              "color": "rgb(17,17,17)"
             }
            },
            "type": "table"
           }
          ]
         },
         "layout": {
          "annotationdefaults": {
           "arrowcolor": "#f2f5fa",
           "arrowhead": 0,
           "arrowwidth": 1
          },
          "autotypenumbers": "strict",
          "coloraxis": {
           "colorbar": {
            "outlinewidth": 0,
            "ticks": ""
           }
          },
          "colorscale": {
           "diverging": [
            [
             0,
             "#8e0152"
            ],
            [
             0.1,
             "#c51b7d"
            ],
            [
             0.2,
             "#de77ae"
            ],
            [
             0.3,
             "#f1b6da"
            ],
            [
             0.4,
             "#fde0ef"
            ],
            [
             0.5,
             "#f7f7f7"
            ],
            [
             0.6,
             "#e6f5d0"
            ],
            [
             0.7,
             "#b8e186"
            ],
            [
             0.8,
             "#7fbc41"
            ],
            [
             0.9,
             "#4d9221"
            ],
            [
             1,
             "#276419"
            ]
           ],
           "sequential": [
            [
             0.0,
             "#0d0887"
            ],
            [
             0.1111111111111111,
             "#46039f"
            ],
            [
             0.2222222222222222,
             "#7201a8"
            ],
            [
             0.3333333333333333,
             "#9c179e"
            ],
            [
             0.4444444444444444,
             "#bd3786"
            ],
            [
             0.5555555555555556,
             "#d8576b"
            ],
            [
             0.6666666666666666,
             "#ed7953"
            ],
            [
             0.7777777777777778,
             "#fb9f3a"
            ],
            [
             0.8888888888888888,
             "#fdca26"
            ],
            [
             1.0,
             "#f0f921"
            ]
           ],
           "sequentialminus": [
            [
             0.0,
             "#0d0887"
            ],
            [
             0.1111111111111111,
             "#46039f"
            ],
            [
             0.2222222222222222,
             "#7201a8"
            ],
            [
             0.3333333333333333,
             "#9c179e"
            ],
            [
             0.4444444444444444,
             "#bd3786"
            ],
            [
             0.5555555555555556,
             "#d8576b"
            ],
            [
             0.6666666666666666,
             "#ed7953"
            ],
            [
             0.7777777777777778,
             "#fb9f3a"
            ],
            [
             0.8888888888888888,
             "#fdca26"
            ],
            [
             1.0,
             "#f0f921"
            ]
           ]
          },
          "colorway": [
           "#636efa",
           "#EF553B",
           "#00cc96",
           "#ab63fa",
           "#FFA15A",
           "#19d3f3",
           "#FF6692",
           "#B6E880",
           "#FF97FF",
           "#FECB52"
          ],
          "font": {
           "color": "#f2f5fa"
          },
          "geo": {
           "bgcolor": "rgb(17,17,17)",
           "lakecolor": "rgb(17,17,17)",
           "landcolor": "rgb(17,17,17)",
           "showlakes": true,
           "showland": true,
           "subunitcolor": "#506784"
          },
          "hoverlabel": {
           "align": "left"
          },
          "hovermode": "closest",
          "mapbox": {
           "style": "dark"
          },
          "paper_bgcolor": "rgb(17,17,17)",
          "plot_bgcolor": "rgb(17,17,17)",
          "polar": {
           "angularaxis": {
            "gridcolor": "#506784",
            "linecolor": "#506784",
            "ticks": ""
           },
           "bgcolor": "rgb(17,17,17)",
           "radialaxis": {
            "gridcolor": "#506784",
            "linecolor": "#506784",
            "ticks": ""
           }
          },
          "scene": {
           "xaxis": {
            "backgroundcolor": "rgb(17,17,17)",
            "gridcolor": "#506784",
            "gridwidth": 2,
            "linecolor": "#506784",
            "showbackground": true,
            "ticks": "",
            "zerolinecolor": "#C8D4E3"
           },
           "yaxis": {
            "backgroundcolor": "rgb(17,17,17)",
            "gridcolor": "#506784",
            "gridwidth": 2,
            "linecolor": "#506784",
            "showbackground": true,
            "ticks": "",
            "zerolinecolor": "#C8D4E3"
           },
           "zaxis": {
            "backgroundcolor": "rgb(17,17,17)",
            "gridcolor": "#506784",
            "gridwidth": 2,
            "linecolor": "#506784",
            "showbackground": true,
            "ticks": "",
            "zerolinecolor": "#C8D4E3"
           }
          },
          "shapedefaults": {
           "line": {
            "color": "#f2f5fa"
           }
          },
          "sliderdefaults": {
           "bgcolor": "#C8D4E3",
           "bordercolor": "rgb(17,17,17)",
           "borderwidth": 1,
           "tickwidth": 0
          },
          "ternary": {
           "aaxis": {
            "gridcolor": "#506784",
            "linecolor": "#506784",
            "ticks": ""
           },
           "baxis": {
            "gridcolor": "#506784",
            "linecolor": "#506784",
            "ticks": ""
           },
           "bgcolor": "rgb(17,17,17)",
           "caxis": {
            "gridcolor": "#506784",
            "linecolor": "#506784",
            "ticks": ""
           }
          },
          "title": {
           "x": 0.05
          },
          "updatemenudefaults": {
           "bgcolor": "#506784",
           "borderwidth": 0
          },
          "xaxis": {
           "automargin": true,
           "gridcolor": "#283442",
           "linecolor": "#506784",
           "ticks": "",
           "title": {
            "standoff": 15
           },
           "zerolinecolor": "#283442",
           "zerolinewidth": 2
          },
          "yaxis": {
           "automargin": true,
           "gridcolor": "#283442",
           "linecolor": "#506784",
           "ticks": "",
           "title": {
            "standoff": 15
           },
           "zerolinecolor": "#283442",
           "zerolinewidth": 2
          }
         }
        },
        "title": {
         "text": "Female suicide rate(2019)"
        }
       },
       "config": {
        "showLink": false,
        "linkText": "Export to plot.ly",
        "plotlyServerURL": "https://plot.ly"
       }
      },
      "text/html": "<div>                            <div id=\"813bae91-ff78-48ef-b44f-850df869404b\" class=\"plotly-graph-div\" style=\"height:525px; width:100%;\"></div>            <script type=\"text/javascript\">                require([\"plotly\"], function(Plotly) {                    window.PLOTLYENV=window.PLOTLYENV || {};                                    if (document.getElementById(\"813bae91-ff78-48ef-b44f-850df869404b\")) {                    Plotly.newPlot(                        \"813bae91-ff78-48ef-b44f-850df869404b\",                        [{\"colorbar\":{\"title\":{\"text\":\"suicide rate(2019)\"}},\"locations\":[\"LSO\",\"GUY\",\"SWZ\",\"KOR\",\"KIR\",\"FSM\",\"LTU\",\"SUR\",\"RUS\",\"ZAF\",\"UKR\",\"BLR\",\"URY\",\"MNE\",\"LVA\",\"SVN\",\"BEL\",\"VUT\",\"MNG\",\"KAZ\",\"HUN\",\"HRV\",\"USA\",\"BWA\",\"JPN\",\"FIN\",\"EST\",\"SWE\",\"MDA\",\"SLB\",\"AUT\",\"CUB\",\"CHE\",\"ZWE\",\"LKA\",\"FRA\",\"MOZ\",\"IND\",\"WSM\",\"AUS\",\"DEU\",\"CAF\",\"SVK\",\"ISL\",\"CAN\",\"NLD\",\"NOR\",\"PRT\",\"SRB\",\"POL\",\"LUX\",\"SGP\",\"NZL\",\"ERI\",\"BIH\",\"DNK\",\"ROU\",\"BGR\",\"NAM\",\"HTI\",\"IRL\",\"DJI\",\"MUS\",\"PRK\",\"MKD\",\"GEO\",\"NPL\",\"CMR\",\"CHL\",\"FJI\",\"PAK\",\"CIV\",\"BHR\",\"THA\",\"TGO\",\"TTO\",\"ARG\",\"GAB\",\"CHN\",\"CRI\",\"SYC\",\"UZB\",\"GBR\",\"SOM\",\"GNQ\",\"LCA\",\"BEN\",\"ESP\",\"ECU\",\"VNM\",\"BFA\",\"KGZ\",\"ZMB\",\"MAR\",\"BLZ\",\"GIN\",\"GNB\",\"BRA\",\"COD\",\"ITA\",\"SLE\",\"GHA\",\"TCD\",\"ARE\",\"BDI\",\"BOL\",\"KEN\",\"AGO\",\"SLV\",\"MLT\",\"SAU\",\"SEN\",\"PRY\",\"GTM\",\"YEM\",\"QAT\",\"MYS\",\"TKM\",\"RWA\",\"MDG\",\"ETH\",\"MWI\",\"LAO\",\"COM\",\"MEX\",\"NER\",\"ISR\",\"IRN\",\"GRC\",\"KHM\",\"DOM\",\"OMN\",\"GMB\",\"UGA\",\"BTN\",\"LBY\",\"LBR\",\"NIC\",\"TZA\",\"TJK\",\"ALB\",\"AFG\",\"MLI\",\"AZE\",\"COL\",\"SSD\",\"SDN\",\"TON\",\"BGD\",\"TLS\",\"IRQ\",\"CYP\",\"NGA\",\"BHS\",\"TUN\",\"ARM\",\"MRT\",\"EGY\",\"PNG\",\"MMR\",\"PAN\",\"KWT\",\"PER\",\"LBN\",\"MDV\",\"BRN\",\"DZA\",\"IDN\",\"TUR\",\"JAM\",\"PHL\",\"VEN\",\"HND\",\"JOR\",\"STP\",\"VCT\",\"GRD\",\"BRB\",\"ATG\"],\"text\":[\"Lesotho\",\"Guyana\",\"Eswatini\",\"South Korea\",\"Kiribati\",\"Micronesia\",\"Lithuania\",\"Suriname\",\"Russia\",\"South Africa\",\"Ukraine\",\"Belarus\",\"Uruguay\",\"Montenegro\",\"Latvia\",\"Slovenia\",\"Belgium\",\"Vanuatu\",\"Mongolia\",\"Kazakhstan\",\"Hungary\",\"Croatia\",\"United States\",\"Botswana\",\"Japan\",\"Finland\",\"Estonia\",\"Sweden\",\"Moldova\",\"Solomon Islands\",\"Austria\",\"Cuba\",\"Switzerland\",\"Zimbabwe\",\"Sri Lanka\",\"France\",\"Mozambique\",\"India\",\"Samoa\",\"Australia\",\"Germany\",\"Central African Republic\",\"Slovakia\",\"Iceland\",\"Canada\",\"Netherlands\",\"Norway\",\"Portugal\",\"Serbia\",\"Poland\",\"Luxembourg\",\"Singapore\",\"New Zealand\",\"Eritrea\",\"Bosnia and Herzegovina\",\"Denmark\",\"Romania\",\"Bulgaria\",\"Namibia\",\"Haiti\",\"Ireland\",\"Djibouti\",\"Mauritius\",\"North Korea\",\"North Macedonia\",\"Georgia\",\"Nepal\",\"Cameroon\",\"Chile\",\"Fiji\",\"Pakistan\",\"Ivory Coast\",\"Bahrain\",\"Thailand\",\"Togo\",\"Trinidad and Tobago\",\"Argentina\",\"Gabon\",\"China\",\"Costa Rica\",\"Seychelles\",\"Uzbekistan\",\"United Kingdom\",\"Somalia\",\"Equatorial Guinea\",\"Saint Lucia\",\"Benin\",\"Spain\",\"Ecuador\",\"Vietnam\",\"Burkina Faso\",\"Kyrgyzstan\",\"Zambia\",\"Morocco\",\"Belize\",\"Guinea\",\"Guinea-Bissau\",\"Brazil\",\"DR Congo\",\"Italy\",\"Sierra Leone\",\"Ghana\",\"Chad\",\"United Arab Emirates\",\"Burundi\",\"Bolivia\",\"Kenya\",\"Angola\",\"El Salvador\",\"Malta\",\"Saudi Arabia\",\"Senegal\",\"Paraguay\",\"Guatemala\",\"Yemen\",\"Qatar\",\"Malaysia\",\"Turkmenistan\",\"Rwanda\",\"Madagascar\",\"Ethiopia\",\"Malawi\",\"Laos\",\"Comoros\",\"Mexico\",\"Niger\",\"Israel\",\"Iran\",\"Greece\",\"Cambodia\",\"Dominican Republic\",\"Oman\",\"Gambia\",\"Uganda\",\"Bhutan\",\"Libya\",\"Liberia\",\"Nicaragua\",\"Tanzania\",\"Tajikistan\",\"Albania\",\"Afghanistan\",\"Mali\",\"Azerbaijan\",\"Colombia\",\"South Sudan\",\"Sudan\",\"Tonga\",\"Bangladesh\",\"Timor-Leste\",\"Iraq\",\"Cyprus\",\"Nigeria\",\"Bahamas\",\"Tunisia\",\"Armenia\",\"Mauritania\",\"Egypt\",\"Papua New Guinea\",\"Myanmar\",\"Panama\",\"Kuwait\",\"Peru\",\"Lebanon\",\"Maldives\",\"Brunei\",\"Algeria\",\"Indonesia\",\"Turkey\",\"Jamaica\",\"Philippines\",\"Venezuela\",\"Honduras\",\"Jordan\",\"Sao Tome and Principe\",\"Saint Vincent and the Grenadines\",\"Grenada\",\"Barbados\",\"Antigua and Barbuda\"],\"z\":[30.1,17.4,4.7,16.9,8.7,12.7,9.6,11.8,9.1,9.8,6.5,7.7,8.9,10.4,7.0,8.3,11.8,7.6,5.4,6.8,8.3,8.1,7.5,6.4,9.2,7.6,6.5,9.5,4.1,1.9,6.7,6.0,9.0,8.8,6.2,7.6,5.7,11.1,6.7,6.4,6.2,5.2,3.4,3.9,6.1,8.3,7.7,5.7,6.3,3.1,7.1,7.1,5.8,5.2,4.5,6.5,3.3,4.4,3.2,7.6,3.9,6.4,2.8,7.6,4.8,3.0,2.7,4.4,3.2,5.7,4.3,2.8,2.4,2.9,3.9,3.6,3.3,2.4,6.2,2.0,1.4,4.8,4.0,3.8,6.0,1.7,3.8,4.2,3.6,4.7,3.7,3.2,2.7,4.7,1.7,4.9,3.9,3.0,2.8,3.5,5.1,1.2,3.3,3.0,3.4,4.1,3.2,2.3,2.1,2.3,2.0,3.0,3.2,2.6,4.6,1.7,2.3,2.7,3.0,3.4,3.1,1.7,3.2,3.8,2.2,3.3,2.3,2.8,1.9,2.8,1.8,1.0,3.0,1.7,2.7,2.9,3.3,1.9,2.0,2.8,2.7,3.6,2.9,1.6,1.8,2.0,2.8,2.6,1.7,2.0,2.0,1.3,1.9,1.3,1.9,1.3,2.2,2.0,1.6,1.1,1.0,0.7,1.4,1.7,0.8,0.8,1.8,1.1,1.2,1.1,1.2,0.7,0.8,0.7,0.8,0.6,0.7,0.3,0.8],\"type\":\"choropleth\"}],                        {\"geo\":{\"showframe\":true},\"template\":{\"data\":{\"barpolar\":[{\"marker\":{\"line\":{\"color\":\"rgb(17,17,17)\",\"width\":0.5},\"pattern\":{\"fillmode\":\"overlay\",\"size\":10,\"solidity\":0.2}},\"type\":\"barpolar\"}],\"bar\":[{\"error_x\":{\"color\":\"#f2f5fa\"},\"error_y\":{\"color\":\"#f2f5fa\"},\"marker\":{\"line\":{\"color\":\"rgb(17,17,17)\",\"width\":0.5},\"pattern\":{\"fillmode\":\"overlay\",\"size\":10,\"solidity\":0.2}},\"type\":\"bar\"}],\"carpet\":[{\"aaxis\":{\"endlinecolor\":\"#A2B1C6\",\"gridcolor\":\"#506784\",\"linecolor\":\"#506784\",\"minorgridcolor\":\"#506784\",\"startlinecolor\":\"#A2B1C6\"},\"baxis\":{\"endlinecolor\":\"#A2B1C6\",\"gridcolor\":\"#506784\",\"linecolor\":\"#506784\",\"minorgridcolor\":\"#506784\",\"startlinecolor\":\"#A2B1C6\"},\"type\":\"carpet\"}],\"choropleth\":[{\"colorbar\":{\"outlinewidth\":0,\"ticks\":\"\"},\"type\":\"choropleth\"}],\"contourcarpet\":[{\"colorbar\":{\"outlinewidth\":0,\"ticks\":\"\"},\"type\":\"contourcarpet\"}],\"contour\":[{\"colorbar\":{\"outlinewidth\":0,\"ticks\":\"\"},\"colorscale\":[[0.0,\"#0d0887\"],[0.1111111111111111,\"#46039f\"],[0.2222222222222222,\"#7201a8\"],[0.3333333333333333,\"#9c179e\"],[0.4444444444444444,\"#bd3786\"],[0.5555555555555556,\"#d8576b\"],[0.6666666666666666,\"#ed7953\"],[0.7777777777777778,\"#fb9f3a\"],[0.8888888888888888,\"#fdca26\"],[1.0,\"#f0f921\"]],\"type\":\"contour\"}],\"heatmapgl\":[{\"colorbar\":{\"outlinewidth\":0,\"ticks\":\"\"},\"colorscale\":[[0.0,\"#0d0887\"],[0.1111111111111111,\"#46039f\"],[0.2222222222222222,\"#7201a8\"],[0.3333333333333333,\"#9c179e\"],[0.4444444444444444,\"#bd3786\"],[0.5555555555555556,\"#d8576b\"],[0.6666666666666666,\"#ed7953\"],[0.7777777777777778,\"#fb9f3a\"],[0.8888888888888888,\"#fdca26\"],[1.0,\"#f0f921\"]],\"type\":\"heatmapgl\"}],\"heatmap\":[{\"colorbar\":{\"outlinewidth\":0,\"ticks\":\"\"},\"colorscale\":[[0.0,\"#0d0887\"],[0.1111111111111111,\"#46039f\"],[0.2222222222222222,\"#7201a8\"],[0.3333333333333333,\"#9c179e\"],[0.4444444444444444,\"#bd3786\"],[0.5555555555555556,\"#d8576b\"],[0.6666666666666666,\"#ed7953\"],[0.7777777777777778,\"#fb9f3a\"],[0.8888888888888888,\"#fdca26\"],[1.0,\"#f0f921\"]],\"type\":\"heatmap\"}],\"histogram2dcontour\":[{\"colorbar\":{\"outlinewidth\":0,\"ticks\":\"\"},\"colorscale\":[[0.0,\"#0d0887\"],[0.1111111111111111,\"#46039f\"],[0.2222222222222222,\"#7201a8\"],[0.3333333333333333,\"#9c179e\"],[0.4444444444444444,\"#bd3786\"],[0.5555555555555556,\"#d8576b\"],[0.6666666666666666,\"#ed7953\"],[0.7777777777777778,\"#fb9f3a\"],[0.8888888888888888,\"#fdca26\"],[1.0,\"#f0f921\"]],\"type\":\"histogram2dcontour\"}],\"histogram2d\":[{\"colorbar\":{\"outlinewidth\":0,\"ticks\":\"\"},\"colorscale\":[[0.0,\"#0d0887\"],[0.1111111111111111,\"#46039f\"],[0.2222222222222222,\"#7201a8\"],[0.3333333333333333,\"#9c179e\"],[0.4444444444444444,\"#bd3786\"],[0.5555555555555556,\"#d8576b\"],[0.6666666666666666,\"#ed7953\"],[0.7777777777777778,\"#fb9f3a\"],[0.8888888888888888,\"#fdca26\"],[1.0,\"#f0f921\"]],\"type\":\"histogram2d\"}],\"histogram\":[{\"marker\":{\"pattern\":{\"fillmode\":\"overlay\",\"size\":10,\"solidity\":0.2}},\"type\":\"histogram\"}],\"mesh3d\":[{\"colorbar\":{\"outlinewidth\":0,\"ticks\":\"\"},\"type\":\"mesh3d\"}],\"parcoords\":[{\"line\":{\"colorbar\":{\"outlinewidth\":0,\"ticks\":\"\"}},\"type\":\"parcoords\"}],\"pie\":[{\"automargin\":true,\"type\":\"pie\"}],\"scatter3d\":[{\"line\":{\"colorbar\":{\"outlinewidth\":0,\"ticks\":\"\"}},\"marker\":{\"colorbar\":{\"outlinewidth\":0,\"ticks\":\"\"}},\"type\":\"scatter3d\"}],\"scattercarpet\":[{\"marker\":{\"colorbar\":{\"outlinewidth\":0,\"ticks\":\"\"}},\"type\":\"scattercarpet\"}],\"scattergeo\":[{\"marker\":{\"colorbar\":{\"outlinewidth\":0,\"ticks\":\"\"}},\"type\":\"scattergeo\"}],\"scattergl\":[{\"marker\":{\"line\":{\"color\":\"#283442\"}},\"type\":\"scattergl\"}],\"scattermapbox\":[{\"marker\":{\"colorbar\":{\"outlinewidth\":0,\"ticks\":\"\"}},\"type\":\"scattermapbox\"}],\"scatterpolargl\":[{\"marker\":{\"colorbar\":{\"outlinewidth\":0,\"ticks\":\"\"}},\"type\":\"scatterpolargl\"}],\"scatterpolar\":[{\"marker\":{\"colorbar\":{\"outlinewidth\":0,\"ticks\":\"\"}},\"type\":\"scatterpolar\"}],\"scatter\":[{\"marker\":{\"line\":{\"color\":\"#283442\"}},\"type\":\"scatter\"}],\"scatterternary\":[{\"marker\":{\"colorbar\":{\"outlinewidth\":0,\"ticks\":\"\"}},\"type\":\"scatterternary\"}],\"surface\":[{\"colorbar\":{\"outlinewidth\":0,\"ticks\":\"\"},\"colorscale\":[[0.0,\"#0d0887\"],[0.1111111111111111,\"#46039f\"],[0.2222222222222222,\"#7201a8\"],[0.3333333333333333,\"#9c179e\"],[0.4444444444444444,\"#bd3786\"],[0.5555555555555556,\"#d8576b\"],[0.6666666666666666,\"#ed7953\"],[0.7777777777777778,\"#fb9f3a\"],[0.8888888888888888,\"#fdca26\"],[1.0,\"#f0f921\"]],\"type\":\"surface\"}],\"table\":[{\"cells\":{\"fill\":{\"color\":\"#506784\"},\"line\":{\"color\":\"rgb(17,17,17)\"}},\"header\":{\"fill\":{\"color\":\"#2a3f5f\"},\"line\":{\"color\":\"rgb(17,17,17)\"}},\"type\":\"table\"}]},\"layout\":{\"annotationdefaults\":{\"arrowcolor\":\"#f2f5fa\",\"arrowhead\":0,\"arrowwidth\":1},\"autotypenumbers\":\"strict\",\"coloraxis\":{\"colorbar\":{\"outlinewidth\":0,\"ticks\":\"\"}},\"colorscale\":{\"diverging\":[[0,\"#8e0152\"],[0.1,\"#c51b7d\"],[0.2,\"#de77ae\"],[0.3,\"#f1b6da\"],[0.4,\"#fde0ef\"],[0.5,\"#f7f7f7\"],[0.6,\"#e6f5d0\"],[0.7,\"#b8e186\"],[0.8,\"#7fbc41\"],[0.9,\"#4d9221\"],[1,\"#276419\"]],\"sequential\":[[0.0,\"#0d0887\"],[0.1111111111111111,\"#46039f\"],[0.2222222222222222,\"#7201a8\"],[0.3333333333333333,\"#9c179e\"],[0.4444444444444444,\"#bd3786\"],[0.5555555555555556,\"#d8576b\"],[0.6666666666666666,\"#ed7953\"],[0.7777777777777778,\"#fb9f3a\"],[0.8888888888888888,\"#fdca26\"],[1.0,\"#f0f921\"]],\"sequentialminus\":[[0.0,\"#0d0887\"],[0.1111111111111111,\"#46039f\"],[0.2222222222222222,\"#7201a8\"],[0.3333333333333333,\"#9c179e\"],[0.4444444444444444,\"#bd3786\"],[0.5555555555555556,\"#d8576b\"],[0.6666666666666666,\"#ed7953\"],[0.7777777777777778,\"#fb9f3a\"],[0.8888888888888888,\"#fdca26\"],[1.0,\"#f0f921\"]]},\"colorway\":[\"#636efa\",\"#EF553B\",\"#00cc96\",\"#ab63fa\",\"#FFA15A\",\"#19d3f3\",\"#FF6692\",\"#B6E880\",\"#FF97FF\",\"#FECB52\"],\"font\":{\"color\":\"#f2f5fa\"},\"geo\":{\"bgcolor\":\"rgb(17,17,17)\",\"lakecolor\":\"rgb(17,17,17)\",\"landcolor\":\"rgb(17,17,17)\",\"showlakes\":true,\"showland\":true,\"subunitcolor\":\"#506784\"},\"hoverlabel\":{\"align\":\"left\"},\"hovermode\":\"closest\",\"mapbox\":{\"style\":\"dark\"},\"paper_bgcolor\":\"rgb(17,17,17)\",\"plot_bgcolor\":\"rgb(17,17,17)\",\"polar\":{\"angularaxis\":{\"gridcolor\":\"#506784\",\"linecolor\":\"#506784\",\"ticks\":\"\"},\"bgcolor\":\"rgb(17,17,17)\",\"radialaxis\":{\"gridcolor\":\"#506784\",\"linecolor\":\"#506784\",\"ticks\":\"\"}},\"scene\":{\"xaxis\":{\"backgroundcolor\":\"rgb(17,17,17)\",\"gridcolor\":\"#506784\",\"gridwidth\":2,\"linecolor\":\"#506784\",\"showbackground\":true,\"ticks\":\"\",\"zerolinecolor\":\"#C8D4E3\"},\"yaxis\":{\"backgroundcolor\":\"rgb(17,17,17)\",\"gridcolor\":\"#506784\",\"gridwidth\":2,\"linecolor\":\"#506784\",\"showbackground\":true,\"ticks\":\"\",\"zerolinecolor\":\"#C8D4E3\"},\"zaxis\":{\"backgroundcolor\":\"rgb(17,17,17)\",\"gridcolor\":\"#506784\",\"gridwidth\":2,\"linecolor\":\"#506784\",\"showbackground\":true,\"ticks\":\"\",\"zerolinecolor\":\"#C8D4E3\"}},\"shapedefaults\":{\"line\":{\"color\":\"#f2f5fa\"}},\"sliderdefaults\":{\"bgcolor\":\"#C8D4E3\",\"bordercolor\":\"rgb(17,17,17)\",\"borderwidth\":1,\"tickwidth\":0},\"ternary\":{\"aaxis\":{\"gridcolor\":\"#506784\",\"linecolor\":\"#506784\",\"ticks\":\"\"},\"baxis\":{\"gridcolor\":\"#506784\",\"linecolor\":\"#506784\",\"ticks\":\"\"},\"bgcolor\":\"rgb(17,17,17)\",\"caxis\":{\"gridcolor\":\"#506784\",\"linecolor\":\"#506784\",\"ticks\":\"\"}},\"title\":{\"x\":0.05},\"updatemenudefaults\":{\"bgcolor\":\"#506784\",\"borderwidth\":0},\"xaxis\":{\"automargin\":true,\"gridcolor\":\"#283442\",\"linecolor\":\"#506784\",\"ticks\":\"\",\"title\":{\"standoff\":15},\"zerolinecolor\":\"#283442\",\"zerolinewidth\":2},\"yaxis\":{\"automargin\":true,\"gridcolor\":\"#283442\",\"linecolor\":\"#506784\",\"ticks\":\"\",\"title\":{\"standoff\":15},\"zerolinecolor\":\"#283442\",\"zerolinewidth\":2}}},\"title\":{\"text\":\"Female suicide rate(2019)\"}},                        {\"responsive\": true}                    ).then(function(){\n                            \nvar gd = document.getElementById('813bae91-ff78-48ef-b44f-850df869404b');\nvar x = new MutationObserver(function (mutations, observer) {{\n        var display = window.getComputedStyle(gd).display;\n        if (!display || display === 'none') {{\n            console.log([gd, 'removed!']);\n            Plotly.purge(gd);\n            observer.disconnect();\n        }}\n}});\n\n// Listen for the removal of the full notebook cells\nvar notebookContainer = gd.closest('#notebook-container');\nif (notebookContainer) {{\n    x.observe(notebookContainer, {childList: true});\n}}\n\n// Listen for the clearing of the current output cell\nvar outputEl = gd.closest('.output');\nif (outputEl) {{\n    x.observe(outputEl, {childList: true});\n}}\n\n                        })                };                });            </script>        </div>"
     },
     "metadata": {},
     "output_type": "display_data"
    }
   ],
   "source": [
    "data = dict(\n",
    "    type='choropleth', locations=df['cca3'],\n",
    "    z= df['rate2019female'],\n",
    "    text = df['country'],\n",
    "    colorbar={'title':'suicide rate(2019)'}\n",
    ")\n",
    "layout = dict(title = 'Female suicide rate(2019)',\n",
    "geo = dict(showframe =  True))\n",
    "choromap3 = go.Figure(data= [data],layout=layout)\n",
    "iplot(choromap3)"
   ]
  },
  {
   "cell_type": "code",
   "execution_count": 26,
   "id": "4ecedf01",
   "metadata": {},
   "outputs": [
    {
     "data": {
      "text/plain": "<AxesSubplot:ylabel='rate2019female'>"
     },
     "execution_count": 26,
     "metadata": {},
     "output_type": "execute_result"
    },
    {
     "data": {
      "text/plain": "<Figure size 640x480 with 1 Axes>",
      "image/png": "[encoded data removed]"
     },
     "metadata": {},
     "output_type": "display_data"
    }
   ],
   "source": [
    "sns.boxplot(y='rate2019female',data = df)"
   ]
  },
  {
   "cell_type": "code",
   "execution_count": 27,
   "id": "73d71c2b",
   "metadata": {},
   "outputs": [],
   "source": [
    "q1 = df['rate2019female'].quantile(0.25)\n",
    "q3 = df['rate2019female'].quantile(0.75)\n",
    "iqr = q3-q1\n",
    "lower_lim_f = q1-1.5*iqr\n",
    "upper_lim_f = q3+1.5*iqr"
   ]
  },
  {
   "cell_type": "code",
   "execution_count": 28,
   "id": "64e77378",
   "metadata": {},
   "outputs": [],
   "source": [
    "high_fcrate = df[df['rate2019female']>upper_lim_f]['rate2019female'].values\n",
    "countries_high_fcrate = df[df['rate2019female']>upper_lim_f]['cca3'].to_list()\n",
    "country_f = df[df['rate2019female']>upper_lim_f]['country'].to_list()\n"
   ]
  },
  {
   "cell_type": "code",
   "execution_count": 29,
   "id": "a1249373",
   "metadata": {},
   "outputs": [
    {
     "data": {
      "application/vnd.plotly.v1+json": {
       "data": [
        {
         "colorbar": {
          "title": {
           "text": "Female suicide rate(2019)"
          }
         },
         "locations": [
          "LSO",
          "GUY",
          "KOR",
          "FSM"
         ],
         "text": [
          "Lesotho",
          "Guyana",
          "South Korea",
          "Micronesia"
         ],
         "z": [
          30.1,
          17.4,
          16.9,
          12.7
         ],
         "type": "choropleth"
        }
       ],
       "layout": {
        "geo": {
         "showframe": true
        },
        "template": {
         "data": {
          "barpolar": [
           {
            "marker": {
             "line": {
              "color": "rgb(17,17,17)",
              "width": 0.5
             },
             "pattern": {
              "fillmode": "overlay",
              "size": 10,
              "solidity": 0.2
             }
            },
            "type": "barpolar"
           }
          ],
          "bar": [
           {
            "error_x": {
             "color": "#f2f5fa"
            },
            "error_y": {
             "color": "#f2f5fa"
            },
            "marker": {
             "line": {
              "color": "rgb(17,17,17)",
              "width": 0.5
             },
             "pattern": {
              "fillmode": "overlay",
              "size": 10,
              "solidity": 0.2
             }
            },
            "type": "bar"
           }
          ],
          "carpet": [
           {
            "aaxis": {
             "endlinecolor": "#A2B1C6",
             "gridcolor": "#506784",
             "linecolor": "#506784",
             "minorgridcolor": "#506784",
             "startlinecolor": "#A2B1C6"
            },
            "baxis": {
             "endlinecolor": "#A2B1C6",
             "gridcolor": "#506784",
             "linecolor": "#506784",
             "minorgridcolor": "#506784",
             "startlinecolor": "#A2B1C6"
            },
            "type": "carpet"
           }
          ],
          "choropleth": [
           {
            "colorbar": {
             "outlinewidth": 0,
             "ticks": ""
            },
            "type": "choropleth"
           }
          ],
          "contourcarpet": [
           {
            "colorbar": {
             "outlinewidth": 0,
             "ticks": ""
            },
            "type": "contourcarpet"
           }
          ],
          "contour": [
           {
            "colorbar": {
             "outlinewidth": 0,
             "ticks": ""
            },
            "colorscale": [
             [
              0.0,
              "#0d0887"
             ],
             [
              0.1111111111111111,
              "#46039f"
             ],
             [
              0.2222222222222222,
              "#7201a8"
             ],
             [
              0.3333333333333333,
              "#9c179e"
             ],
             [
              0.4444444444444444,
              "#bd3786"
             ],
             [
              0.5555555555555556,
              "#d8576b"
             ],
             [
              0.6666666666666666,
              "#ed7953"
             ],
             [
              0.7777777777777778,
              "#fb9f3a"
             ],
             [
              0.8888888888888888,
              "#fdca26"
             ],
             [
              1.0,
              "#f0f921"
             ]
            ],
            "type": "contour"
           }
          ],
          "heatmapgl": [
           {
            "colorbar": {
             "outlinewidth": 0,
             "ticks": ""
            },
            "colorscale": [
             [
              0.0,
              "#0d0887"
             ],
             [
              0.1111111111111111,
              "#46039f"
             ],
             [
              0.2222222222222222,
              "#7201a8"
             ],
             [
              0.3333333333333333,
              "#9c179e"
             ],
             [
              0.4444444444444444,
              "#bd3786"
             ],
             [
              0.5555555555555556,
              "#d8576b"
             ],
             [
              0.6666666666666666,
              "#ed7953"
             ],
             [
              0.7777777777777778,
              "#fb9f3a"
             ],
             [
              0.8888888888888888,
              "#fdca26"
             ],
             [
              1.0,
              "#f0f921"
             ]
            ],
            "type": "heatmapgl"
           }
          ],
          "heatmap": [
           {
            "colorbar": {
             "outlinewidth": 0,
             "ticks": ""
            },
            "colorscale": [
             [
              0.0,
              "#0d0887"
             ],
             [
              0.1111111111111111,
              "#46039f"
             ],
             [
              0.2222222222222222,
              "#7201a8"
             ],
             [
              0.3333333333333333,
              "#9c179e"
             ],
             [
              0.4444444444444444,
              "#bd3786"
             ],
             [
              0.5555555555555556,
              "#d8576b"
             ],
             [
              0.6666666666666666,
              "#ed7953"
             ],
             [
              0.7777777777777778,
              "#fb9f3a"
             ],
             [
              0.8888888888888888,
              "#fdca26"
             ],
             [
              1.0,
              "#f0f921"
             ]
            ],
            "type": "heatmap"
           }
          ],
          "histogram2dcontour": [
           {
            "colorbar": {
             "outlinewidth": 0,
             "ticks": ""
            },
            "colorscale": [
             [
              0.0,
              "#0d0887"
             ],
             [
              0.1111111111111111,
              "#46039f"
             ],
             [
              0.2222222222222222,
              "#7201a8"
             ],
             [
              0.3333333333333333,
              "#9c179e"
             ],
             [
              0.4444444444444444,
              "#bd3786"
             ],
             [
              0.5555555555555556,
              "#d8576b"
             ],
             [
              0.6666666666666666,
              "#ed7953"
             ],
             [
              0.7777777777777778,
              "#fb9f3a"
             ],
             [
              0.8888888888888888,
              "#fdca26"
             ],
             [
              1.0,
              "#f0f921"
             ]
            ],
            "type": "histogram2dcontour"
           }
          ],
          "histogram2d": [
           {
            "colorbar": {
             "outlinewidth": 0,
             "ticks": ""
            },
            "colorscale": [
             [
              0.0,
              "#0d0887"
             ],
             [
              0.1111111111111111,
              "#46039f"
             ],
             [
              0.2222222222222222,
              "#7201a8"
             ],
             [
              0.3333333333333333,
              "#9c179e"
             ],
             [
              0.4444444444444444,
              "#bd3786"
             ],
             [
              0.5555555555555556,
              "#d8576b"
             ],
             [
              0.6666666666666666,
              "#ed7953"
             ],
             [
              0.7777777777777778,
              "#fb9f3a"
             ],
             [
              0.8888888888888888,
              "#fdca26"
             ],
             [
              1.0,
              "#f0f921"
             ]
            ],
            "type": "histogram2d"
           }
          ],
          "histogram": [
           {
            "marker": {
             "pattern": {
              "fillmode": "overlay",
              "size": 10,
              "solidity": 0.2
             }
            },
            "type": "histogram"
           }
          ],
          "mesh3d": [
           {
            "colorbar": {
             "outlinewidth": 0,
             "ticks": ""
            },
            "type": "mesh3d"
           }
          ],
          "parcoords": [
           {
            "line": {
             "colorbar": {
              "outlinewidth": 0,
              "ticks": ""
             }
            },
            "type": "parcoords"
           }
          ],
          "pie": [
           {
            "automargin": true,
            "type": "pie"
           }
          ],
          "scatter3d": [
           {
            "line": {
             "colorbar": {
              "outlinewidth": 0,
              "ticks": ""
             }
            },
            "marker": {
             "colorbar": {
              "outlinewidth": 0,
              "ticks": ""
             }
            },
            "type": "scatter3d"
           }
          ],
          "scattercarpet": [
           {
            "marker": {
             "colorbar": {
              "outlinewidth": 0,
              "ticks": ""
             }
            },
            "type": "scattercarpet"
           }
          ],
          "scattergeo": [
           {
            "marker": {
             "colorbar": {
              "outlinewidth": 0,
              "ticks": ""
             }
            },
            "type": "scattergeo"
           }
          ],
          "scattergl": [
           {
            "marker": {
             "line": {
              "color": "#283442"
             }
            },
            "type": "scattergl"
           }
          ],
          "scattermapbox": [
           {
            "marker": {
             "colorbar": {
              "outlinewidth": 0,
              "ticks": ""
             }
            },
            "type": "scattermapbox"
           }
          ],
          "scatterpolargl": [
           {
            "marker": {
             "colorbar": {
              "outlinewidth": 0,
              "ticks": ""
             }
            },
            "type": "scatterpolargl"
           }
          ],
          "scatterpolar": [
           {
            "marker": {
             "colorbar": {
              "outlinewidth": 0,
              "ticks": ""
             }
            },
            "type": "scatterpolar"
           }
          ],
          "scatter": [
           {
            "marker": {
             "line": {
              "color": "#283442"
             }
            },
            "type": "scatter"
           }
          ],
          "scatterternary": [
           {
            "marker": {
             "colorbar": {
              "outlinewidth": 0,
              "ticks": ""
             }
            },
            "type": "scatterternary"
           }
          ],
          "surface": [
           {
            "colorbar": {
             "outlinewidth": 0,
             "ticks": ""
            },
            "colorscale": [
             [
              0.0,
              "#0d0887"
             ],
             [
              0.1111111111111111,
              "#46039f"
             ],
             [
              0.2222222222222222,
              "#7201a8"
             ],
             [
              0.3333333333333333,
              "#9c179e"
             ],
             [
              0.4444444444444444,
              "#bd3786"
             ],
             [
              0.5555555555555556,
              "#d8576b"
             ],
             [
              0.6666666666666666,
              "#ed7953"
             ],
             [
              0.7777777777777778,
              "#fb9f3a"
             ],
             [
              0.8888888888888888,
              "#fdca26"
             ],
             [
              1.0,
              "#f0f921"
             ]
            ],
            "type": "surface"
           }
          ],
          "table": [
           {
            "cells": {
             "fill": {
              "color": "#506784"
             },
             "line": {
              "color": "rgb(17,17,17)"
             }
            },
            "header": {
             "fill": {
              "color": "#2a3f5f"
             },
             "line": {
              "color": "rgb(17,17,17)"
             }
            },
            "type": "table"
           }
          ]
         },
         "layout": {
          "annotationdefaults": {
           "arrowcolor": "#f2f5fa",
           "arrowhead": 0,
           "arrowwidth": 1
          },
          "autotypenumbers": "strict",
          "coloraxis": {
           "colorbar": {
            "outlinewidth": 0,
            "ticks": ""
           }
          },
          "colorscale": {
           "diverging": [
            [
             0,
             "#8e0152"
            ],
            [
             0.1,
             "#c51b7d"
            ],
            [
             0.2,
             "#de77ae"
            ],
            [
             0.3,
             "#f1b6da"
            ],
            [
             0.4,
             "#fde0ef"
            ],
            [
             0.5,
             "#f7f7f7"
            ],
            [
             0.6,
             "#e6f5d0"
            ],
            [
             0.7,
             "#b8e186"
            ],
            [
             0.8,
             "#7fbc41"
            ],
            [
             0.9,
             "#4d9221"
            ],
            [
             1,
             "#276419"
            ]
           ],
           "sequential": [
            [
             0.0,
             "#0d0887"
            ],
            [
             0.1111111111111111,
             "#46039f"
            ],
            [
             0.2222222222222222,
             "#7201a8"
            ],
            [
             0.3333333333333333,
             "#9c179e"
            ],
            [
             0.4444444444444444,
             "#bd3786"
            ],
            [
             0.5555555555555556,
             "#d8576b"
            ],
            [
             0.6666666666666666,
             "#ed7953"
            ],
            [
             0.7777777777777778,
             "#fb9f3a"
            ],
            [
             0.8888888888888888,
             "#fdca26"
            ],
            [
             1.0,
             "#f0f921"
            ]
           ],
           "sequentialminus": [
            [
             0.0,
             "#0d0887"
            ],
            [
             0.1111111111111111,
             "#46039f"
            ],
            [
             0.2222222222222222,
             "#7201a8"
            ],
            [
             0.3333333333333333,
             "#9c179e"
            ],
            [
             0.4444444444444444,
             "#bd3786"
            ],
            [
             0.5555555555555556,
             "#d8576b"
            ],
            [
             0.6666666666666666,
             "#ed7953"
            ],
            [
             0.7777777777777778,
             "#fb9f3a"
            ],
            [
             0.8888888888888888,
             "#fdca26"
            ],
            [
             1.0,
             "#f0f921"
            ]
           ]
          },
          "colorway": [
           "#636efa",
           "#EF553B",
           "#00cc96",
           "#ab63fa",
           "#FFA15A",
           "#19d3f3",
           "#FF6692",
           "#B6E880",
           "#FF97FF",
           "#FECB52"
          ],
          "font": {
           "color": "#f2f5fa"
          },
          "geo": {
           "bgcolor": "rgb(17,17,17)",
           "lakecolor": "rgb(17,17,17)",
           "landcolor": "rgb(17,17,17)",
           "showlakes": true,
           "showland": true,
           "subunitcolor": "#506784"
          },
          "hoverlabel": {
           "align": "left"
          },
          "hovermode": "closest",
          "mapbox": {
           "style": "dark"
          },
          "paper_bgcolor": "rgb(17,17,17)",
          "plot_bgcolor": "rgb(17,17,17)",
          "polar": {
           "angularaxis": {
            "gridcolor": "#506784",
            "linecolor": "#506784",
            "ticks": ""
           },
           "bgcolor": "rgb(17,17,17)",
           "radialaxis": {
            "gridcolor": "#506784",
            "linecolor": "#506784",
            "ticks": ""
           }
          },
          "scene": {
           "xaxis": {
            "backgroundcolor": "rgb(17,17,17)",
            "gridcolor": "#506784",
            "gridwidth": 2,
            "linecolor": "#506784",
            "showbackground": true,
            "ticks": "",
            "zerolinecolor": "#C8D4E3"
           },
           "yaxis": {
            "backgroundcolor": "rgb(17,17,17)",
            "gridcolor": "#506784",
            "gridwidth": 2,
            "linecolor": "#506784",
            "showbackground": true,
            "ticks": "",
            "zerolinecolor": "#C8D4E3"
           },
           "zaxis": {
            "backgroundcolor": "rgb(17,17,17)",
            "gridcolor": "#506784",
            "gridwidth": 2,
            "linecolor": "#506784",
            "showbackground": true,
            "ticks": "",
            "zerolinecolor": "#C8D4E3"
           }
          },
          "shapedefaults": {
           "line": {
            "color": "#f2f5fa"
           }
          },
          "sliderdefaults": {
           "bgcolor": "#C8D4E3",
           "bordercolor": "rgb(17,17,17)",
           "borderwidth": 1,
           "tickwidth": 0
          },
          "ternary": {
           "aaxis": {
            "gridcolor": "#506784",
            "linecolor": "#506784",
            "ticks": ""
           },
           "baxis": {
            "gridcolor": "#506784",
            "linecolor": "#506784",
            "ticks": ""
           },
           "bgcolor": "rgb(17,17,17)",
           "caxis": {
            "gridcolor": "#506784",
            "linecolor": "#506784",
            "ticks": ""
           }
          },
          "title": {
           "x": 0.05
          },
          "updatemenudefaults": {
           "bgcolor": "#506784",
           "borderwidth": 0
          },
          "xaxis": {
           "automargin": true,
           "gridcolor": "#283442",
           "linecolor": "#506784",
           "ticks": "",
           "title": {
            "standoff": 15
           },
           "zerolinecolor": "#283442",
           "zerolinewidth": 2
          },
          "yaxis": {
           "automargin": true,
           "gridcolor": "#283442",
           "linecolor": "#506784",
           "ticks": "",
           "title": {
            "standoff": 15
           },
           "zerolinecolor": "#283442",
           "zerolinewidth": 2
          }
         }
        },
        "title": {
         "text": "Countries with higher female suicide rate(2019)"
        }
       },
       "config": {
        "showLink": false,
        "linkText": "Export to plot.ly",
        "plotlyServerURL": "https://plot.ly"
       }
      },
      "text/html": "<div>                            <div id=\"017dfa8c-19ac-4ba8-8c3d-e98700c696c0\" class=\"plotly-graph-div\" style=\"height:525px; width:100%;\"></div>            <script type=\"text/javascript\">                require([\"plotly\"], function(Plotly) {                    window.PLOTLYENV=window.PLOTLYENV || {};                                    if (document.getElementById(\"017dfa8c-19ac-4ba8-8c3d-e98700c696c0\")) {                    Plotly.newPlot(                        \"017dfa8c-19ac-4ba8-8c3d-e98700c696c0\",                        [{\"colorbar\":{\"title\":{\"text\":\"Female suicide rate(2019)\"}},\"locations\":[\"LSO\",\"GUY\",\"KOR\",\"FSM\"],\"text\":[\"Lesotho\",\"Guyana\",\"South Korea\",\"Micronesia\"],\"z\":[30.1,17.4,16.9,12.7],\"type\":\"choropleth\"}],                        {\"geo\":{\"showframe\":true},\"template\":{\"data\":{\"barpolar\":[{\"marker\":{\"line\":{\"color\":\"rgb(17,17,17)\",\"width\":0.5},\"pattern\":{\"fillmode\":\"overlay\",\"size\":10,\"solidity\":0.2}},\"type\":\"barpolar\"}],\"bar\":[{\"error_x\":{\"color\":\"#f2f5fa\"},\"error_y\":{\"color\":\"#f2f5fa\"},\"marker\":{\"line\":{\"color\":\"rgb(17,17,17)\",\"width\":0.5},\"pattern\":{\"fillmode\":\"overlay\",\"size\":10,\"solidity\":0.2}},\"type\":\"bar\"}],\"carpet\":[{\"aaxis\":{\"endlinecolor\":\"#A2B1C6\",\"gridcolor\":\"#506784\",\"linecolor\":\"#506784\",\"minorgridcolor\":\"#506784\",\"startlinecolor\":\"#A2B1C6\"},\"baxis\":{\"endlinecolor\":\"#A2B1C6\",\"gridcolor\":\"#506784\",\"linecolor\":\"#506784\",\"minorgridcolor\":\"#506784\",\"startlinecolor\":\"#A2B1C6\"},\"type\":\"carpet\"}],\"choropleth\":[{\"colorbar\":{\"outlinewidth\":0,\"ticks\":\"\"},\"type\":\"choropleth\"}],\"contourcarpet\":[{\"colorbar\":{\"outlinewidth\":0,\"ticks\":\"\"},\"type\":\"contourcarpet\"}],\"contour\":[{\"colorbar\":{\"outlinewidth\":0,\"ticks\":\"\"},\"colorscale\":[[0.0,\"#0d0887\"],[0.1111111111111111,\"#46039f\"],[0.2222222222222222,\"#7201a8\"],[0.3333333333333333,\"#9c179e\"],[0.4444444444444444,\"#bd3786\"],[0.5555555555555556,\"#d8576b\"],[0.6666666666666666,\"#ed7953\"],[0.7777777777777778,\"#fb9f3a\"],[0.8888888888888888,\"#fdca26\"],[1.0,\"#f0f921\"]],\"type\":\"contour\"}],\"heatmapgl\":[{\"colorbar\":{\"outlinewidth\":0,\"ticks\":\"\"},\"colorscale\":[[0.0,\"#0d0887\"],[0.1111111111111111,\"#46039f\"],[0.2222222222222222,\"#7201a8\"],[0.3333333333333333,\"#9c179e\"],[0.4444444444444444,\"#bd3786\"],[0.5555555555555556,\"#d8576b\"],[0.6666666666666666,\"#ed7953\"],[0.7777777777777778,\"#fb9f3a\"],[0.8888888888888888,\"#fdca26\"],[1.0,\"#f0f921\"]],\"type\":\"heatmapgl\"}],\"heatmap\":[{\"colorbar\":{\"outlinewidth\":0,\"ticks\":\"\"},\"colorscale\":[[0.0,\"#0d0887\"],[0.1111111111111111,\"#46039f\"],[0.2222222222222222,\"#7201a8\"],[0.3333333333333333,\"#9c179e\"],[0.4444444444444444,\"#bd3786\"],[0.5555555555555556,\"#d8576b\"],[0.6666666666666666,\"#ed7953\"],[0.7777777777777778,\"#fb9f3a\"],[0.8888888888888888,\"#fdca26\"],[1.0,\"#f0f921\"]],\"type\":\"heatmap\"}],\"histogram2dcontour\":[{\"colorbar\":{\"outlinewidth\":0,\"ticks\":\"\"},\"colorscale\":[[0.0,\"#0d0887\"],[0.1111111111111111,\"#46039f\"],[0.2222222222222222,\"#7201a8\"],[0.3333333333333333,\"#9c179e\"],[0.4444444444444444,\"#bd3786\"],[0.5555555555555556,\"#d8576b\"],[0.6666666666666666,\"#ed7953\"],[0.7777777777777778,\"#fb9f3a\"],[0.8888888888888888,\"#fdca26\"],[1.0,\"#f0f921\"]],\"type\":\"histogram2dcontour\"}],\"histogram2d\":[{\"colorbar\":{\"outlinewidth\":0,\"ticks\":\"\"},\"colorscale\":[[0.0,\"#0d0887\"],[0.1111111111111111,\"#46039f\"],[0.2222222222222222,\"#7201a8\"],[0.3333333333333333,\"#9c179e\"],[0.4444444444444444,\"#bd3786\"],[0.5555555555555556,\"#d8576b\"],[0.6666666666666666,\"#ed7953\"],[0.7777777777777778,\"#fb9f3a\"],[0.8888888888888888,\"#fdca26\"],[1.0,\"#f0f921\"]],\"type\":\"histogram2d\"}],\"histogram\":[{\"marker\":{\"pattern\":{\"fillmode\":\"overlay\",\"size\":10,\"solidity\":0.2}},\"type\":\"histogram\"}],\"mesh3d\":[{\"colorbar\":{\"outlinewidth\":0,\"ticks\":\"\"},\"type\":\"mesh3d\"}],\"parcoords\":[{\"line\":{\"colorbar\":{\"outlinewidth\":0,\"ticks\":\"\"}},\"type\":\"parcoords\"}],\"pie\":[{\"automargin\":true,\"type\":\"pie\"}],\"scatter3d\":[{\"line\":{\"colorbar\":{\"outlinewidth\":0,\"ticks\":\"\"}},\"marker\":{\"colorbar\":{\"outlinewidth\":0,\"ticks\":\"\"}},\"type\":\"scatter3d\"}],\"scattercarpet\":[{\"marker\":{\"colorbar\":{\"outlinewidth\":0,\"ticks\":\"\"}},\"type\":\"scattercarpet\"}],\"scattergeo\":[{\"marker\":{\"colorbar\":{\"outlinewidth\":0,\"ticks\":\"\"}},\"type\":\"scattergeo\"}],\"scattergl\":[{\"marker\":{\"line\":{\"color\":\"#283442\"}},\"type\":\"scattergl\"}],\"scattermapbox\":[{\"marker\":{\"colorbar\":{\"outlinewidth\":0,\"ticks\":\"\"}},\"type\":\"scattermapbox\"}],\"scatterpolargl\":[{\"marker\":{\"colorbar\":{\"outlinewidth\":0,\"ticks\":\"\"}},\"type\":\"scatterpolargl\"}],\"scatterpolar\":[{\"marker\":{\"colorbar\":{\"outlinewidth\":0,\"ticks\":\"\"}},\"type\":\"scatterpolar\"}],\"scatter\":[{\"marker\":{\"line\":{\"color\":\"#283442\"}},\"type\":\"scatter\"}],\"scatterternary\":[{\"marker\":{\"colorbar\":{\"outlinewidth\":0,\"ticks\":\"\"}},\"type\":\"scatterternary\"}],\"surface\":[{\"colorbar\":{\"outlinewidth\":0,\"ticks\":\"\"},\"colorscale\":[[0.0,\"#0d0887\"],[0.1111111111111111,\"#46039f\"],[0.2222222222222222,\"#7201a8\"],[0.3333333333333333,\"#9c179e\"],[0.4444444444444444,\"#bd3786\"],[0.5555555555555556,\"#d8576b\"],[0.6666666666666666,\"#ed7953\"],[0.7777777777777778,\"#fb9f3a\"],[0.8888888888888888,\"#fdca26\"],[1.0,\"#f0f921\"]],\"type\":\"surface\"}],\"table\":[{\"cells\":{\"fill\":{\"color\":\"#506784\"},\"line\":{\"color\":\"rgb(17,17,17)\"}},\"header\":{\"fill\":{\"color\":\"#2a3f5f\"},\"line\":{\"color\":\"rgb(17,17,17)\"}},\"type\":\"table\"}]},\"layout\":{\"annotationdefaults\":{\"arrowcolor\":\"#f2f5fa\",\"arrowhead\":0,\"arrowwidth\":1},\"autotypenumbers\":\"strict\",\"coloraxis\":{\"colorbar\":{\"outlinewidth\":0,\"ticks\":\"\"}},\"colorscale\":{\"diverging\":[[0,\"#8e0152\"],[0.1,\"#c51b7d\"],[0.2,\"#de77ae\"],[0.3,\"#f1b6da\"],[0.4,\"#fde0ef\"],[0.5,\"#f7f7f7\"],[0.6,\"#e6f5d0\"],[0.7,\"#b8e186\"],[0.8,\"#7fbc41\"],[0.9,\"#4d9221\"],[1,\"#276419\"]],\"sequential\":[[0.0,\"#0d0887\"],[0.1111111111111111,\"#46039f\"],[0.2222222222222222,\"#7201a8\"],[0.3333333333333333,\"#9c179e\"],[0.4444444444444444,\"#bd3786\"],[0.5555555555555556,\"#d8576b\"],[0.6666666666666666,\"#ed7953\"],[0.7777777777777778,\"#fb9f3a\"],[0.8888888888888888,\"#fdca26\"],[1.0,\"#f0f921\"]],\"sequentialminus\":[[0.0,\"#0d0887\"],[0.1111111111111111,\"#46039f\"],[0.2222222222222222,\"#7201a8\"],[0.3333333333333333,\"#9c179e\"],[0.4444444444444444,\"#bd3786\"],[0.5555555555555556,\"#d8576b\"],[0.6666666666666666,\"#ed7953\"],[0.7777777777777778,\"#fb9f3a\"],[0.8888888888888888,\"#fdca26\"],[1.0,\"#f0f921\"]]},\"colorway\":[\"#636efa\",\"#EF553B\",\"#00cc96\",\"#ab63fa\",\"#FFA15A\",\"#19d3f3\",\"#FF6692\",\"#B6E880\",\"#FF97FF\",\"#FECB52\"],\"font\":{\"color\":\"#f2f5fa\"},\"geo\":{\"bgcolor\":\"rgb(17,17,17)\",\"lakecolor\":\"rgb(17,17,17)\",\"landcolor\":\"rgb(17,17,17)\",\"showlakes\":true,\"showland\":true,\"subunitcolor\":\"#506784\"},\"hoverlabel\":{\"align\":\"left\"},\"hovermode\":\"closest\",\"mapbox\":{\"style\":\"dark\"},\"paper_bgcolor\":\"rgb(17,17,17)\",\"plot_bgcolor\":\"rgb(17,17,17)\",\"polar\":{\"angularaxis\":{\"gridcolor\":\"#506784\",\"linecolor\":\"#506784\",\"ticks\":\"\"},\"bgcolor\":\"rgb(17,17,17)\",\"radialaxis\":{\"gridcolor\":\"#506784\",\"linecolor\":\"#506784\",\"ticks\":\"\"}},\"scene\":{\"xaxis\":{\"backgroundcolor\":\"rgb(17,17,17)\",\"gridcolor\":\"#506784\",\"gridwidth\":2,\"linecolor\":\"#506784\",\"showbackground\":true,\"ticks\":\"\",\"zerolinecolor\":\"#C8D4E3\"},\"yaxis\":{\"backgroundcolor\":\"rgb(17,17,17)\",\"gridcolor\":\"#506784\",\"gridwidth\":2,\"linecolor\":\"#506784\",\"showbackground\":true,\"ticks\":\"\",\"zerolinecolor\":\"#C8D4E3\"},\"zaxis\":{\"backgroundcolor\":\"rgb(17,17,17)\",\"gridcolor\":\"#506784\",\"gridwidth\":2,\"linecolor\":\"#506784\",\"showbackground\":true,\"ticks\":\"\",\"zerolinecolor\":\"#C8D4E3\"}},\"shapedefaults\":{\"line\":{\"color\":\"#f2f5fa\"}},\"sliderdefaults\":{\"bgcolor\":\"#C8D4E3\",\"bordercolor\":\"rgb(17,17,17)\",\"borderwidth\":1,\"tickwidth\":0},\"ternary\":{\"aaxis\":{\"gridcolor\":\"#506784\",\"linecolor\":\"#506784\",\"ticks\":\"\"},\"baxis\":{\"gridcolor\":\"#506784\",\"linecolor\":\"#506784\",\"ticks\":\"\"},\"bgcolor\":\"rgb(17,17,17)\",\"caxis\":{\"gridcolor\":\"#506784\",\"linecolor\":\"#506784\",\"ticks\":\"\"}},\"title\":{\"x\":0.05},\"updatemenudefaults\":{\"bgcolor\":\"#506784\",\"borderwidth\":0},\"xaxis\":{\"automargin\":true,\"gridcolor\":\"#283442\",\"linecolor\":\"#506784\",\"ticks\":\"\",\"title\":{\"standoff\":15},\"zerolinecolor\":\"#283442\",\"zerolinewidth\":2},\"yaxis\":{\"automargin\":true,\"gridcolor\":\"#283442\",\"linecolor\":\"#506784\",\"ticks\":\"\",\"title\":{\"standoff\":15},\"zerolinecolor\":\"#283442\",\"zerolinewidth\":2}}},\"title\":{\"text\":\"Countries with higher female suicide rate(2019)\"}},                        {\"responsive\": true}                    ).then(function(){\n                            \nvar gd = document.getElementById('017dfa8c-19ac-4ba8-8c3d-e98700c696c0');\nvar x = new MutationObserver(function (mutations, observer) {{\n        var display = window.getComputedStyle(gd).display;\n        if (!display || display === 'none') {{\n            console.log([gd, 'removed!']);\n            Plotly.purge(gd);\n            observer.disconnect();\n        }}\n}});\n\n// Listen for the removal of the full notebook cells\nvar notebookContainer = gd.closest('#notebook-container');\nif (notebookContainer) {{\n    x.observe(notebookContainer, {childList: true});\n}}\n\n// Listen for the clearing of the current output cell\nvar outputEl = gd.closest('.output');\nif (outputEl) {{\n    x.observe(outputEl, {childList: true});\n}}\n\n                        })                };                });            </script>        </div>"
     },
     "metadata": {},
     "output_type": "display_data"
    }
   ],
   "source": [
    "data = dict(\n",
    "    type='choropleth', locations=countries_high_fcrate,\n",
    "    z= high_fcrate,\n",
    "    text = country_f,\n",
    "    colorbar={'title':'Female suicide rate(2019)'}\n",
    ")\n",
    "layout = dict(title = 'Countries with higher female suicide rate(2019)',\n",
    "geo = dict(showframe =  True))\n",
    "choromap4 = go.Figure(data= [data],layout=layout)\n",
    "iplot(choromap4)"
   ]
  },
  {
   "cell_type": "markdown",
   "id": "c2dcd5d0",
   "metadata": {},
   "source": [
    "EDA for both data "
   ]
  },
  {
   "cell_type": "code",
   "execution_count": 30,
   "id": "635a3b6a",
   "metadata": {},
   "outputs": [
    {
     "data": {
      "text/plain": "<AxesSubplot:xlabel='rate2019both', ylabel='Count'>"
     },
     "execution_count": 30,
     "metadata": {},
     "output_type": "execute_result"
    },
    {
     "data": {
      "text/plain": "<Figure size 640x480 with 1 Axes>",
      "image/png": "[encoded data removed]"
     },
     "metadata": {},
     "output_type": "display_data"
    }
   ],
   "source": [
    "\n",
    "sns.histplot(x='rate2019both',data=df,kde=True)"
   ]
  },
  {
   "cell_type": "code",
   "execution_count": 31,
   "id": "93e55911",
   "metadata": {},
   "outputs": [
    {
     "data": {
      "application/vnd.plotly.v1+json": {
       "data": [
        {
         "colorbar": {
          "title": {
           "text": "suicide rate(2019)"
          }
         },
         "locations": [
          "LSO",
          "GUY",
          "SWZ",
          "KOR",
          "KIR",
          "FSM",
          "LTU",
          "SUR",
          "RUS",
          "ZAF",
          "UKR",
          "BLR",
          "URY",
          "MNE",
          "LVA",
          "SVN",
          "BEL",
          "VUT",
          "MNG",
          "KAZ",
          "HUN",
          "HRV",
          "USA",
          "BWA",
          "JPN",
          "FIN",
          "EST",
          "SWE",
          "MDA",
          "SLB",
          "AUT",
          "CUB",
          "CHE",
          "ZWE",
          "LKA",
          "FRA",
          "MOZ",
          "IND",
          "WSM",
          "AUS",
          "DEU",
          "CAF",
          "SVK",
          "ISL",
          "CAN",
          "NLD",
          "NOR",
          "PRT",
          "SRB",
          "POL",
          "LUX",
          "SGP",
          "NZL",
          "ERI",
          "BIH",
          "DNK",
          "ROU",
          "BGR",
          "NAM",
          "HTI",
          "IRL",
          "DJI",
          "MUS",
          "PRK",
          "MKD",
          "GEO",
          "NPL",
          "CMR",
          "CHL",
          "FJI",
          "PAK",
          "CIV",
          "BHR",
          "THA",
          "TGO",
          "TTO",
          "ARG",
          "GAB",
          "CHN",
          "CRI",
          "SYC",
          "UZB",
          "GBR",
          "SOM",
          "GNQ",
          "LCA",
          "BEN",
          "ESP",
          "ECU",
          "VNM",
          "BFA",
          "KGZ",
          "ZMB",
          "MAR",
          "BLZ",
          "GIN",
          "GNB",
          "BRA",
          "COD",
          "ITA",
          "SLE",
          "GHA",
          "TCD",
          "ARE",
          "BDI",
          "BOL",
          "KEN",
          "AGO",
          "SLV",
          "MLT",
          "SAU",
          "SEN",
          "PRY",
          "GTM",
          "YEM",
          "QAT",
          "MYS",
          "TKM",
          "RWA",
          "MDG",
          "ETH",
          "MWI",
          "LAO",
          "COM",
          "MEX",
          "NER",
          "ISR",
          "IRN",
          "GRC",
          "KHM",
          "DOM",
          "OMN",
          "GMB",
          "UGA",
          "BTN",
          "LBY",
          "LBR",
          "NIC",
          "TZA",
          "TJK",
          "ALB",
          "AFG",
          "MLI",
          "AZE",
          "COL",
          "SSD",
          "SDN",
          "TON",
          "BGD",
          "TLS",
          "IRQ",
          "CYP",
          "NGA",
          "BHS",
          "TUN",
          "ARM",
          "MRT",
          "EGY",
          "PNG",
          "MMR",
          "PAN",
          "KWT",
          "PER",
          "LBN",
          "MDV",
          "BRN",
          "DZA",
          "IDN",
          "TUR",
          "JAM",
          "PHL",
          "VEN",
          "HND",
          "JOR",
          "STP",
          "VCT",
          "GRD",
          "BRB",
          "ATG"
         ],
         "text": [
          "Lesotho",
          "Guyana",
          "Eswatini",
          "South Korea",
          "Kiribati",
          "Micronesia",
          "Lithuania",
          "Suriname",
          "Russia",
          "South Africa",
          "Ukraine",
          "Belarus",
          "Uruguay",
          "Montenegro",
          "Latvia",
          "Slovenia",
          "Belgium",
          "Vanuatu",
          "Mongolia",
          "Kazakhstan",
          "Hungary",
          "Croatia",
          "United States",
          "Botswana",
          "Japan",
          "Finland",
          "Estonia",
          "Sweden",
          "Moldova",
          "Solomon Islands",
          "Austria",
          "Cuba",
          "Switzerland",
          "Zimbabwe",
          "Sri Lanka",
          "France",
          "Mozambique",
          "India",
          "Samoa",
          "Australia",
          "Germany",
          "Central African Republic",
          "Slovakia",
          "Iceland",
          "Canada",
          "Netherlands",
          "Norway",
          "Portugal",
          "Serbia",
          "Poland",
          "Luxembourg",
          "Singapore",
          "New Zealand",
          "Eritrea",
          "Bosnia and Herzegovina",
          "Denmark",
          "Romania",
          "Bulgaria",
          "Namibia",
          "Haiti",
          "Ireland",
          "Djibouti",
          "Mauritius",
          "North Korea",
          "North Macedonia",
          "Georgia",
          "Nepal",
          "Cameroon",
          "Chile",
          "Fiji",
          "Pakistan",
          "Ivory Coast",
          "Bahrain",
          "Thailand",
          "Togo",
          "Trinidad and Tobago",
          "Argentina",
          "Gabon",
          "China",
          "Costa Rica",
          "Seychelles",
          "Uzbekistan",
          "United Kingdom",
          "Somalia",
          "Equatorial Guinea",
          "Saint Lucia",
          "Benin",
          "Spain",
          "Ecuador",
          "Vietnam",
          "Burkina Faso",
          "Kyrgyzstan",
          "Zambia",
          "Morocco",
          "Belize",
          "Guinea",
          "Guinea-Bissau",
          "Brazil",
          "DR Congo",
          "Italy",
          "Sierra Leone",
          "Ghana",
          "Chad",
          "United Arab Emirates",
          "Burundi",
          "Bolivia",
          "Kenya",
          "Angola",
          "El Salvador",
          "Malta",
          "Saudi Arabia",
          "Senegal",
          "Paraguay",
          "Guatemala",
          "Yemen",
          "Qatar",
          "Malaysia",
          "Turkmenistan",
          "Rwanda",
          "Madagascar",
          "Ethiopia",
          "Malawi",
          "Laos",
          "Comoros",
          "Mexico",
          "Niger",
          "Israel",
          "Iran",
          "Greece",
          "Cambodia",
          "Dominican Republic",
          "Oman",
          "Gambia",
          "Uganda",
          "Bhutan",
          "Libya",
          "Liberia",
          "Nicaragua",
          "Tanzania",
          "Tajikistan",
          "Albania",
          "Afghanistan",
          "Mali",
          "Azerbaijan",
          "Colombia",
          "South Sudan",
          "Sudan",
          "Tonga",
          "Bangladesh",
          "Timor-Leste",
          "Iraq",
          "Cyprus",
          "Nigeria",
          "Bahamas",
          "Tunisia",
          "Armenia",
          "Mauritania",
          "Egypt",
          "Papua New Guinea",
          "Myanmar",
          "Panama",
          "Kuwait",
          "Peru",
          "Lebanon",
          "Maldives",
          "Brunei",
          "Algeria",
          "Indonesia",
          "Turkey",
          "Jamaica",
          "Philippines",
          "Venezuela",
          "Honduras",
          "Jordan",
          "Sao Tome and Principe",
          "Saint Vincent and the Grenadines",
          "Grenada",
          "Barbados",
          "Antigua and Barbuda"
         ],
         "z": [
          72.4,
          40.3,
          29.4,
          28.6,
          28.3,
          28.2,
          26.1,
          25.4,
          25.1,
          23.5,
          21.6,
          21.2,
          21.2,
          21.0,
          20.1,
          19.8,
          18.3,
          18.0,
          17.9,
          17.6,
          16.6,
          16.4,
          16.1,
          16.1,
          15.3,
          15.3,
          14.9,
          14.7,
          14.7,
          14.7,
          14.6,
          14.5,
          14.5,
          14.1,
          14.0,
          13.8,
          13.6,
          12.7,
          12.6,
          12.5,
          12.3,
          12.3,
          12.1,
          11.9,
          11.8,
          11.8,
          11.8,
          11.5,
          11.4,
          11.3,
          11.3,
          11.2,
          11.0,
          10.9,
          10.9,
          10.7,
          9.7,
          9.7,
          9.7,
          9.6,
          9.6,
          9.6,
          9.5,
          9.4,
          9.4,
          9.2,
          9.0,
          9.0,
          9.0,
          9.0,
          8.9,
          8.9,
          8.9,
          8.8,
          8.8,
          8.7,
          8.4,
          8.4,
          8.1,
          8.1,
          8.1,
          8.0,
          7.9,
          7.9,
          7.9,
          7.9,
          7.8,
          7.7,
          7.6,
          7.5,
          7.5,
          7.4,
          7.3,
          7.2,
          7.1,
          7.0,
          7.0,
          6.9,
          6.7,
          6.7,
          6.7,
          6.6,
          6.4,
          6.4,
          6.2,
          6.2,
          6.1,
          6.1,
          6.1,
          6.1,
          6.0,
          6.0,
          6.0,
          5.9,
          5.8,
          5.8,
          5.7,
          5.7,
          5.6,
          5.5,
          5.4,
          5.4,
          5.4,
          5.4,
          5.3,
          5.3,
          5.3,
          5.2,
          5.1,
          4.9,
          4.9,
          4.9,
          4.8,
          4.6,
          4.6,
          4.5,
          4.5,
          4.4,
          4.3,
          4.3,
          4.3,
          4.1,
          4.1,
          4.1,
          3.9,
          3.9,
          3.8,
          3.8,
          3.7,
          3.7,
          3.6,
          3.6,
          3.5,
          3.5,
          3.3,
          3.3,
          3.1,
          3.0,
          3.0,
          2.9,
          2.9,
          2.9,
          2.8,
          2.8,
          2.7,
          2.7,
          2.5,
          2.4,
          2.4,
          2.4,
          2.2,
          2.1,
          2.1,
          1.6,
          1.5,
          1.0,
          0.7,
          0.6,
          0.4
         ],
         "type": "choropleth"
        }
       ],
       "layout": {
        "geo": {
         "showframe": true
        },
        "template": {
         "data": {
          "barpolar": [
           {
            "marker": {
             "line": {
              "color": "rgb(17,17,17)",
              "width": 0.5
             },
             "pattern": {
              "fillmode": "overlay",
              "size": 10,
              "solidity": 0.2
             }
            },
            "type": "barpolar"
           }
          ],
          "bar": [
           {
            "error_x": {
             "color": "#f2f5fa"
            },
            "error_y": {
             "color": "#f2f5fa"
            },
            "marker": {
             "line": {
              "color": "rgb(17,17,17)",
              "width": 0.5
             },
             "pattern": {
              "fillmode": "overlay",
              "size": 10,
              "solidity": 0.2
             }
            },
            "type": "bar"
           }
          ],
          "carpet": [
           {
            "aaxis": {
             "endlinecolor": "#A2B1C6",
             "gridcolor": "#506784",
             "linecolor": "#506784",
             "minorgridcolor": "#506784",
             "startlinecolor": "#A2B1C6"
            },
            "baxis": {
             "endlinecolor": "#A2B1C6",
             "gridcolor": "#506784",
             "linecolor": "#506784",
             "minorgridcolor": "#506784",
             "startlinecolor": "#A2B1C6"
            },
            "type": "carpet"
           }
          ],
          "choropleth": [
           {
            "colorbar": {
             "outlinewidth": 0,
             "ticks": ""
            },
            "type": "choropleth"
           }
          ],
          "contourcarpet": [
           {
            "colorbar": {
             "outlinewidth": 0,
             "ticks": ""
            },
            "type": "contourcarpet"
           }
          ],
          "contour": [
           {
            "colorbar": {
             "outlinewidth": 0,
             "ticks": ""
            },
            "colorscale": [
             [
              0.0,
              "#0d0887"
             ],
             [
              0.1111111111111111,
              "#46039f"
             ],
             [
              0.2222222222222222,
              "#7201a8"
             ],
             [
              0.3333333333333333,
              "#9c179e"
             ],
             [
              0.4444444444444444,
              "#bd3786"
             ],
             [
              0.5555555555555556,
              "#d8576b"
             ],
             [
              0.6666666666666666,
              "#ed7953"
             ],
             [
              0.7777777777777778,
              "#fb9f3a"
             ],
             [
              0.8888888888888888,
              "#fdca26"
             ],
             [
              1.0,
              "#f0f921"
             ]
            ],
            "type": "contour"
           }
          ],
          "heatmapgl": [
           {
            "colorbar": {
             "outlinewidth": 0,
             "ticks": ""
            },
            "colorscale": [
             [
              0.0,
              "#0d0887"
             ],
             [
              0.1111111111111111,
              "#46039f"
             ],
             [
              0.2222222222222222,
              "#7201a8"
             ],
             [
              0.3333333333333333,
              "#9c179e"
             ],
             [
              0.4444444444444444,
              "#bd3786"
             ],
             [
              0.5555555555555556,
              "#d8576b"
             ],
             [
              0.6666666666666666,
              "#ed7953"
             ],
             [
              0.7777777777777778,
              "#fb9f3a"
             ],
             [
              0.8888888888888888,
              "#fdca26"
             ],
             [
              1.0,
              "#f0f921"
             ]
            ],
            "type": "heatmapgl"
           }
          ],
          "heatmap": [
           {
            "colorbar": {
             "outlinewidth": 0,
             "ticks": ""
            },
            "colorscale": [
             [
              0.0,
              "#0d0887"
             ],
             [
              0.1111111111111111,
              "#46039f"
             ],
             [
              0.2222222222222222,
              "#7201a8"
             ],
             [
              0.3333333333333333,
              "#9c179e"
             ],
             [
              0.4444444444444444,
              "#bd3786"
             ],
             [
              0.5555555555555556,
              "#d8576b"
             ],
             [
              0.6666666666666666,
              "#ed7953"
             ],
             [
              0.7777777777777778,
              "#fb9f3a"
             ],
             [
              0.8888888888888888,
              "#fdca26"
             ],
             [
              1.0,
              "#f0f921"
             ]
            ],
            "type": "heatmap"
           }
          ],
          "histogram2dcontour": [
           {
            "colorbar": {
             "outlinewidth": 0,
             "ticks": ""
            },
            "colorscale": [
             [
              0.0,
              "#0d0887"
             ],
             [
              0.1111111111111111,
              "#46039f"
             ],
             [
              0.2222222222222222,
              "#7201a8"
             ],
             [
              0.3333333333333333,
              "#9c179e"
             ],
             [
              0.4444444444444444,
              "#bd3786"
             ],
             [
              0.5555555555555556,
              "#d8576b"
             ],
             [
              0.6666666666666666,
              "#ed7953"
             ],
             [
              0.7777777777777778,
              "#fb9f3a"
             ],
             [
              0.8888888888888888,
              "#fdca26"
             ],
             [
              1.0,
              "#f0f921"
             ]
            ],
            "type": "histogram2dcontour"
           }
          ],
          "histogram2d": [
           {
            "colorbar": {
             "outlinewidth": 0,
             "ticks": ""
            },
            "colorscale": [
             [
              0.0,
              "#0d0887"
             ],
             [
              0.1111111111111111,
              "#46039f"
             ],
             [
              0.2222222222222222,
              "#7201a8"
             ],
             [
              0.3333333333333333,
              "#9c179e"
             ],
             [
              0.4444444444444444,
              "#bd3786"
             ],
             [
              0.5555555555555556,
              "#d8576b"
             ],
             [
              0.6666666666666666,
              "#ed7953"
             ],
             [
              0.7777777777777778,
              "#fb9f3a"
             ],
             [
              0.8888888888888888,
              "#fdca26"
             ],
             [
              1.0,
              "#f0f921"
             ]
            ],
            "type": "histogram2d"
           }
          ],
          "histogram": [
           {
            "marker": {
             "pattern": {
              "fillmode": "overlay",
              "size": 10,
              "solidity": 0.2
             }
            },
            "type": "histogram"
           }
          ],
          "mesh3d": [
           {
            "colorbar": {
             "outlinewidth": 0,
             "ticks": ""
            },
            "type": "mesh3d"
           }
          ],
          "parcoords": [
           {
            "line": {
             "colorbar": {
              "outlinewidth": 0,
              "ticks": ""
             }
            },
            "type": "parcoords"
           }
          ],
          "pie": [
           {
            "automargin": true,
            "type": "pie"
           }
          ],
          "scatter3d": [
           {
            "line": {
             "colorbar": {
              "outlinewidth": 0,
              "ticks": ""
             }
            },
            "marker": {
             "colorbar": {
              "outlinewidth": 0,
              "ticks": ""
             }
            },
            "type": "scatter3d"
           }
          ],
          "scattercarpet": [
           {
            "marker": {
             "colorbar": {
              "outlinewidth": 0,
              "ticks": ""
             }
            },
            "type": "scattercarpet"
           }
          ],
          "scattergeo": [
           {
            "marker": {
             "colorbar": {
              "outlinewidth": 0,
              "ticks": ""
             }
            },
            "type": "scattergeo"
           }
          ],
          "scattergl": [
           {
            "marker": {
             "line": {
              "color": "#283442"
             }
            },
            "type": "scattergl"
           }
          ],
          "scattermapbox": [
           {
            "marker": {
             "colorbar": {
              "outlinewidth": 0,
              "ticks": ""
             }
            },
            "type": "scattermapbox"
           }
          ],
          "scatterpolargl": [
           {
            "marker": {
             "colorbar": {
              "outlinewidth": 0,
              "ticks": ""
             }
            },
            "type": "scatterpolargl"
           }
          ],
          "scatterpolar": [
           {
            "marker": {
             "colorbar": {
              "outlinewidth": 0,
              "ticks": ""
             }
            },
            "type": "scatterpolar"
           }
          ],
          "scatter": [
           {
            "marker": {
             "line": {
              "color": "#283442"
             }
            },
            "type": "scatter"
           }
          ],
          "scatterternary": [
           {
            "marker": {
             "colorbar": {
              "outlinewidth": 0,
              "ticks": ""
             }
            },
            "type": "scatterternary"
           }
          ],
          "surface": [
           {
            "colorbar": {
             "outlinewidth": 0,
             "ticks": ""
            },
            "colorscale": [
             [
              0.0,
              "#0d0887"
             ],
             [
              0.1111111111111111,
              "#46039f"
             ],
             [
              0.2222222222222222,
              "#7201a8"
             ],
             [
              0.3333333333333333,
              "#9c179e"
             ],
             [
              0.4444444444444444,
              "#bd3786"
             ],
             [
              0.5555555555555556,
              "#d8576b"
             ],
             [
              0.6666666666666666,
              "#ed7953"
             ],
             [
              0.7777777777777778,
              "#fb9f3a"
             ],
             [
              0.8888888888888888,
              "#fdca26"
             ],
             [
              1.0,
              "#f0f921"
             ]
            ],
            "type": "surface"
           }
          ],
          "table": [
           {
            "cells": {
             "fill": {
              "color": "#506784"
             },
             "line": {
              "color": "rgb(17,17,17)"
             }
            },
            "header": {
             "fill": {
              "color": "#2a3f5f"
             },
             "line": {
              "color": "rgb(17,17,17)"
             }
            },
            "type": "table"
           }
          ]
         },
         "layout": {
          "annotationdefaults": {
           "arrowcolor": "#f2f5fa",
           "arrowhead": 0,
           "arrowwidth": 1
          },
          "autotypenumbers": "strict",
          "coloraxis": {
           "colorbar": {
            "outlinewidth": 0,
            "ticks": ""
           }
          },
          "colorscale": {
           "diverging": [
            [
             0,
             "#8e0152"
            ],
            [
             0.1,
             "#c51b7d"
            ],
            [
             0.2,
             "#de77ae"
            ],
            [
             0.3,
             "#f1b6da"
            ],
            [
             0.4,
             "#fde0ef"
            ],
            [
             0.5,
             "#f7f7f7"
            ],
            [
             0.6,
             "#e6f5d0"
            ],
            [
             0.7,
             "#b8e186"
            ],
            [
             0.8,
             "#7fbc41"
            ],
            [
             0.9,
             "#4d9221"
            ],
            [
             1,
             "#276419"
            ]
           ],
           "sequential": [
            [
             0.0,
             "#0d0887"
            ],
            [
             0.1111111111111111,
             "#46039f"
            ],
            [
             0.2222222222222222,
             "#7201a8"
            ],
            [
             0.3333333333333333,
             "#9c179e"
            ],
            [
             0.4444444444444444,
             "#bd3786"
            ],
            [
             0.5555555555555556,
             "#d8576b"
            ],
            [
             0.6666666666666666,
             "#ed7953"
            ],
            [
             0.7777777777777778,
             "#fb9f3a"
            ],
            [
             0.8888888888888888,
             "#fdca26"
            ],
            [
             1.0,
             "#f0f921"
            ]
           ],
           "sequentialminus": [
            [
             0.0,
             "#0d0887"
            ],
            [
             0.1111111111111111,
             "#46039f"
            ],
            [
             0.2222222222222222,
             "#7201a8"
            ],
            [
             0.3333333333333333,
             "#9c179e"
            ],
            [
             0.4444444444444444,
             "#bd3786"
            ],
            [
             0.5555555555555556,
             "#d8576b"
            ],
            [
             0.6666666666666666,
             "#ed7953"
            ],
            [
             0.7777777777777778,
             "#fb9f3a"
            ],
            [
             0.8888888888888888,
             "#fdca26"
            ],
            [
             1.0,
             "#f0f921"
            ]
           ]
          },
          "colorway": [
           "#636efa",
           "#EF553B",
           "#00cc96",
           "#ab63fa",
           "#FFA15A",
           "#19d3f3",
           "#FF6692",
           "#B6E880",
           "#FF97FF",
           "#FECB52"
          ],
          "font": {
           "color": "#f2f5fa"
          },
          "geo": {
           "bgcolor": "rgb(17,17,17)",
           "lakecolor": "rgb(17,17,17)",
           "landcolor": "rgb(17,17,17)",
           "showlakes": true,
           "showland": true,
           "subunitcolor": "#506784"
          },
          "hoverlabel": {
           "align": "left"
          },
          "hovermode": "closest",
          "mapbox": {
           "style": "dark"
          },
          "paper_bgcolor": "rgb(17,17,17)",
          "plot_bgcolor": "rgb(17,17,17)",
          "polar": {
           "angularaxis": {
            "gridcolor": "#506784",
            "linecolor": "#506784",
            "ticks": ""
           },
           "bgcolor": "rgb(17,17,17)",
           "radialaxis": {
            "gridcolor": "#506784",
            "linecolor": "#506784",
            "ticks": ""
           }
          },
          "scene": {
           "xaxis": {
            "backgroundcolor": "rgb(17,17,17)",
            "gridcolor": "#506784",
            "gridwidth": 2,
            "linecolor": "#506784",
            "showbackground": true,
            "ticks": "",
            "zerolinecolor": "#C8D4E3"
           },
           "yaxis": {
            "backgroundcolor": "rgb(17,17,17)",
            "gridcolor": "#506784",
            "gridwidth": 2,
            "linecolor": "#506784",
            "showbackground": true,
            "ticks": "",
            "zerolinecolor": "#C8D4E3"
           },
           "zaxis": {
            "backgroundcolor": "rgb(17,17,17)",
            "gridcolor": "#506784",
            "gridwidth": 2,
            "linecolor": "#506784",
            "showbackground": true,
            "ticks": "",
            "zerolinecolor": "#C8D4E3"
           }
          },
          "shapedefaults": {
           "line": {
            "color": "#f2f5fa"
           }
          },
          "sliderdefaults": {
           "bgcolor": "#C8D4E3",
           "bordercolor": "rgb(17,17,17)",
           "borderwidth": 1,
           "tickwidth": 0
          },
          "ternary": {
           "aaxis": {
            "gridcolor": "#506784",
            "linecolor": "#506784",
            "ticks": ""
           },
           "baxis": {
            "gridcolor": "#506784",
            "linecolor": "#506784",
            "ticks": ""
           },
           "bgcolor": "rgb(17,17,17)",
           "caxis": {
            "gridcolor": "#506784",
            "linecolor": "#506784",
            "ticks": ""
           }
          },
          "title": {
           "x": 0.05
          },
          "updatemenudefaults": {
           "bgcolor": "#506784",
           "borderwidth": 0
          },
          "xaxis": {
           "automargin": true,
           "gridcolor": "#283442",
           "linecolor": "#506784",
           "ticks": "",
           "title": {
            "standoff": 15
           },
           "zerolinecolor": "#283442",
           "zerolinewidth": 2
          },
          "yaxis": {
           "automargin": true,
           "gridcolor": "#283442",
           "linecolor": "#506784",
           "ticks": "",
           "title": {
            "standoff": 15
           },
           "zerolinecolor": "#283442",
           "zerolinewidth": 2
          }
         }
        },
        "title": {
         "text": "Suicide rate(2019)"
        }
       },
       "config": {
        "showLink": false,
        "linkText": "Export to plot.ly",
        "plotlyServerURL": "https://plot.ly"
       }
      },
      "text/html": "<div>                            <div id=\"a65bb092-d5c3-45c7-8fc2-3835451edc5a\" class=\"plotly-graph-div\" style=\"height:525px; width:100%;\"></div>            <script type=\"text/javascript\">                require([\"plotly\"], function(Plotly) {                    window.PLOTLYENV=window.PLOTLYENV || {};                                    if (document.getElementById(\"a65bb092-d5c3-45c7-8fc2-3835451edc5a\")) {                    Plotly.newPlot(                        \"a65bb092-d5c3-45c7-8fc2-3835451edc5a\",                        [{\"colorbar\":{\"title\":{\"text\":\"suicide rate(2019)\"}},\"locations\":[\"LSO\",\"GUY\",\"SWZ\",\"KOR\",\"KIR\",\"FSM\",\"LTU\",\"SUR\",\"RUS\",\"ZAF\",\"UKR\",\"BLR\",\"URY\",\"MNE\",\"LVA\",\"SVN\",\"BEL\",\"VUT\",\"MNG\",\"KAZ\",\"HUN\",\"HRV\",\"USA\",\"BWA\",\"JPN\",\"FIN\",\"EST\",\"SWE\",\"MDA\",\"SLB\",\"AUT\",\"CUB\",\"CHE\",\"ZWE\",\"LKA\",\"FRA\",\"MOZ\",\"IND\",\"WSM\",\"AUS\",\"DEU\",\"CAF\",\"SVK\",\"ISL\",\"CAN\",\"NLD\",\"NOR\",\"PRT\",\"SRB\",\"POL\",\"LUX\",\"SGP\",\"NZL\",\"ERI\",\"BIH\",\"DNK\",\"ROU\",\"BGR\",\"NAM\",\"HTI\",\"IRL\",\"DJI\",\"MUS\",\"PRK\",\"MKD\",\"GEO\",\"NPL\",\"CMR\",\"CHL\",\"FJI\",\"PAK\",\"CIV\",\"BHR\",\"THA\",\"TGO\",\"TTO\",\"ARG\",\"GAB\",\"CHN\",\"CRI\",\"SYC\",\"UZB\",\"GBR\",\"SOM\",\"GNQ\",\"LCA\",\"BEN\",\"ESP\",\"ECU\",\"VNM\",\"BFA\",\"KGZ\",\"ZMB\",\"MAR\",\"BLZ\",\"GIN\",\"GNB\",\"BRA\",\"COD\",\"ITA\",\"SLE\",\"GHA\",\"TCD\",\"ARE\",\"BDI\",\"BOL\",\"KEN\",\"AGO\",\"SLV\",\"MLT\",\"SAU\",\"SEN\",\"PRY\",\"GTM\",\"YEM\",\"QAT\",\"MYS\",\"TKM\",\"RWA\",\"MDG\",\"ETH\",\"MWI\",\"LAO\",\"COM\",\"MEX\",\"NER\",\"ISR\",\"IRN\",\"GRC\",\"KHM\",\"DOM\",\"OMN\",\"GMB\",\"UGA\",\"BTN\",\"LBY\",\"LBR\",\"NIC\",\"TZA\",\"TJK\",\"ALB\",\"AFG\",\"MLI\",\"AZE\",\"COL\",\"SSD\",\"SDN\",\"TON\",\"BGD\",\"TLS\",\"IRQ\",\"CYP\",\"NGA\",\"BHS\",\"TUN\",\"ARM\",\"MRT\",\"EGY\",\"PNG\",\"MMR\",\"PAN\",\"KWT\",\"PER\",\"LBN\",\"MDV\",\"BRN\",\"DZA\",\"IDN\",\"TUR\",\"JAM\",\"PHL\",\"VEN\",\"HND\",\"JOR\",\"STP\",\"VCT\",\"GRD\",\"BRB\",\"ATG\"],\"text\":[\"Lesotho\",\"Guyana\",\"Eswatini\",\"South Korea\",\"Kiribati\",\"Micronesia\",\"Lithuania\",\"Suriname\",\"Russia\",\"South Africa\",\"Ukraine\",\"Belarus\",\"Uruguay\",\"Montenegro\",\"Latvia\",\"Slovenia\",\"Belgium\",\"Vanuatu\",\"Mongolia\",\"Kazakhstan\",\"Hungary\",\"Croatia\",\"United States\",\"Botswana\",\"Japan\",\"Finland\",\"Estonia\",\"Sweden\",\"Moldova\",\"Solomon Islands\",\"Austria\",\"Cuba\",\"Switzerland\",\"Zimbabwe\",\"Sri Lanka\",\"France\",\"Mozambique\",\"India\",\"Samoa\",\"Australia\",\"Germany\",\"Central African Republic\",\"Slovakia\",\"Iceland\",\"Canada\",\"Netherlands\",\"Norway\",\"Portugal\",\"Serbia\",\"Poland\",\"Luxembourg\",\"Singapore\",\"New Zealand\",\"Eritrea\",\"Bosnia and Herzegovina\",\"Denmark\",\"Romania\",\"Bulgaria\",\"Namibia\",\"Haiti\",\"Ireland\",\"Djibouti\",\"Mauritius\",\"North Korea\",\"North Macedonia\",\"Georgia\",\"Nepal\",\"Cameroon\",\"Chile\",\"Fiji\",\"Pakistan\",\"Ivory Coast\",\"Bahrain\",\"Thailand\",\"Togo\",\"Trinidad and Tobago\",\"Argentina\",\"Gabon\",\"China\",\"Costa Rica\",\"Seychelles\",\"Uzbekistan\",\"United Kingdom\",\"Somalia\",\"Equatorial Guinea\",\"Saint Lucia\",\"Benin\",\"Spain\",\"Ecuador\",\"Vietnam\",\"Burkina Faso\",\"Kyrgyzstan\",\"Zambia\",\"Morocco\",\"Belize\",\"Guinea\",\"Guinea-Bissau\",\"Brazil\",\"DR Congo\",\"Italy\",\"Sierra Leone\",\"Ghana\",\"Chad\",\"United Arab Emirates\",\"Burundi\",\"Bolivia\",\"Kenya\",\"Angola\",\"El Salvador\",\"Malta\",\"Saudi Arabia\",\"Senegal\",\"Paraguay\",\"Guatemala\",\"Yemen\",\"Qatar\",\"Malaysia\",\"Turkmenistan\",\"Rwanda\",\"Madagascar\",\"Ethiopia\",\"Malawi\",\"Laos\",\"Comoros\",\"Mexico\",\"Niger\",\"Israel\",\"Iran\",\"Greece\",\"Cambodia\",\"Dominican Republic\",\"Oman\",\"Gambia\",\"Uganda\",\"Bhutan\",\"Libya\",\"Liberia\",\"Nicaragua\",\"Tanzania\",\"Tajikistan\",\"Albania\",\"Afghanistan\",\"Mali\",\"Azerbaijan\",\"Colombia\",\"South Sudan\",\"Sudan\",\"Tonga\",\"Bangladesh\",\"Timor-Leste\",\"Iraq\",\"Cyprus\",\"Nigeria\",\"Bahamas\",\"Tunisia\",\"Armenia\",\"Mauritania\",\"Egypt\",\"Papua New Guinea\",\"Myanmar\",\"Panama\",\"Kuwait\",\"Peru\",\"Lebanon\",\"Maldives\",\"Brunei\",\"Algeria\",\"Indonesia\",\"Turkey\",\"Jamaica\",\"Philippines\",\"Venezuela\",\"Honduras\",\"Jordan\",\"Sao Tome and Principe\",\"Saint Vincent and the Grenadines\",\"Grenada\",\"Barbados\",\"Antigua and Barbuda\"],\"z\":[72.4,40.3,29.4,28.6,28.3,28.2,26.1,25.4,25.1,23.5,21.6,21.2,21.2,21.0,20.1,19.8,18.3,18.0,17.9,17.6,16.6,16.4,16.1,16.1,15.3,15.3,14.9,14.7,14.7,14.7,14.6,14.5,14.5,14.1,14.0,13.8,13.6,12.7,12.6,12.5,12.3,12.3,12.1,11.9,11.8,11.8,11.8,11.5,11.4,11.3,11.3,11.2,11.0,10.9,10.9,10.7,9.7,9.7,9.7,9.6,9.6,9.6,9.5,9.4,9.4,9.2,9.0,9.0,9.0,9.0,8.9,8.9,8.9,8.8,8.8,8.7,8.4,8.4,8.1,8.1,8.1,8.0,7.9,7.9,7.9,7.9,7.8,7.7,7.6,7.5,7.5,7.4,7.3,7.2,7.1,7.0,7.0,6.9,6.7,6.7,6.7,6.6,6.4,6.4,6.2,6.2,6.1,6.1,6.1,6.1,6.0,6.0,6.0,5.9,5.8,5.8,5.7,5.7,5.6,5.5,5.4,5.4,5.4,5.4,5.3,5.3,5.3,5.2,5.1,4.9,4.9,4.9,4.8,4.6,4.6,4.5,4.5,4.4,4.3,4.3,4.3,4.1,4.1,4.1,3.9,3.9,3.8,3.8,3.7,3.7,3.6,3.6,3.5,3.5,3.3,3.3,3.1,3.0,3.0,2.9,2.9,2.9,2.8,2.8,2.7,2.7,2.5,2.4,2.4,2.4,2.2,2.1,2.1,1.6,1.5,1.0,0.7,0.6,0.4],\"type\":\"choropleth\"}],                        {\"geo\":{\"showframe\":true},\"template\":{\"data\":{\"barpolar\":[{\"marker\":{\"line\":{\"color\":\"rgb(17,17,17)\",\"width\":0.5},\"pattern\":{\"fillmode\":\"overlay\",\"size\":10,\"solidity\":0.2}},\"type\":\"barpolar\"}],\"bar\":[{\"error_x\":{\"color\":\"#f2f5fa\"},\"error_y\":{\"color\":\"#f2f5fa\"},\"marker\":{\"line\":{\"color\":\"rgb(17,17,17)\",\"width\":0.5},\"pattern\":{\"fillmode\":\"overlay\",\"size\":10,\"solidity\":0.2}},\"type\":\"bar\"}],\"carpet\":[{\"aaxis\":{\"endlinecolor\":\"#A2B1C6\",\"gridcolor\":\"#506784\",\"linecolor\":\"#506784\",\"minorgridcolor\":\"#506784\",\"startlinecolor\":\"#A2B1C6\"},\"baxis\":{\"endlinecolor\":\"#A2B1C6\",\"gridcolor\":\"#506784\",\"linecolor\":\"#506784\",\"minorgridcolor\":\"#506784\",\"startlinecolor\":\"#A2B1C6\"},\"type\":\"carpet\"}],\"choropleth\":[{\"colorbar\":{\"outlinewidth\":0,\"ticks\":\"\"},\"type\":\"choropleth\"}],\"contourcarpet\":[{\"colorbar\":{\"outlinewidth\":0,\"ticks\":\"\"},\"type\":\"contourcarpet\"}],\"contour\":[{\"colorbar\":{\"outlinewidth\":0,\"ticks\":\"\"},\"colorscale\":[[0.0,\"#0d0887\"],[0.1111111111111111,\"#46039f\"],[0.2222222222222222,\"#7201a8\"],[0.3333333333333333,\"#9c179e\"],[0.4444444444444444,\"#bd3786\"],[0.5555555555555556,\"#d8576b\"],[0.6666666666666666,\"#ed7953\"],[0.7777777777777778,\"#fb9f3a\"],[0.8888888888888888,\"#fdca26\"],[1.0,\"#f0f921\"]],\"type\":\"contour\"}],\"heatmapgl\":[{\"colorbar\":{\"outlinewidth\":0,\"ticks\":\"\"},\"colorscale\":[[0.0,\"#0d0887\"],[0.1111111111111111,\"#46039f\"],[0.2222222222222222,\"#7201a8\"],[0.3333333333333333,\"#9c179e\"],[0.4444444444444444,\"#bd3786\"],[0.5555555555555556,\"#d8576b\"],[0.6666666666666666,\"#ed7953\"],[0.7777777777777778,\"#fb9f3a\"],[0.8888888888888888,\"#fdca26\"],[1.0,\"#f0f921\"]],\"type\":\"heatmapgl\"}],\"heatmap\":[{\"colorbar\":{\"outlinewidth\":0,\"ticks\":\"\"},\"colorscale\":[[0.0,\"#0d0887\"],[0.1111111111111111,\"#46039f\"],[0.2222222222222222,\"#7201a8\"],[0.3333333333333333,\"#9c179e\"],[0.4444444444444444,\"#bd3786\"],[0.5555555555555556,\"#d8576b\"],[0.6666666666666666,\"#ed7953\"],[0.7777777777777778,\"#fb9f3a\"],[0.8888888888888888,\"#fdca26\"],[1.0,\"#f0f921\"]],\"type\":\"heatmap\"}],\"histogram2dcontour\":[{\"colorbar\":{\"outlinewidth\":0,\"ticks\":\"\"},\"colorscale\":[[0.0,\"#0d0887\"],[0.1111111111111111,\"#46039f\"],[0.2222222222222222,\"#7201a8\"],[0.3333333333333333,\"#9c179e\"],[0.4444444444444444,\"#bd3786\"],[0.5555555555555556,\"#d8576b\"],[0.6666666666666666,\"#ed7953\"],[0.7777777777777778,\"#fb9f3a\"],[0.8888888888888888,\"#fdca26\"],[1.0,\"#f0f921\"]],\"type\":\"histogram2dcontour\"}],\"histogram2d\":[{\"colorbar\":{\"outlinewidth\":0,\"ticks\":\"\"},\"colorscale\":[[0.0,\"#0d0887\"],[0.1111111111111111,\"#46039f\"],[0.2222222222222222,\"#7201a8\"],[0.3333333333333333,\"#9c179e\"],[0.4444444444444444,\"#bd3786\"],[0.5555555555555556,\"#d8576b\"],[0.6666666666666666,\"#ed7953\"],[0.7777777777777778,\"#fb9f3a\"],[0.8888888888888888,\"#fdca26\"],[1.0,\"#f0f921\"]],\"type\":\"histogram2d\"}],\"histogram\":[{\"marker\":{\"pattern\":{\"fillmode\":\"overlay\",\"size\":10,\"solidity\":0.2}},\"type\":\"histogram\"}],\"mesh3d\":[{\"colorbar\":{\"outlinewidth\":0,\"ticks\":\"\"},\"type\":\"mesh3d\"}],\"parcoords\":[{\"line\":{\"colorbar\":{\"outlinewidth\":0,\"ticks\":\"\"}},\"type\":\"parcoords\"}],\"pie\":[{\"automargin\":true,\"type\":\"pie\"}],\"scatter3d\":[{\"line\":{\"colorbar\":{\"outlinewidth\":0,\"ticks\":\"\"}},\"marker\":{\"colorbar\":{\"outlinewidth\":0,\"ticks\":\"\"}},\"type\":\"scatter3d\"}],\"scattercarpet\":[{\"marker\":{\"colorbar\":{\"outlinewidth\":0,\"ticks\":\"\"}},\"type\":\"scattercarpet\"}],\"scattergeo\":[{\"marker\":{\"colorbar\":{\"outlinewidth\":0,\"ticks\":\"\"}},\"type\":\"scattergeo\"}],\"scattergl\":[{\"marker\":{\"line\":{\"color\":\"#283442\"}},\"type\":\"scattergl\"}],\"scattermapbox\":[{\"marker\":{\"colorbar\":{\"outlinewidth\":0,\"ticks\":\"\"}},\"type\":\"scattermapbox\"}],\"scatterpolargl\":[{\"marker\":{\"colorbar\":{\"outlinewidth\":0,\"ticks\":\"\"}},\"type\":\"scatterpolargl\"}],\"scatterpolar\":[{\"marker\":{\"colorbar\":{\"outlinewidth\":0,\"ticks\":\"\"}},\"type\":\"scatterpolar\"}],\"scatter\":[{\"marker\":{\"line\":{\"color\":\"#283442\"}},\"type\":\"scatter\"}],\"scatterternary\":[{\"marker\":{\"colorbar\":{\"outlinewidth\":0,\"ticks\":\"\"}},\"type\":\"scatterternary\"}],\"surface\":[{\"colorbar\":{\"outlinewidth\":0,\"ticks\":\"\"},\"colorscale\":[[0.0,\"#0d0887\"],[0.1111111111111111,\"#46039f\"],[0.2222222222222222,\"#7201a8\"],[0.3333333333333333,\"#9c179e\"],[0.4444444444444444,\"#bd3786\"],[0.5555555555555556,\"#d8576b\"],[0.6666666666666666,\"#ed7953\"],[0.7777777777777778,\"#fb9f3a\"],[0.8888888888888888,\"#fdca26\"],[1.0,\"#f0f921\"]],\"type\":\"surface\"}],\"table\":[{\"cells\":{\"fill\":{\"color\":\"#506784\"},\"line\":{\"color\":\"rgb(17,17,17)\"}},\"header\":{\"fill\":{\"color\":\"#2a3f5f\"},\"line\":{\"color\":\"rgb(17,17,17)\"}},\"type\":\"table\"}]},\"layout\":{\"annotationdefaults\":{\"arrowcolor\":\"#f2f5fa\",\"arrowhead\":0,\"arrowwidth\":1},\"autotypenumbers\":\"strict\",\"coloraxis\":{\"colorbar\":{\"outlinewidth\":0,\"ticks\":\"\"}},\"colorscale\":{\"diverging\":[[0,\"#8e0152\"],[0.1,\"#c51b7d\"],[0.2,\"#de77ae\"],[0.3,\"#f1b6da\"],[0.4,\"#fde0ef\"],[0.5,\"#f7f7f7\"],[0.6,\"#e6f5d0\"],[0.7,\"#b8e186\"],[0.8,\"#7fbc41\"],[0.9,\"#4d9221\"],[1,\"#276419\"]],\"sequential\":[[0.0,\"#0d0887\"],[0.1111111111111111,\"#46039f\"],[0.2222222222222222,\"#7201a8\"],[0.3333333333333333,\"#9c179e\"],[0.4444444444444444,\"#bd3786\"],[0.5555555555555556,\"#d8576b\"],[0.6666666666666666,\"#ed7953\"],[0.7777777777777778,\"#fb9f3a\"],[0.8888888888888888,\"#fdca26\"],[1.0,\"#f0f921\"]],\"sequentialminus\":[[0.0,\"#0d0887\"],[0.1111111111111111,\"#46039f\"],[0.2222222222222222,\"#7201a8\"],[0.3333333333333333,\"#9c179e\"],[0.4444444444444444,\"#bd3786\"],[0.5555555555555556,\"#d8576b\"],[0.6666666666666666,\"#ed7953\"],[0.7777777777777778,\"#fb9f3a\"],[0.8888888888888888,\"#fdca26\"],[1.0,\"#f0f921\"]]},\"colorway\":[\"#636efa\",\"#EF553B\",\"#00cc96\",\"#ab63fa\",\"#FFA15A\",\"#19d3f3\",\"#FF6692\",\"#B6E880\",\"#FF97FF\",\"#FECB52\"],\"font\":{\"color\":\"#f2f5fa\"},\"geo\":{\"bgcolor\":\"rgb(17,17,17)\",\"lakecolor\":\"rgb(17,17,17)\",\"landcolor\":\"rgb(17,17,17)\",\"showlakes\":true,\"showland\":true,\"subunitcolor\":\"#506784\"},\"hoverlabel\":{\"align\":\"left\"},\"hovermode\":\"closest\",\"mapbox\":{\"style\":\"dark\"},\"paper_bgcolor\":\"rgb(17,17,17)\",\"plot_bgcolor\":\"rgb(17,17,17)\",\"polar\":{\"angularaxis\":{\"gridcolor\":\"#506784\",\"linecolor\":\"#506784\",\"ticks\":\"\"},\"bgcolor\":\"rgb(17,17,17)\",\"radialaxis\":{\"gridcolor\":\"#506784\",\"linecolor\":\"#506784\",\"ticks\":\"\"}},\"scene\":{\"xaxis\":{\"backgroundcolor\":\"rgb(17,17,17)\",\"gridcolor\":\"#506784\",\"gridwidth\":2,\"linecolor\":\"#506784\",\"showbackground\":true,\"ticks\":\"\",\"zerolinecolor\":\"#C8D4E3\"},\"yaxis\":{\"backgroundcolor\":\"rgb(17,17,17)\",\"gridcolor\":\"#506784\",\"gridwidth\":2,\"linecolor\":\"#506784\",\"showbackground\":true,\"ticks\":\"\",\"zerolinecolor\":\"#C8D4E3\"},\"zaxis\":{\"backgroundcolor\":\"rgb(17,17,17)\",\"gridcolor\":\"#506784\",\"gridwidth\":2,\"linecolor\":\"#506784\",\"showbackground\":true,\"ticks\":\"\",\"zerolinecolor\":\"#C8D4E3\"}},\"shapedefaults\":{\"line\":{\"color\":\"#f2f5fa\"}},\"sliderdefaults\":{\"bgcolor\":\"#C8D4E3\",\"bordercolor\":\"rgb(17,17,17)\",\"borderwidth\":1,\"tickwidth\":0},\"ternary\":{\"aaxis\":{\"gridcolor\":\"#506784\",\"linecolor\":\"#506784\",\"ticks\":\"\"},\"baxis\":{\"gridcolor\":\"#506784\",\"linecolor\":\"#506784\",\"ticks\":\"\"},\"bgcolor\":\"rgb(17,17,17)\",\"caxis\":{\"gridcolor\":\"#506784\",\"linecolor\":\"#506784\",\"ticks\":\"\"}},\"title\":{\"x\":0.05},\"updatemenudefaults\":{\"bgcolor\":\"#506784\",\"borderwidth\":0},\"xaxis\":{\"automargin\":true,\"gridcolor\":\"#283442\",\"linecolor\":\"#506784\",\"ticks\":\"\",\"title\":{\"standoff\":15},\"zerolinecolor\":\"#283442\",\"zerolinewidth\":2},\"yaxis\":{\"automargin\":true,\"gridcolor\":\"#283442\",\"linecolor\":\"#506784\",\"ticks\":\"\",\"title\":{\"standoff\":15},\"zerolinecolor\":\"#283442\",\"zerolinewidth\":2}}},\"title\":{\"text\":\"Suicide rate(2019)\"}},                        {\"responsive\": true}                    ).then(function(){\n                            \nvar gd = document.getElementById('a65bb092-d5c3-45c7-8fc2-3835451edc5a');\nvar x = new MutationObserver(function (mutations, observer) {{\n        var display = window.getComputedStyle(gd).display;\n        if (!display || display === 'none') {{\n            console.log([gd, 'removed!']);\n            Plotly.purge(gd);\n            observer.disconnect();\n        }}\n}});\n\n// Listen for the removal of the full notebook cells\nvar notebookContainer = gd.closest('#notebook-container');\nif (notebookContainer) {{\n    x.observe(notebookContainer, {childList: true});\n}}\n\n// Listen for the clearing of the current output cell\nvar outputEl = gd.closest('.output');\nif (outputEl) {{\n    x.observe(outputEl, {childList: true});\n}}\n\n                        })                };                });            </script>        </div>"
     },
     "metadata": {},
     "output_type": "display_data"
    }
   ],
   "source": [
    "data = dict(\n",
    "    type='choropleth', locations=df['cca3'],\n",
    "    z= df['rate2019both'],\n",
    "    text = df['country'],\n",
    "    colorbar={'title':'suicide rate(2019)'}\n",
    ")\n",
    "layout = dict(title = 'Suicide rate(2019)',\n",
    "geo = dict(showframe =  True))\n",
    "choromap5 = go.Figure(data= [data],layout=layout)\n",
    "iplot(choromap5)"
   ]
  },
  {
   "cell_type": "code",
   "execution_count": 32,
   "id": "797244a1",
   "metadata": {},
   "outputs": [],
   "source": [
    "q1 = df['rate2019both'].quantile(0.25)\n",
    "q3 = df['rate2019both'].quantile(0.75)\n",
    "iqr = q3-q1\n",
    "lower_lim = q1-1.5*iqr\n",
    "upper_lim = q3+1.5*iqr"
   ]
  },
  {
   "cell_type": "code",
   "execution_count": 33,
   "id": "54b72c8a",
   "metadata": {},
   "outputs": [],
   "source": [
    "high_crate = df[df['rate2019both']>upper_lim]['rate2019both'].values\n",
    "countries_high_crate = df[df['rate2019both']>upper_lim]['cca3'].to_list()\n",
    "country= df[df['rate2019both']>upper_lim]['country'].to_list()\n"
   ]
  },
  {
   "cell_type": "code",
   "execution_count": 34,
   "id": "a241bcb7",
   "metadata": {},
   "outputs": [
    {
     "data": {
      "application/vnd.plotly.v1+json": {
       "data": [
        {
         "colorbar": {
          "title": {
           "text": "Suicide rate(2019)"
          }
         },
         "locations": [
          "LSO",
          "GUY",
          "SWZ",
          "KOR",
          "KIR",
          "FSM",
          "LTU",
          "SUR",
          "RUS",
          "ZAF"
         ],
         "text": [
          "Lesotho",
          "Guyana",
          "Eswatini",
          "South Korea",
          "Kiribati",
          "Micronesia",
          "Lithuania",
          "Suriname",
          "Russia",
          "South Africa"
         ],
         "z": [
          72.4,
          40.3,
          29.4,
          28.6,
          28.3,
          28.2,
          26.1,
          25.4,
          25.1,
          23.5
         ],
         "type": "choropleth"
        }
       ],
       "layout": {
        "geo": {
         "showframe": true
        },
        "template": {
         "data": {
          "barpolar": [
           {
            "marker": {
             "line": {
              "color": "rgb(17,17,17)",
              "width": 0.5
             },
             "pattern": {
              "fillmode": "overlay",
              "size": 10,
              "solidity": 0.2
             }
            },
            "type": "barpolar"
           }
          ],
          "bar": [
           {
            "error_x": {
             "color": "#f2f5fa"
            },
            "error_y": {
             "color": "#f2f5fa"
            },
            "marker": {
             "line": {
              "color": "rgb(17,17,17)",
              "width": 0.5
             },
             "pattern": {
              "fillmode": "overlay",
              "size": 10,
              "solidity": 0.2
             }
            },
            "type": "bar"
           }
          ],
          "carpet": [
           {
            "aaxis": {
             "endlinecolor": "#A2B1C6",
             "gridcolor": "#506784",
             "linecolor": "#506784",
             "minorgridcolor": "#506784",
             "startlinecolor": "#A2B1C6"
            },
            "baxis": {
             "endlinecolor": "#A2B1C6",
             "gridcolor": "#506784",
             "linecolor": "#506784",
             "minorgridcolor": "#506784",
             "startlinecolor": "#A2B1C6"
            },
            "type": "carpet"
           }
          ],
          "choropleth": [
           {
            "colorbar": {
             "outlinewidth": 0,
             "ticks": ""
            },
            "type": "choropleth"
           }
          ],
          "contourcarpet": [
           {
            "colorbar": {
             "outlinewidth": 0,
             "ticks": ""
            },
            "type": "contourcarpet"
           }
          ],
          "contour": [
           {
            "colorbar": {
             "outlinewidth": 0,
             "ticks": ""
            },
            "colorscale": [
             [
              0.0,
              "#0d0887"
             ],
             [
              0.1111111111111111,
              "#46039f"
             ],
             [
              0.2222222222222222,
              "#7201a8"
             ],
             [
              0.3333333333333333,
              "#9c179e"
             ],
             [
              0.4444444444444444,
              "#bd3786"
             ],
             [
              0.5555555555555556,
              "#d8576b"
             ],
             [
              0.6666666666666666,
              "#ed7953"
             ],
             [
              0.7777777777777778,
              "#fb9f3a"
             ],
             [
              0.8888888888888888,
              "#fdca26"
             ],
             [
              1.0,
              "#f0f921"
             ]
            ],
            "type": "contour"
           }
          ],
          "heatmapgl": [
           {
            "colorbar": {
             "outlinewidth": 0,
             "ticks": ""
            },
            "colorscale": [
             [
              0.0,
              "#0d0887"
             ],
             [
              0.1111111111111111,
              "#46039f"
             ],
             [
              0.2222222222222222,
              "#7201a8"
             ],
             [
              0.3333333333333333,
              "#9c179e"
             ],
             [
              0.4444444444444444,
              "#bd3786"
             ],
             [
              0.5555555555555556,
              "#d8576b"
             ],
             [
              0.6666666666666666,
              "#ed7953"
             ],
             [
              0.7777777777777778,
              "#fb9f3a"
             ],
             [
              0.8888888888888888,
              "#fdca26"
             ],
             [
              1.0,
              "#f0f921"
             ]
            ],
            "type": "heatmapgl"
           }
          ],
          "heatmap": [
           {
            "colorbar": {
             "outlinewidth": 0,
             "ticks": ""
            },
            "colorscale": [
             [
              0.0,
              "#0d0887"
             ],
             [
              0.1111111111111111,
              "#46039f"
             ],
             [
              0.2222222222222222,
              "#7201a8"
             ],
             [
              0.3333333333333333,
              "#9c179e"
             ],
             [
              0.4444444444444444,
              "#bd3786"
             ],
             [
              0.5555555555555556,
              "#d8576b"
             ],
             [
              0.6666666666666666,
              "#ed7953"
             ],
             [
              0.7777777777777778,
              "#fb9f3a"
             ],
             [
              0.8888888888888888,
              "#fdca26"
             ],
             [
              1.0,
              "#f0f921"
             ]
            ],
            "type": "heatmap"
           }
          ],
          "histogram2dcontour": [
           {
            "colorbar": {
             "outlinewidth": 0,
             "ticks": ""
            },
            "colorscale": [
             [
              0.0,
              "#0d0887"
             ],
             [
              0.1111111111111111,
              "#46039f"
             ],
             [
              0.2222222222222222,
              "#7201a8"
             ],
             [
              0.3333333333333333,
              "#9c179e"
             ],
             [
              0.4444444444444444,
              "#bd3786"
             ],
             [
              0.5555555555555556,
              "#d8576b"
             ],
             [
              0.6666666666666666,
              "#ed7953"
             ],
             [
              0.7777777777777778,
              "#fb9f3a"
             ],
             [
              0.8888888888888888,
              "#fdca26"
             ],
             [
              1.0,
              "#f0f921"
             ]
            ],
            "type": "histogram2dcontour"
           }
          ],
          "histogram2d": [
           {
            "colorbar": {
             "outlinewidth": 0,
             "ticks": ""
            },
            "colorscale": [
             [
              0.0,
              "#0d0887"
             ],
             [
              0.1111111111111111,
              "#46039f"
             ],
             [
              0.2222222222222222,
              "#7201a8"
             ],
             [
              0.3333333333333333,
              "#9c179e"
             ],
             [
              0.4444444444444444,
              "#bd3786"
             ],
             [
              0.5555555555555556,
              "#d8576b"
             ],
             [
              0.6666666666666666,
              "#ed7953"
             ],
             [
              0.7777777777777778,
              "#fb9f3a"
             ],
             [
              0.8888888888888888,
              "#fdca26"
             ],
             [
              1.0,
              "#f0f921"
             ]
            ],
            "type": "histogram2d"
           }
          ],
          "histogram": [
           {
            "marker": {
             "pattern": {
              "fillmode": "overlay",
              "size": 10,
              "solidity": 0.2
             }
            },
            "type": "histogram"
           }
          ],
          "mesh3d": [
           {
            "colorbar": {
             "outlinewidth": 0,
             "ticks": ""
            },
            "type": "mesh3d"
           }
          ],
          "parcoords": [
           {
            "line": {
             "colorbar": {
              "outlinewidth": 0,
              "ticks": ""
             }
            },
            "type": "parcoords"
           }
          ],
          "pie": [
           {
            "automargin": true,
            "type": "pie"
           }
          ],
          "scatter3d": [
           {
            "line": {
             "colorbar": {
              "outlinewidth": 0,
              "ticks": ""
             }
            },
            "marker": {
             "colorbar": {
              "outlinewidth": 0,
              "ticks": ""
             }
            },
            "type": "scatter3d"
           }
          ],
          "scattercarpet": [
           {
            "marker": {
             "colorbar": {
              "outlinewidth": 0,
              "ticks": ""
             }
            },
            "type": "scattercarpet"
           }
          ],
          "scattergeo": [
           {
            "marker": {
             "colorbar": {
              "outlinewidth": 0,
              "ticks": ""
             }
            },
            "type": "scattergeo"
           }
          ],
          "scattergl": [
           {
            "marker": {
             "line": {
              "color": "#283442"
             }
            },
            "type": "scattergl"
           }
          ],
          "scattermapbox": [
           {
            "marker": {
             "colorbar": {
              "outlinewidth": 0,
              "ticks": ""
             }
            },
            "type": "scattermapbox"
           }
          ],
          "scatterpolargl": [
           {
            "marker": {
             "colorbar": {
              "outlinewidth": 0,
              "ticks": ""
             }
            },
            "type": "scatterpolargl"
           }
          ],
          "scatterpolar": [
           {
            "marker": {
             "colorbar": {
              "outlinewidth": 0,
              "ticks": ""
             }
            },
            "type": "scatterpolar"
           }
          ],
          "scatter": [
           {
            "marker": {
             "line": {
              "color": "#283442"
             }
            },
            "type": "scatter"
           }
          ],
          "scatterternary": [
           {
            "marker": {
             "colorbar": {
              "outlinewidth": 0,
              "ticks": ""
             }
            },
            "type": "scatterternary"
           }
          ],
          "surface": [
           {
            "colorbar": {
             "outlinewidth": 0,
             "ticks": ""
            },
            "colorscale": [
             [
              0.0,
              "#0d0887"
             ],
             [
              0.1111111111111111,
              "#46039f"
             ],
             [
              0.2222222222222222,
              "#7201a8"
             ],
             [
              0.3333333333333333,
              "#9c179e"
             ],
             [
              0.4444444444444444,
              "#bd3786"
             ],
             [
              0.5555555555555556,
              "#d8576b"
             ],
             [
              0.6666666666666666,
              "#ed7953"
             ],
             [
              0.7777777777777778,
              "#fb9f3a"
             ],
             [
              0.8888888888888888,
              "#fdca26"
             ],
             [
              1.0,
              "#f0f921"
             ]
            ],
            "type": "surface"
           }
          ],
          "table": [
           {
            "cells": {
             "fill": {
              "color": "#506784"
             },
             "line": {
              "color": "rgb(17,17,17)"
             }
            },
            "header": {
             "fill": {
              "color": "#2a3f5f"
             },
             "line": {
              "color": "rgb(17,17,17)"
             }
            },
            "type": "table"
           }
          ]
         },
         "layout": {
          "annotationdefaults": {
           "arrowcolor": "#f2f5fa",
           "arrowhead": 0,
           "arrowwidth": 1
          },
          "autotypenumbers": "strict",
          "coloraxis": {
           "colorbar": {
            "outlinewidth": 0,
            "ticks": ""
           }
          },
          "colorscale": {
           "diverging": [
            [
             0,
             "#8e0152"
            ],
            [
             0.1,
             "#c51b7d"
            ],
            [
             0.2,
             "#de77ae"
            ],
            [
             0.3,
             "#f1b6da"
            ],
            [
             0.4,
             "#fde0ef"
            ],
            [
             0.5,
             "#f7f7f7"
            ],
            [
             0.6,
             "#e6f5d0"
            ],
            [
             0.7,
             "#b8e186"
            ],
            [
             0.8,
             "#7fbc41"
            ],
            [
             0.9,
             "#4d9221"
            ],
            [
             1,
             "#276419"
            ]
           ],
           "sequential": [
            [
             0.0,
             "#0d0887"
            ],
            [
             0.1111111111111111,
             "#46039f"
            ],
            [
             0.2222222222222222,
             "#7201a8"
            ],
            [
             0.3333333333333333,
             "#9c179e"
            ],
            [
             0.4444444444444444,
             "#bd3786"
            ],
            [
             0.5555555555555556,
             "#d8576b"
            ],
            [
             0.6666666666666666,
             "#ed7953"
            ],
            [
             0.7777777777777778,
             "#fb9f3a"
            ],
            [
             0.8888888888888888,
             "#fdca26"
            ],
            [
             1.0,
             "#f0f921"
            ]
           ],
           "sequentialminus": [
            [
             0.0,
             "#0d0887"
            ],
            [
             0.1111111111111111,
             "#46039f"
            ],
            [
             0.2222222222222222,
             "#7201a8"
            ],
            [
             0.3333333333333333,
             "#9c179e"
            ],
            [
             0.4444444444444444,
             "#bd3786"
            ],
            [
             0.5555555555555556,
             "#d8576b"
            ],
            [
             0.6666666666666666,
             "#ed7953"
            ],
            [
             0.7777777777777778,
             "#fb9f3a"
            ],
            [
             0.8888888888888888,
             "#fdca26"
            ],
            [
             1.0,
             "#f0f921"
            ]
           ]
          },
          "colorway": [
           "#636efa",
           "#EF553B",
           "#00cc96",
           "#ab63fa",
           "#FFA15A",
           "#19d3f3",
           "#FF6692",
           "#B6E880",
           "#FF97FF",
           "#FECB52"
          ],
          "font": {
           "color": "#f2f5fa"
          },
          "geo": {
           "bgcolor": "rgb(17,17,17)",
           "lakecolor": "rgb(17,17,17)",
           "landcolor": "rgb(17,17,17)",
           "showlakes": true,
           "showland": true,
           "subunitcolor": "#506784"
          },
          "hoverlabel": {
           "align": "left"
          },
          "hovermode": "closest",
          "mapbox": {
           "style": "dark"
          },
          "paper_bgcolor": "rgb(17,17,17)",
          "plot_bgcolor": "rgb(17,17,17)",
          "polar": {
           "angularaxis": {
            "gridcolor": "#506784",
            "linecolor": "#506784",
            "ticks": ""
           },
           "bgcolor": "rgb(17,17,17)",
           "radialaxis": {
            "gridcolor": "#506784",
            "linecolor": "#506784",
            "ticks": ""
           }
          },
          "scene": {
           "xaxis": {
            "backgroundcolor": "rgb(17,17,17)",
            "gridcolor": "#506784",
            "gridwidth": 2,
            "linecolor": "#506784",
            "showbackground": true,
            "ticks": "",
            "zerolinecolor": "#C8D4E3"
           },
           "yaxis": {
            "backgroundcolor": "rgb(17,17,17)",
            "gridcolor": "#506784",
            "gridwidth": 2,
            "linecolor": "#506784",
            "showbackground": true,
            "ticks": "",
            "zerolinecolor": "#C8D4E3"
           },
           "zaxis": {
            "backgroundcolor": "rgb(17,17,17)",
            "gridcolor": "#506784",
            "gridwidth": 2,
            "linecolor": "#506784",
            "showbackground": true,
            "ticks": "",
            "zerolinecolor": "#C8D4E3"
           }
          },
          "shapedefaults": {
           "line": {
            "color": "#f2f5fa"
           }
          },
          "sliderdefaults": {
           "bgcolor": "#C8D4E3",
           "bordercolor": "rgb(17,17,17)",
           "borderwidth": 1,
           "tickwidth": 0
          },
          "ternary": {
           "aaxis": {
            "gridcolor": "#506784",
            "linecolor": "#506784",
            "ticks": ""
           },
           "baxis": {
            "gridcolor": "#506784",
            "linecolor": "#506784",
            "ticks": ""
           },
           "bgcolor": "rgb(17,17,17)",
           "caxis": {
            "gridcolor": "#506784",
            "linecolor": "#506784",
            "ticks": ""
           }
          },
          "title": {
           "x": 0.05
          },
          "updatemenudefaults": {
           "bgcolor": "#506784",
           "borderwidth": 0
          },
          "xaxis": {
           "automargin": true,
           "gridcolor": "#283442",
           "linecolor": "#506784",
           "ticks": "",
           "title": {
            "standoff": 15
           },
           "zerolinecolor": "#283442",
           "zerolinewidth": 2
          },
          "yaxis": {
           "automargin": true,
           "gridcolor": "#283442",
           "linecolor": "#506784",
           "ticks": "",
           "title": {
            "standoff": 15
           },
           "zerolinecolor": "#283442",
           "zerolinewidth": 2
          }
         }
        },
        "title": {
         "text": "Countries with higher suicide rate(2019)"
        }
       },
       "config": {
        "showLink": false,
        "linkText": "Export to plot.ly",
        "plotlyServerURL": "https://plot.ly"
       }
      },
      "text/html": "<div>                            <div id=\"89ee9c56-12c2-460e-8235-5a30848ed37e\" class=\"plotly-graph-div\" style=\"height:525px; width:100%;\"></div>            <script type=\"text/javascript\">                require([\"plotly\"], function(Plotly) {                    window.PLOTLYENV=window.PLOTLYENV || {};                                    if (document.getElementById(\"89ee9c56-12c2-460e-8235-5a30848ed37e\")) {                    Plotly.newPlot(                        \"89ee9c56-12c2-460e-8235-5a30848ed37e\",                        [{\"colorbar\":{\"title\":{\"text\":\"Suicide rate(2019)\"}},\"locations\":[\"LSO\",\"GUY\",\"SWZ\",\"KOR\",\"KIR\",\"FSM\",\"LTU\",\"SUR\",\"RUS\",\"ZAF\"],\"text\":[\"Lesotho\",\"Guyana\",\"Eswatini\",\"South Korea\",\"Kiribati\",\"Micronesia\",\"Lithuania\",\"Suriname\",\"Russia\",\"South Africa\"],\"z\":[72.4,40.3,29.4,28.6,28.3,28.2,26.1,25.4,25.1,23.5],\"type\":\"choropleth\"}],                        {\"geo\":{\"showframe\":true},\"template\":{\"data\":{\"barpolar\":[{\"marker\":{\"line\":{\"color\":\"rgb(17,17,17)\",\"width\":0.5},\"pattern\":{\"fillmode\":\"overlay\",\"size\":10,\"solidity\":0.2}},\"type\":\"barpolar\"}],\"bar\":[{\"error_x\":{\"color\":\"#f2f5fa\"},\"error_y\":{\"color\":\"#f2f5fa\"},\"marker\":{\"line\":{\"color\":\"rgb(17,17,17)\",\"width\":0.5},\"pattern\":{\"fillmode\":\"overlay\",\"size\":10,\"solidity\":0.2}},\"type\":\"bar\"}],\"carpet\":[{\"aaxis\":{\"endlinecolor\":\"#A2B1C6\",\"gridcolor\":\"#506784\",\"linecolor\":\"#506784\",\"minorgridcolor\":\"#506784\",\"startlinecolor\":\"#A2B1C6\"},\"baxis\":{\"endlinecolor\":\"#A2B1C6\",\"gridcolor\":\"#506784\",\"linecolor\":\"#506784\",\"minorgridcolor\":\"#506784\",\"startlinecolor\":\"#A2B1C6\"},\"type\":\"carpet\"}],\"choropleth\":[{\"colorbar\":{\"outlinewidth\":0,\"ticks\":\"\"},\"type\":\"choropleth\"}],\"contourcarpet\":[{\"colorbar\":{\"outlinewidth\":0,\"ticks\":\"\"},\"type\":\"contourcarpet\"}],\"contour\":[{\"colorbar\":{\"outlinewidth\":0,\"ticks\":\"\"},\"colorscale\":[[0.0,\"#0d0887\"],[0.1111111111111111,\"#46039f\"],[0.2222222222222222,\"#7201a8\"],[0.3333333333333333,\"#9c179e\"],[0.4444444444444444,\"#bd3786\"],[0.5555555555555556,\"#d8576b\"],[0.6666666666666666,\"#ed7953\"],[0.7777777777777778,\"#fb9f3a\"],[0.8888888888888888,\"#fdca26\"],[1.0,\"#f0f921\"]],\"type\":\"contour\"}],\"heatmapgl\":[{\"colorbar\":{\"outlinewidth\":0,\"ticks\":\"\"},\"colorscale\":[[0.0,\"#0d0887\"],[0.1111111111111111,\"#46039f\"],[0.2222222222222222,\"#7201a8\"],[0.3333333333333333,\"#9c179e\"],[0.4444444444444444,\"#bd3786\"],[0.5555555555555556,\"#d8576b\"],[0.6666666666666666,\"#ed7953\"],[0.7777777777777778,\"#fb9f3a\"],[0.8888888888888888,\"#fdca26\"],[1.0,\"#f0f921\"]],\"type\":\"heatmapgl\"}],\"heatmap\":[{\"colorbar\":{\"outlinewidth\":0,\"ticks\":\"\"},\"colorscale\":[[0.0,\"#0d0887\"],[0.1111111111111111,\"#46039f\"],[0.2222222222222222,\"#7201a8\"],[0.3333333333333333,\"#9c179e\"],[0.4444444444444444,\"#bd3786\"],[0.5555555555555556,\"#d8576b\"],[0.6666666666666666,\"#ed7953\"],[0.7777777777777778,\"#fb9f3a\"],[0.8888888888888888,\"#fdca26\"],[1.0,\"#f0f921\"]],\"type\":\"heatmap\"}],\"histogram2dcontour\":[{\"colorbar\":{\"outlinewidth\":0,\"ticks\":\"\"},\"colorscale\":[[0.0,\"#0d0887\"],[0.1111111111111111,\"#46039f\"],[0.2222222222222222,\"#7201a8\"],[0.3333333333333333,\"#9c179e\"],[0.4444444444444444,\"#bd3786\"],[0.5555555555555556,\"#d8576b\"],[0.6666666666666666,\"#ed7953\"],[0.7777777777777778,\"#fb9f3a\"],[0.8888888888888888,\"#fdca26\"],[1.0,\"#f0f921\"]],\"type\":\"histogram2dcontour\"}],\"histogram2d\":[{\"colorbar\":{\"outlinewidth\":0,\"ticks\":\"\"},\"colorscale\":[[0.0,\"#0d0887\"],[0.1111111111111111,\"#46039f\"],[0.2222222222222222,\"#7201a8\"],[0.3333333333333333,\"#9c179e\"],[0.4444444444444444,\"#bd3786\"],[0.5555555555555556,\"#d8576b\"],[0.6666666666666666,\"#ed7953\"],[0.7777777777777778,\"#fb9f3a\"],[0.8888888888888888,\"#fdca26\"],[1.0,\"#f0f921\"]],\"type\":\"histogram2d\"}],\"histogram\":[{\"marker\":{\"pattern\":{\"fillmode\":\"overlay\",\"size\":10,\"solidity\":0.2}},\"type\":\"histogram\"}],\"mesh3d\":[{\"colorbar\":{\"outlinewidth\":0,\"ticks\":\"\"},\"type\":\"mesh3d\"}],\"parcoords\":[{\"line\":{\"colorbar\":{\"outlinewidth\":0,\"ticks\":\"\"}},\"type\":\"parcoords\"}],\"pie\":[{\"automargin\":true,\"type\":\"pie\"}],\"scatter3d\":[{\"line\":{\"colorbar\":{\"outlinewidth\":0,\"ticks\":\"\"}},\"marker\":{\"colorbar\":{\"outlinewidth\":0,\"ticks\":\"\"}},\"type\":\"scatter3d\"}],\"scattercarpet\":[{\"marker\":{\"colorbar\":{\"outlinewidth\":0,\"ticks\":\"\"}},\"type\":\"scattercarpet\"}],\"scattergeo\":[{\"marker\":{\"colorbar\":{\"outlinewidth\":0,\"ticks\":\"\"}},\"type\":\"scattergeo\"}],\"scattergl\":[{\"marker\":{\"line\":{\"color\":\"#283442\"}},\"type\":\"scattergl\"}],\"scattermapbox\":[{\"marker\":{\"colorbar\":{\"outlinewidth\":0,\"ticks\":\"\"}},\"type\":\"scattermapbox\"}],\"scatterpolargl\":[{\"marker\":{\"colorbar\":{\"outlinewidth\":0,\"ticks\":\"\"}},\"type\":\"scatterpolargl\"}],\"scatterpolar\":[{\"marker\":{\"colorbar\":{\"outlinewidth\":0,\"ticks\":\"\"}},\"type\":\"scatterpolar\"}],\"scatter\":[{\"marker\":{\"line\":{\"color\":\"#283442\"}},\"type\":\"scatter\"}],\"scatterternary\":[{\"marker\":{\"colorbar\":{\"outlinewidth\":0,\"ticks\":\"\"}},\"type\":\"scatterternary\"}],\"surface\":[{\"colorbar\":{\"outlinewidth\":0,\"ticks\":\"\"},\"colorscale\":[[0.0,\"#0d0887\"],[0.1111111111111111,\"#46039f\"],[0.2222222222222222,\"#7201a8\"],[0.3333333333333333,\"#9c179e\"],[0.4444444444444444,\"#bd3786\"],[0.5555555555555556,\"#d8576b\"],[0.6666666666666666,\"#ed7953\"],[0.7777777777777778,\"#fb9f3a\"],[0.8888888888888888,\"#fdca26\"],[1.0,\"#f0f921\"]],\"type\":\"surface\"}],\"table\":[{\"cells\":{\"fill\":{\"color\":\"#506784\"},\"line\":{\"color\":\"rgb(17,17,17)\"}},\"header\":{\"fill\":{\"color\":\"#2a3f5f\"},\"line\":{\"color\":\"rgb(17,17,17)\"}},\"type\":\"table\"}]},\"layout\":{\"annotationdefaults\":{\"arrowcolor\":\"#f2f5fa\",\"arrowhead\":0,\"arrowwidth\":1},\"autotypenumbers\":\"strict\",\"coloraxis\":{\"colorbar\":{\"outlinewidth\":0,\"ticks\":\"\"}},\"colorscale\":{\"diverging\":[[0,\"#8e0152\"],[0.1,\"#c51b7d\"],[0.2,\"#de77ae\"],[0.3,\"#f1b6da\"],[0.4,\"#fde0ef\"],[0.5,\"#f7f7f7\"],[0.6,\"#e6f5d0\"],[0.7,\"#b8e186\"],[0.8,\"#7fbc41\"],[0.9,\"#4d9221\"],[1,\"#276419\"]],\"sequential\":[[0.0,\"#0d0887\"],[0.1111111111111111,\"#46039f\"],[0.2222222222222222,\"#7201a8\"],[0.3333333333333333,\"#9c179e\"],[0.4444444444444444,\"#bd3786\"],[0.5555555555555556,\"#d8576b\"],[0.6666666666666666,\"#ed7953\"],[0.7777777777777778,\"#fb9f3a\"],[0.8888888888888888,\"#fdca26\"],[1.0,\"#f0f921\"]],\"sequentialminus\":[[0.0,\"#0d0887\"],[0.1111111111111111,\"#46039f\"],[0.2222222222222222,\"#7201a8\"],[0.3333333333333333,\"#9c179e\"],[0.4444444444444444,\"#bd3786\"],[0.5555555555555556,\"#d8576b\"],[0.6666666666666666,\"#ed7953\"],[0.7777777777777778,\"#fb9f3a\"],[0.8888888888888888,\"#fdca26\"],[1.0,\"#f0f921\"]]},\"colorway\":[\"#636efa\",\"#EF553B\",\"#00cc96\",\"#ab63fa\",\"#FFA15A\",\"#19d3f3\",\"#FF6692\",\"#B6E880\",\"#FF97FF\",\"#FECB52\"],\"font\":{\"color\":\"#f2f5fa\"},\"geo\":{\"bgcolor\":\"rgb(17,17,17)\",\"lakecolor\":\"rgb(17,17,17)\",\"landcolor\":\"rgb(17,17,17)\",\"showlakes\":true,\"showland\":true,\"subunitcolor\":\"#506784\"},\"hoverlabel\":{\"align\":\"left\"},\"hovermode\":\"closest\",\"mapbox\":{\"style\":\"dark\"},\"paper_bgcolor\":\"rgb(17,17,17)\",\"plot_bgcolor\":\"rgb(17,17,17)\",\"polar\":{\"angularaxis\":{\"gridcolor\":\"#506784\",\"linecolor\":\"#506784\",\"ticks\":\"\"},\"bgcolor\":\"rgb(17,17,17)\",\"radialaxis\":{\"gridcolor\":\"#506784\",\"linecolor\":\"#506784\",\"ticks\":\"\"}},\"scene\":{\"xaxis\":{\"backgroundcolor\":\"rgb(17,17,17)\",\"gridcolor\":\"#506784\",\"gridwidth\":2,\"linecolor\":\"#506784\",\"showbackground\":true,\"ticks\":\"\",\"zerolinecolor\":\"#C8D4E3\"},\"yaxis\":{\"backgroundcolor\":\"rgb(17,17,17)\",\"gridcolor\":\"#506784\",\"gridwidth\":2,\"linecolor\":\"#506784\",\"showbackground\":true,\"ticks\":\"\",\"zerolinecolor\":\"#C8D4E3\"},\"zaxis\":{\"backgroundcolor\":\"rgb(17,17,17)\",\"gridcolor\":\"#506784\",\"gridwidth\":2,\"linecolor\":\"#506784\",\"showbackground\":true,\"ticks\":\"\",\"zerolinecolor\":\"#C8D4E3\"}},\"shapedefaults\":{\"line\":{\"color\":\"#f2f5fa\"}},\"sliderdefaults\":{\"bgcolor\":\"#C8D4E3\",\"bordercolor\":\"rgb(17,17,17)\",\"borderwidth\":1,\"tickwidth\":0},\"ternary\":{\"aaxis\":{\"gridcolor\":\"#506784\",\"linecolor\":\"#506784\",\"ticks\":\"\"},\"baxis\":{\"gridcolor\":\"#506784\",\"linecolor\":\"#506784\",\"ticks\":\"\"},\"bgcolor\":\"rgb(17,17,17)\",\"caxis\":{\"gridcolor\":\"#506784\",\"linecolor\":\"#506784\",\"ticks\":\"\"}},\"title\":{\"x\":0.05},\"updatemenudefaults\":{\"bgcolor\":\"#506784\",\"borderwidth\":0},\"xaxis\":{\"automargin\":true,\"gridcolor\":\"#283442\",\"linecolor\":\"#506784\",\"ticks\":\"\",\"title\":{\"standoff\":15},\"zerolinecolor\":\"#283442\",\"zerolinewidth\":2},\"yaxis\":{\"automargin\":true,\"gridcolor\":\"#283442\",\"linecolor\":\"#506784\",\"ticks\":\"\",\"title\":{\"standoff\":15},\"zerolinecolor\":\"#283442\",\"zerolinewidth\":2}}},\"title\":{\"text\":\"Countries with higher suicide rate(2019)\"}},                        {\"responsive\": true}                    ).then(function(){\n                            \nvar gd = document.getElementById('89ee9c56-12c2-460e-8235-5a30848ed37e');\nvar x = new MutationObserver(function (mutations, observer) {{\n        var display = window.getComputedStyle(gd).display;\n        if (!display || display === 'none') {{\n            console.log([gd, 'removed!']);\n            Plotly.purge(gd);\n            observer.disconnect();\n        }}\n}});\n\n// Listen for the removal of the full notebook cells\nvar notebookContainer = gd.closest('#notebook-container');\nif (notebookContainer) {{\n    x.observe(notebookContainer, {childList: true});\n}}\n\n// Listen for the clearing of the current output cell\nvar outputEl = gd.closest('.output');\nif (outputEl) {{\n    x.observe(outputEl, {childList: true});\n}}\n\n                        })                };                });            </script>        </div>"
     },
     "metadata": {},
     "output_type": "display_data"
    }
   ],
   "source": [
    "data = dict(\n",
    "    type='choropleth', locations=countries_high_crate,\n",
    "    z= high_crate,\n",
    "    text = country,\n",
    "    colorbar={'title':'Suicide rate(2019)'}\n",
    ")\n",
    "layout = dict(title = 'Countries with higher suicide rate(2019)',\n",
    "geo = dict(showframe =  True))\n",
    "choromap6 = go.Figure(data= [data],layout=layout)\n",
    "iplot(choromap6)"
   ]
  },
  {
   "cell_type": "code",
   "execution_count": 35,
   "id": "020d53dd",
   "metadata": {},
   "outputs": [
    {
     "data": {
      "application/vnd.plotly.v1+json": {
       "data": [
        {
         "colorbar": {
          "title": {
           "text": "rank"
          }
         },
         "locations": [
          "LSO",
          "GUY",
          "SWZ",
          "KOR",
          "KIR",
          "FSM",
          "LTU",
          "SUR",
          "RUS",
          "ZAF",
          "UKR",
          "BLR",
          "URY",
          "MNE",
          "LVA",
          "SVN",
          "BEL",
          "VUT",
          "MNG",
          "KAZ",
          "HUN",
          "HRV",
          "USA",
          "BWA",
          "JPN",
          "FIN",
          "EST",
          "SWE",
          "MDA",
          "SLB",
          "AUT",
          "CUB",
          "CHE",
          "ZWE",
          "LKA",
          "FRA",
          "MOZ",
          "IND",
          "WSM",
          "AUS",
          "DEU",
          "CAF",
          "SVK",
          "ISL",
          "CAN",
          "NLD",
          "NOR",
          "PRT",
          "SRB",
          "POL",
          "LUX",
          "SGP",
          "NZL",
          "ERI",
          "BIH",
          "DNK",
          "ROU",
          "BGR",
          "NAM",
          "HTI",
          "IRL",
          "DJI",
          "MUS",
          "PRK",
          "MKD",
          "GEO",
          "NPL",
          "CMR",
          "CHL",
          "FJI",
          "PAK",
          "CIV",
          "BHR",
          "THA",
          "TGO",
          "TTO",
          "ARG",
          "GAB",
          "CHN",
          "CRI",
          "SYC",
          "UZB",
          "GBR",
          "SOM",
          "GNQ",
          "LCA",
          "BEN",
          "ESP",
          "ECU",
          "VNM",
          "BFA",
          "KGZ",
          "ZMB",
          "MAR",
          "BLZ",
          "GIN",
          "GNB",
          "BRA",
          "COD",
          "ITA",
          "SLE",
          "GHA",
          "TCD",
          "ARE",
          "BDI",
          "BOL",
          "KEN",
          "AGO",
          "SLV",
          "MLT",
          "SAU",
          "SEN",
          "PRY",
          "GTM",
          "YEM",
          "QAT",
          "MYS",
          "TKM",
          "RWA",
          "MDG",
          "ETH",
          "MWI",
          "LAO",
          "COM",
          "MEX",
          "NER",
          "ISR",
          "IRN",
          "GRC",
          "KHM",
          "DOM",
          "OMN",
          "GMB",
          "UGA",
          "BTN",
          "LBY",
          "LBR",
          "NIC",
          "TZA",
          "TJK",
          "ALB",
          "AFG",
          "MLI",
          "AZE",
          "COL",
          "SSD",
          "SDN",
          "TON",
          "BGD",
          "TLS",
          "IRQ",
          "CYP",
          "NGA",
          "BHS",
          "TUN",
          "ARM",
          "MRT",
          "EGY",
          "PNG",
          "MMR",
          "PAN",
          "KWT",
          "PER",
          "LBN",
          "MDV",
          "BRN",
          "DZA",
          "IDN",
          "TUR",
          "JAM",
          "PHL",
          "VEN",
          "HND",
          "JOR",
          "STP",
          "VCT",
          "GRD",
          "BRB",
          "ATG"
         ],
         "text": [
          "Lesotho",
          "Guyana",
          "Eswatini",
          "South Korea",
          "Kiribati",
          "Micronesia",
          "Lithuania",
          "Suriname",
          "Russia",
          "South Africa",
          "Ukraine",
          "Belarus",
          "Uruguay",
          "Montenegro",
          "Latvia",
          "Slovenia",
          "Belgium",
          "Vanuatu",
          "Mongolia",
          "Kazakhstan",
          "Hungary",
          "Croatia",
          "United States",
          "Botswana",
          "Japan",
          "Finland",
          "Estonia",
          "Sweden",
          "Moldova",
          "Solomon Islands",
          "Austria",
          "Cuba",
          "Switzerland",
          "Zimbabwe",
          "Sri Lanka",
          "France",
          "Mozambique",
          "India",
          "Samoa",
          "Australia",
          "Germany",
          "Central African Republic",
          "Slovakia",
          "Iceland",
          "Canada",
          "Netherlands",
          "Norway",
          "Portugal",
          "Serbia",
          "Poland",
          "Luxembourg",
          "Singapore",
          "New Zealand",
          "Eritrea",
          "Bosnia and Herzegovina",
          "Denmark",
          "Romania",
          "Bulgaria",
          "Namibia",
          "Haiti",
          "Ireland",
          "Djibouti",
          "Mauritius",
          "North Korea",
          "North Macedonia",
          "Georgia",
          "Nepal",
          "Cameroon",
          "Chile",
          "Fiji",
          "Pakistan",
          "Ivory Coast",
          "Bahrain",
          "Thailand",
          "Togo",
          "Trinidad and Tobago",
          "Argentina",
          "Gabon",
          "China",
          "Costa Rica",
          "Seychelles",
          "Uzbekistan",
          "United Kingdom",
          "Somalia",
          "Equatorial Guinea",
          "Saint Lucia",
          "Benin",
          "Spain",
          "Ecuador",
          "Vietnam",
          "Burkina Faso",
          "Kyrgyzstan",
          "Zambia",
          "Morocco",
          "Belize",
          "Guinea",
          "Guinea-Bissau",
          "Brazil",
          "DR Congo",
          "Italy",
          "Sierra Leone",
          "Ghana",
          "Chad",
          "United Arab Emirates",
          "Burundi",
          "Bolivia",
          "Kenya",
          "Angola",
          "El Salvador",
          "Malta",
          "Saudi Arabia",
          "Senegal",
          "Paraguay",
          "Guatemala",
          "Yemen",
          "Qatar",
          "Malaysia",
          "Turkmenistan",
          "Rwanda",
          "Madagascar",
          "Ethiopia",
          "Malawi",
          "Laos",
          "Comoros",
          "Mexico",
          "Niger",
          "Israel",
          "Iran",
          "Greece",
          "Cambodia",
          "Dominican Republic",
          "Oman",
          "Gambia",
          "Uganda",
          "Bhutan",
          "Libya",
          "Liberia",
          "Nicaragua",
          "Tanzania",
          "Tajikistan",
          "Albania",
          "Afghanistan",
          "Mali",
          "Azerbaijan",
          "Colombia",
          "South Sudan",
          "Sudan",
          "Tonga",
          "Bangladesh",
          "Timor-Leste",
          "Iraq",
          "Cyprus",
          "Nigeria",
          "Bahamas",
          "Tunisia",
          "Armenia",
          "Mauritania",
          "Egypt",
          "Papua New Guinea",
          "Myanmar",
          "Panama",
          "Kuwait",
          "Peru",
          "Lebanon",
          "Maldives",
          "Brunei",
          "Algeria",
          "Indonesia",
          "Turkey",
          "Jamaica",
          "Philippines",
          "Venezuela",
          "Honduras",
          "Jordan",
          "Sao Tome and Principe",
          "Saint Vincent and the Grenadines",
          "Grenada",
          "Barbados",
          "Antigua and Barbuda"
         ],
         "z": [
          1,
          2,
          3,
          4,
          5,
          6,
          7,
          8,
          9,
          10,
          11,
          12,
          13,
          14,
          15,
          16,
          17,
          18,
          19,
          20,
          21,
          22,
          23,
          24,
          25,
          26,
          27,
          28,
          29,
          30,
          31,
          32,
          33,
          34,
          35,
          36,
          37,
          38,
          39,
          40,
          41,
          42,
          43,
          44,
          45,
          46,
          47,
          48,
          49,
          50,
          51,
          52,
          53,
          54,
          55,
          56,
          57,
          58,
          59,
          60,
          61,
          62,
          63,
          64,
          65,
          66,
          67,
          68,
          69,
          70,
          71,
          72,
          73,
          74,
          75,
          76,
          77,
          78,
          79,
          80,
          81,
          82,
          83,
          84,
          85,
          86,
          87,
          88,
          89,
          90,
          91,
          92,
          93,
          94,
          95,
          96,
          97,
          98,
          99,
          100,
          101,
          102,
          103,
          104,
          105,
          106,
          107,
          108,
          109,
          110,
          111,
          112,
          113,
          114,
          115,
          116,
          117,
          118,
          119,
          120,
          121,
          122,
          123,
          124,
          125,
          126,
          127,
          128,
          129,
          130,
          131,
          132,
          133,
          134,
          135,
          136,
          137,
          138,
          139,
          140,
          141,
          142,
          143,
          144,
          145,
          146,
          147,
          148,
          149,
          150,
          151,
          152,
          153,
          154,
          155,
          156,
          157,
          158,
          159,
          160,
          161,
          162,
          163,
          164,
          165,
          166,
          167,
          168,
          169,
          170,
          171,
          172,
          173,
          174,
          175,
          176,
          177,
          178,
          179
         ],
         "type": "choropleth"
        }
       ],
       "layout": {
        "geo": {
         "showframe": true
        },
        "template": {
         "data": {
          "barpolar": [
           {
            "marker": {
             "line": {
              "color": "rgb(17,17,17)",
              "width": 0.5
             },
             "pattern": {
              "fillmode": "overlay",
              "size": 10,
              "solidity": 0.2
             }
            },
            "type": "barpolar"
           }
          ],
          "bar": [
           {
            "error_x": {
             "color": "#f2f5fa"
            },
            "error_y": {
             "color": "#f2f5fa"
            },
            "marker": {
             "line": {
              "color": "rgb(17,17,17)",
              "width": 0.5
             },
             "pattern": {
              "fillmode": "overlay",
              "size": 10,
              "solidity": 0.2
             }
            },
            "type": "bar"
           }
          ],
          "carpet": [
           {
            "aaxis": {
             "endlinecolor": "#A2B1C6",
             "gridcolor": "#506784",
             "linecolor": "#506784",
             "minorgridcolor": "#506784",
             "startlinecolor": "#A2B1C6"
            },
            "baxis": {
             "endlinecolor": "#A2B1C6",
             "gridcolor": "#506784",
             "linecolor": "#506784",
             "minorgridcolor": "#506784",
             "startlinecolor": "#A2B1C6"
            },
            "type": "carpet"
           }
          ],
          "choropleth": [
           {
            "colorbar": {
             "outlinewidth": 0,
             "ticks": ""
            },
            "type": "choropleth"
           }
          ],
          "contourcarpet": [
           {
            "colorbar": {
             "outlinewidth": 0,
             "ticks": ""
            },
            "type": "contourcarpet"
           }
          ],
          "contour": [
           {
            "colorbar": {
             "outlinewidth": 0,
             "ticks": ""
            },
            "colorscale": [
             [
              0.0,
              "#0d0887"
             ],
             [
              0.1111111111111111,
              "#46039f"
             ],
             [
              0.2222222222222222,
              "#7201a8"
             ],
             [
              0.3333333333333333,
              "#9c179e"
             ],
             [
              0.4444444444444444,
              "#bd3786"
             ],
             [
              0.5555555555555556,
              "#d8576b"
             ],
             [
              0.6666666666666666,
              "#ed7953"
             ],
             [
              0.7777777777777778,
              "#fb9f3a"
             ],
             [
              0.8888888888888888,
              "#fdca26"
             ],
             [
              1.0,
              "#f0f921"
             ]
            ],
            "type": "contour"
           }
          ],
          "heatmapgl": [
           {
            "colorbar": {
             "outlinewidth": 0,
             "ticks": ""
            },
            "colorscale": [
             [
              0.0,
              "#0d0887"
             ],
             [
              0.1111111111111111,
              "#46039f"
             ],
             [
              0.2222222222222222,
              "#7201a8"
             ],
             [
              0.3333333333333333,
              "#9c179e"
             ],
             [
              0.4444444444444444,
              "#bd3786"
             ],
             [
              0.5555555555555556,
              "#d8576b"
             ],
             [
              0.6666666666666666,
              "#ed7953"
             ],
             [
              0.7777777777777778,
              "#fb9f3a"
             ],
             [
              0.8888888888888888,
              "#fdca26"
             ],
             [
              1.0,
              "#f0f921"
             ]
            ],
            "type": "heatmapgl"
           }
          ],
          "heatmap": [
           {
            "colorbar": {
             "outlinewidth": 0,
             "ticks": ""
            },
            "colorscale": [
             [
              0.0,
              "#0d0887"
             ],
             [
              0.1111111111111111,
              "#46039f"
             ],
             [
              0.2222222222222222,
              "#7201a8"
             ],
             [
              0.3333333333333333,
              "#9c179e"
             ],
             [
              0.4444444444444444,
              "#bd3786"
             ],
             [
              0.5555555555555556,
              "#d8576b"
             ],
             [
              0.6666666666666666,
              "#ed7953"
             ],
             [
              0.7777777777777778,
              "#fb9f3a"
             ],
             [
              0.8888888888888888,
              "#fdca26"
             ],
             [
              1.0,
              "#f0f921"
             ]
            ],
            "type": "heatmap"
           }
          ],
          "histogram2dcontour": [
           {
            "colorbar": {
             "outlinewidth": 0,
             "ticks": ""
            },
            "colorscale": [
             [
              0.0,
              "#0d0887"
             ],
             [
              0.1111111111111111,
              "#46039f"
             ],
             [
              0.2222222222222222,
              "#7201a8"
             ],
             [
              0.3333333333333333,
              "#9c179e"
             ],
             [
              0.4444444444444444,
              "#bd3786"
             ],
             [
              0.5555555555555556,
              "#d8576b"
             ],
             [
              0.6666666666666666,
              "#ed7953"
             ],
             [
              0.7777777777777778,
              "#fb9f3a"
             ],
             [
              0.8888888888888888,
              "#fdca26"
             ],
             [
              1.0,
              "#f0f921"
             ]
            ],
            "type": "histogram2dcontour"
           }
          ],
          "histogram2d": [
           {
            "colorbar": {
             "outlinewidth": 0,
             "ticks": ""
            },
            "colorscale": [
             [
              0.0,
              "#0d0887"
             ],
             [
              0.1111111111111111,
              "#46039f"
             ],
             [
              0.2222222222222222,
              "#7201a8"
             ],
             [
              0.3333333333333333,
              "#9c179e"
             ],
             [
              0.4444444444444444,
              "#bd3786"
             ],
             [
              0.5555555555555556,
              "#d8576b"
             ],
             [
              0.6666666666666666,
              "#ed7953"
             ],
             [
              0.7777777777777778,
              "#fb9f3a"
             ],
             [
              0.8888888888888888,
              "#fdca26"
             ],
             [
              1.0,
              "#f0f921"
             ]
            ],
            "type": "histogram2d"
           }
          ],
          "histogram": [
           {
            "marker": {
             "pattern": {
              "fillmode": "overlay",
              "size": 10,
              "solidity": 0.2
             }
            },
            "type": "histogram"
           }
          ],
          "mesh3d": [
           {
            "colorbar": {
             "outlinewidth": 0,
             "ticks": ""
            },
            "type": "mesh3d"
           }
          ],
          "parcoords": [
           {
            "line": {
             "colorbar": {
              "outlinewidth": 0,
              "ticks": ""
             }
            },
            "type": "parcoords"
           }
          ],
          "pie": [
           {
            "automargin": true,
            "type": "pie"
           }
          ],
          "scatter3d": [
           {
            "line": {
             "colorbar": {
              "outlinewidth": 0,
              "ticks": ""
             }
            },
            "marker": {
             "colorbar": {
              "outlinewidth": 0,
              "ticks": ""
             }
            },
            "type": "scatter3d"
           }
          ],
          "scattercarpet": [
           {
            "marker": {
             "colorbar": {
              "outlinewidth": 0,
              "ticks": ""
             }
            },
            "type": "scattercarpet"
           }
          ],
          "scattergeo": [
           {
            "marker": {
             "colorbar": {
              "outlinewidth": 0,
              "ticks": ""
             }
            },
            "type": "scattergeo"
           }
          ],
          "scattergl": [
           {
            "marker": {
             "line": {
              "color": "#283442"
             }
            },
            "type": "scattergl"
           }
          ],
          "scattermapbox": [
           {
            "marker": {
             "colorbar": {
              "outlinewidth": 0,
              "ticks": ""
             }
            },
            "type": "scattermapbox"
           }
          ],
          "scatterpolargl": [
           {
            "marker": {
             "colorbar": {
              "outlinewidth": 0,
              "ticks": ""
             }
            },
            "type": "scatterpolargl"
           }
          ],
          "scatterpolar": [
           {
            "marker": {
             "colorbar": {
              "outlinewidth": 0,
              "ticks": ""
             }
            },
            "type": "scatterpolar"
           }
          ],
          "scatter": [
           {
            "marker": {
             "line": {
              "color": "#283442"
             }
            },
            "type": "scatter"
           }
          ],
          "scatterternary": [
           {
            "marker": {
             "colorbar": {
              "outlinewidth": 0,
              "ticks": ""
             }
            },
            "type": "scatterternary"
           }
          ],
          "surface": [
           {
            "colorbar": {
             "outlinewidth": 0,
             "ticks": ""
            },
            "colorscale": [
             [
              0.0,
              "#0d0887"
             ],
             [
              0.1111111111111111,
              "#46039f"
             ],
             [
              0.2222222222222222,
              "#7201a8"
             ],
             [
              0.3333333333333333,
              "#9c179e"
             ],
             [
              0.4444444444444444,
              "#bd3786"
             ],
             [
              0.5555555555555556,
              "#d8576b"
             ],
             [
              0.6666666666666666,
              "#ed7953"
             ],
             [
              0.7777777777777778,
              "#fb9f3a"
             ],
             [
              0.8888888888888888,
              "#fdca26"
             ],
             [
              1.0,
              "#f0f921"
             ]
            ],
            "type": "surface"
           }
          ],
          "table": [
           {
            "cells": {
             "fill": {
              "color": "#506784"
             },
             "line": {
              "color": "rgb(17,17,17)"
             }
            },
            "header": {
             "fill": {
              "color": "#2a3f5f"
             },
             "line": {
              "color": "rgb(17,17,17)"
             }
            },
            "type": "table"
           }
          ]
         },
         "layout": {
          "annotationdefaults": {
           "arrowcolor": "#f2f5fa",
           "arrowhead": 0,
           "arrowwidth": 1
          },
          "autotypenumbers": "strict",
          "coloraxis": {
           "colorbar": {
            "outlinewidth": 0,
            "ticks": ""
           }
          },
          "colorscale": {
           "diverging": [
            [
             0,
             "#8e0152"
            ],
            [
             0.1,
             "#c51b7d"
            ],
            [
             0.2,
             "#de77ae"
            ],
            [
             0.3,
             "#f1b6da"
            ],
            [
             0.4,
             "#fde0ef"
            ],
            [
             0.5,
             "#f7f7f7"
            ],
            [
             0.6,
             "#e6f5d0"
            ],
            [
             0.7,
             "#b8e186"
            ],
            [
             0.8,
             "#7fbc41"
            ],
            [
             0.9,
             "#4d9221"
            ],
            [
             1,
             "#276419"
            ]
           ],
           "sequential": [
            [
             0.0,
             "#0d0887"
            ],
            [
             0.1111111111111111,
             "#46039f"
            ],
            [
             0.2222222222222222,
             "#7201a8"
            ],
            [
             0.3333333333333333,
             "#9c179e"
            ],
            [
             0.4444444444444444,
             "#bd3786"
            ],
            [
             0.5555555555555556,
             "#d8576b"
            ],
            [
             0.6666666666666666,
             "#ed7953"
            ],
            [
             0.7777777777777778,
             "#fb9f3a"
            ],
            [
             0.8888888888888888,
             "#fdca26"
            ],
            [
             1.0,
             "#f0f921"
            ]
           ],
           "sequentialminus": [
            [
             0.0,
             "#0d0887"
            ],
            [
             0.1111111111111111,
             "#46039f"
            ],
            [
             0.2222222222222222,
             "#7201a8"
            ],
            [
             0.3333333333333333,
             "#9c179e"
            ],
            [
             0.4444444444444444,
             "#bd3786"
            ],
            [
             0.5555555555555556,
             "#d8576b"
            ],
            [
             0.6666666666666666,
             "#ed7953"
            ],
            [
             0.7777777777777778,
             "#fb9f3a"
            ],
            [
             0.8888888888888888,
             "#fdca26"
            ],
            [
             1.0,
             "#f0f921"
            ]
           ]
          },
          "colorway": [
           "#636efa",
           "#EF553B",
           "#00cc96",
           "#ab63fa",
           "#FFA15A",
           "#19d3f3",
           "#FF6692",
           "#B6E880",
           "#FF97FF",
           "#FECB52"
          ],
          "font": {
           "color": "#f2f5fa"
          },
          "geo": {
           "bgcolor": "rgb(17,17,17)",
           "lakecolor": "rgb(17,17,17)",
           "landcolor": "rgb(17,17,17)",
           "showlakes": true,
           "showland": true,
           "subunitcolor": "#506784"
          },
          "hoverlabel": {
           "align": "left"
          },
          "hovermode": "closest",
          "mapbox": {
           "style": "dark"
          },
          "paper_bgcolor": "rgb(17,17,17)",
          "plot_bgcolor": "rgb(17,17,17)",
          "polar": {
           "angularaxis": {
            "gridcolor": "#506784",
            "linecolor": "#506784",
            "ticks": ""
           },
           "bgcolor": "rgb(17,17,17)",
           "radialaxis": {
            "gridcolor": "#506784",
            "linecolor": "#506784",
            "ticks": ""
           }
          },
          "scene": {
           "xaxis": {
            "backgroundcolor": "rgb(17,17,17)",
            "gridcolor": "#506784",
            "gridwidth": 2,
            "linecolor": "#506784",
            "showbackground": true,
            "ticks": "",
            "zerolinecolor": "#C8D4E3"
           },
           "yaxis": {
            "backgroundcolor": "rgb(17,17,17)",
            "gridcolor": "#506784",
            "gridwidth": 2,
            "linecolor": "#506784",
            "showbackground": true,
            "ticks": "",
            "zerolinecolor": "#C8D4E3"
           },
           "zaxis": {
            "backgroundcolor": "rgb(17,17,17)",
            "gridcolor": "#506784",
            "gridwidth": 2,
            "linecolor": "#506784",
            "showbackground": true,
            "ticks": "",
            "zerolinecolor": "#C8D4E3"
           }
          },
          "shapedefaults": {
           "line": {
            "color": "#f2f5fa"
           }
          },
          "sliderdefaults": {
           "bgcolor": "#C8D4E3",
           "bordercolor": "rgb(17,17,17)",
           "borderwidth": 1,
           "tickwidth": 0
          },
          "ternary": {
           "aaxis": {
            "gridcolor": "#506784",
            "linecolor": "#506784",
            "ticks": ""
           },
           "baxis": {
            "gridcolor": "#506784",
            "linecolor": "#506784",
            "ticks": ""
           },
           "bgcolor": "rgb(17,17,17)",
           "caxis": {
            "gridcolor": "#506784",
            "linecolor": "#506784",
            "ticks": ""
           }
          },
          "title": {
           "x": 0.05
          },
          "updatemenudefaults": {
           "bgcolor": "#506784",
           "borderwidth": 0
          },
          "xaxis": {
           "automargin": true,
           "gridcolor": "#283442",
           "linecolor": "#506784",
           "ticks": "",
           "title": {
            "standoff": 15
           },
           "zerolinecolor": "#283442",
           "zerolinewidth": 2
          },
          "yaxis": {
           "automargin": true,
           "gridcolor": "#283442",
           "linecolor": "#506784",
           "ticks": "",
           "title": {
            "standoff": 15
           },
           "zerolinecolor": "#283442",
           "zerolinewidth": 2
          }
         }
        },
        "title": {
         "text": "Suicide rate(2019)"
        }
       },
       "config": {
        "showLink": false,
        "linkText": "Export to plot.ly",
        "plotlyServerURL": "https://plot.ly"
       }
      },
      "text/html": "<div>                            <div id=\"0c5a4087-b2b5-46b2-a650-378603f080e1\" class=\"plotly-graph-div\" style=\"height:525px; width:100%;\"></div>            <script type=\"text/javascript\">                require([\"plotly\"], function(Plotly) {                    window.PLOTLYENV=window.PLOTLYENV || {};                                    if (document.getElementById(\"0c5a4087-b2b5-46b2-a650-378603f080e1\")) {                    Plotly.newPlot(                        \"0c5a4087-b2b5-46b2-a650-378603f080e1\",                        [{\"colorbar\":{\"title\":{\"text\":\"rank\"}},\"locations\":[\"LSO\",\"GUY\",\"SWZ\",\"KOR\",\"KIR\",\"FSM\",\"LTU\",\"SUR\",\"RUS\",\"ZAF\",\"UKR\",\"BLR\",\"URY\",\"MNE\",\"LVA\",\"SVN\",\"BEL\",\"VUT\",\"MNG\",\"KAZ\",\"HUN\",\"HRV\",\"USA\",\"BWA\",\"JPN\",\"FIN\",\"EST\",\"SWE\",\"MDA\",\"SLB\",\"AUT\",\"CUB\",\"CHE\",\"ZWE\",\"LKA\",\"FRA\",\"MOZ\",\"IND\",\"WSM\",\"AUS\",\"DEU\",\"CAF\",\"SVK\",\"ISL\",\"CAN\",\"NLD\",\"NOR\",\"PRT\",\"SRB\",\"POL\",\"LUX\",\"SGP\",\"NZL\",\"ERI\",\"BIH\",\"DNK\",\"ROU\",\"BGR\",\"NAM\",\"HTI\",\"IRL\",\"DJI\",\"MUS\",\"PRK\",\"MKD\",\"GEO\",\"NPL\",\"CMR\",\"CHL\",\"FJI\",\"PAK\",\"CIV\",\"BHR\",\"THA\",\"TGO\",\"TTO\",\"ARG\",\"GAB\",\"CHN\",\"CRI\",\"SYC\",\"UZB\",\"GBR\",\"SOM\",\"GNQ\",\"LCA\",\"BEN\",\"ESP\",\"ECU\",\"VNM\",\"BFA\",\"KGZ\",\"ZMB\",\"MAR\",\"BLZ\",\"GIN\",\"GNB\",\"BRA\",\"COD\",\"ITA\",\"SLE\",\"GHA\",\"TCD\",\"ARE\",\"BDI\",\"BOL\",\"KEN\",\"AGO\",\"SLV\",\"MLT\",\"SAU\",\"SEN\",\"PRY\",\"GTM\",\"YEM\",\"QAT\",\"MYS\",\"TKM\",\"RWA\",\"MDG\",\"ETH\",\"MWI\",\"LAO\",\"COM\",\"MEX\",\"NER\",\"ISR\",\"IRN\",\"GRC\",\"KHM\",\"DOM\",\"OMN\",\"GMB\",\"UGA\",\"BTN\",\"LBY\",\"LBR\",\"NIC\",\"TZA\",\"TJK\",\"ALB\",\"AFG\",\"MLI\",\"AZE\",\"COL\",\"SSD\",\"SDN\",\"TON\",\"BGD\",\"TLS\",\"IRQ\",\"CYP\",\"NGA\",\"BHS\",\"TUN\",\"ARM\",\"MRT\",\"EGY\",\"PNG\",\"MMR\",\"PAN\",\"KWT\",\"PER\",\"LBN\",\"MDV\",\"BRN\",\"DZA\",\"IDN\",\"TUR\",\"JAM\",\"PHL\",\"VEN\",\"HND\",\"JOR\",\"STP\",\"VCT\",\"GRD\",\"BRB\",\"ATG\"],\"text\":[\"Lesotho\",\"Guyana\",\"Eswatini\",\"South Korea\",\"Kiribati\",\"Micronesia\",\"Lithuania\",\"Suriname\",\"Russia\",\"South Africa\",\"Ukraine\",\"Belarus\",\"Uruguay\",\"Montenegro\",\"Latvia\",\"Slovenia\",\"Belgium\",\"Vanuatu\",\"Mongolia\",\"Kazakhstan\",\"Hungary\",\"Croatia\",\"United States\",\"Botswana\",\"Japan\",\"Finland\",\"Estonia\",\"Sweden\",\"Moldova\",\"Solomon Islands\",\"Austria\",\"Cuba\",\"Switzerland\",\"Zimbabwe\",\"Sri Lanka\",\"France\",\"Mozambique\",\"India\",\"Samoa\",\"Australia\",\"Germany\",\"Central African Republic\",\"Slovakia\",\"Iceland\",\"Canada\",\"Netherlands\",\"Norway\",\"Portugal\",\"Serbia\",\"Poland\",\"Luxembourg\",\"Singapore\",\"New Zealand\",\"Eritrea\",\"Bosnia and Herzegovina\",\"Denmark\",\"Romania\",\"Bulgaria\",\"Namibia\",\"Haiti\",\"Ireland\",\"Djibouti\",\"Mauritius\",\"North Korea\",\"North Macedonia\",\"Georgia\",\"Nepal\",\"Cameroon\",\"Chile\",\"Fiji\",\"Pakistan\",\"Ivory Coast\",\"Bahrain\",\"Thailand\",\"Togo\",\"Trinidad and Tobago\",\"Argentina\",\"Gabon\",\"China\",\"Costa Rica\",\"Seychelles\",\"Uzbekistan\",\"United Kingdom\",\"Somalia\",\"Equatorial Guinea\",\"Saint Lucia\",\"Benin\",\"Spain\",\"Ecuador\",\"Vietnam\",\"Burkina Faso\",\"Kyrgyzstan\",\"Zambia\",\"Morocco\",\"Belize\",\"Guinea\",\"Guinea-Bissau\",\"Brazil\",\"DR Congo\",\"Italy\",\"Sierra Leone\",\"Ghana\",\"Chad\",\"United Arab Emirates\",\"Burundi\",\"Bolivia\",\"Kenya\",\"Angola\",\"El Salvador\",\"Malta\",\"Saudi Arabia\",\"Senegal\",\"Paraguay\",\"Guatemala\",\"Yemen\",\"Qatar\",\"Malaysia\",\"Turkmenistan\",\"Rwanda\",\"Madagascar\",\"Ethiopia\",\"Malawi\",\"Laos\",\"Comoros\",\"Mexico\",\"Niger\",\"Israel\",\"Iran\",\"Greece\",\"Cambodia\",\"Dominican Republic\",\"Oman\",\"Gambia\",\"Uganda\",\"Bhutan\",\"Libya\",\"Liberia\",\"Nicaragua\",\"Tanzania\",\"Tajikistan\",\"Albania\",\"Afghanistan\",\"Mali\",\"Azerbaijan\",\"Colombia\",\"South Sudan\",\"Sudan\",\"Tonga\",\"Bangladesh\",\"Timor-Leste\",\"Iraq\",\"Cyprus\",\"Nigeria\",\"Bahamas\",\"Tunisia\",\"Armenia\",\"Mauritania\",\"Egypt\",\"Papua New Guinea\",\"Myanmar\",\"Panama\",\"Kuwait\",\"Peru\",\"Lebanon\",\"Maldives\",\"Brunei\",\"Algeria\",\"Indonesia\",\"Turkey\",\"Jamaica\",\"Philippines\",\"Venezuela\",\"Honduras\",\"Jordan\",\"Sao Tome and Principe\",\"Saint Vincent and the Grenadines\",\"Grenada\",\"Barbados\",\"Antigua and Barbuda\"],\"z\":[1,2,3,4,5,6,7,8,9,10,11,12,13,14,15,16,17,18,19,20,21,22,23,24,25,26,27,28,29,30,31,32,33,34,35,36,37,38,39,40,41,42,43,44,45,46,47,48,49,50,51,52,53,54,55,56,57,58,59,60,61,62,63,64,65,66,67,68,69,70,71,72,73,74,75,76,77,78,79,80,81,82,83,84,85,86,87,88,89,90,91,92,93,94,95,96,97,98,99,100,101,102,103,104,105,106,107,108,109,110,111,112,113,114,115,116,117,118,119,120,121,122,123,124,125,126,127,128,129,130,131,132,133,134,135,136,137,138,139,140,141,142,143,144,145,146,147,148,149,150,151,152,153,154,155,156,157,158,159,160,161,162,163,164,165,166,167,168,169,170,171,172,173,174,175,176,177,178,179],\"type\":\"choropleth\"}],                        {\"geo\":{\"showframe\":true},\"template\":{\"data\":{\"barpolar\":[{\"marker\":{\"line\":{\"color\":\"rgb(17,17,17)\",\"width\":0.5},\"pattern\":{\"fillmode\":\"overlay\",\"size\":10,\"solidity\":0.2}},\"type\":\"barpolar\"}],\"bar\":[{\"error_x\":{\"color\":\"#f2f5fa\"},\"error_y\":{\"color\":\"#f2f5fa\"},\"marker\":{\"line\":{\"color\":\"rgb(17,17,17)\",\"width\":0.5},\"pattern\":{\"fillmode\":\"overlay\",\"size\":10,\"solidity\":0.2}},\"type\":\"bar\"}],\"carpet\":[{\"aaxis\":{\"endlinecolor\":\"#A2B1C6\",\"gridcolor\":\"#506784\",\"linecolor\":\"#506784\",\"minorgridcolor\":\"#506784\",\"startlinecolor\":\"#A2B1C6\"},\"baxis\":{\"endlinecolor\":\"#A2B1C6\",\"gridcolor\":\"#506784\",\"linecolor\":\"#506784\",\"minorgridcolor\":\"#506784\",\"startlinecolor\":\"#A2B1C6\"},\"type\":\"carpet\"}],\"choropleth\":[{\"colorbar\":{\"outlinewidth\":0,\"ticks\":\"\"},\"type\":\"choropleth\"}],\"contourcarpet\":[{\"colorbar\":{\"outlinewidth\":0,\"ticks\":\"\"},\"type\":\"contourcarpet\"}],\"contour\":[{\"colorbar\":{\"outlinewidth\":0,\"ticks\":\"\"},\"colorscale\":[[0.0,\"#0d0887\"],[0.1111111111111111,\"#46039f\"],[0.2222222222222222,\"#7201a8\"],[0.3333333333333333,\"#9c179e\"],[0.4444444444444444,\"#bd3786\"],[0.5555555555555556,\"#d8576b\"],[0.6666666666666666,\"#ed7953\"],[0.7777777777777778,\"#fb9f3a\"],[0.8888888888888888,\"#fdca26\"],[1.0,\"#f0f921\"]],\"type\":\"contour\"}],\"heatmapgl\":[{\"colorbar\":{\"outlinewidth\":0,\"ticks\":\"\"},\"colorscale\":[[0.0,\"#0d0887\"],[0.1111111111111111,\"#46039f\"],[0.2222222222222222,\"#7201a8\"],[0.3333333333333333,\"#9c179e\"],[0.4444444444444444,\"#bd3786\"],[0.5555555555555556,\"#d8576b\"],[0.6666666666666666,\"#ed7953\"],[0.7777777777777778,\"#fb9f3a\"],[0.8888888888888888,\"#fdca26\"],[1.0,\"#f0f921\"]],\"type\":\"heatmapgl\"}],\"heatmap\":[{\"colorbar\":{\"outlinewidth\":0,\"ticks\":\"\"},\"colorscale\":[[0.0,\"#0d0887\"],[0.1111111111111111,\"#46039f\"],[0.2222222222222222,\"#7201a8\"],[0.3333333333333333,\"#9c179e\"],[0.4444444444444444,\"#bd3786\"],[0.5555555555555556,\"#d8576b\"],[0.6666666666666666,\"#ed7953\"],[0.7777777777777778,\"#fb9f3a\"],[0.8888888888888888,\"#fdca26\"],[1.0,\"#f0f921\"]],\"type\":\"heatmap\"}],\"histogram2dcontour\":[{\"colorbar\":{\"outlinewidth\":0,\"ticks\":\"\"},\"colorscale\":[[0.0,\"#0d0887\"],[0.1111111111111111,\"#46039f\"],[0.2222222222222222,\"#7201a8\"],[0.3333333333333333,\"#9c179e\"],[0.4444444444444444,\"#bd3786\"],[0.5555555555555556,\"#d8576b\"],[0.6666666666666666,\"#ed7953\"],[0.7777777777777778,\"#fb9f3a\"],[0.8888888888888888,\"#fdca26\"],[1.0,\"#f0f921\"]],\"type\":\"histogram2dcontour\"}],\"histogram2d\":[{\"colorbar\":{\"outlinewidth\":0,\"ticks\":\"\"},\"colorscale\":[[0.0,\"#0d0887\"],[0.1111111111111111,\"#46039f\"],[0.2222222222222222,\"#7201a8\"],[0.3333333333333333,\"#9c179e\"],[0.4444444444444444,\"#bd3786\"],[0.5555555555555556,\"#d8576b\"],[0.6666666666666666,\"#ed7953\"],[0.7777777777777778,\"#fb9f3a\"],[0.8888888888888888,\"#fdca26\"],[1.0,\"#f0f921\"]],\"type\":\"histogram2d\"}],\"histogram\":[{\"marker\":{\"pattern\":{\"fillmode\":\"overlay\",\"size\":10,\"solidity\":0.2}},\"type\":\"histogram\"}],\"mesh3d\":[{\"colorbar\":{\"outlinewidth\":0,\"ticks\":\"\"},\"type\":\"mesh3d\"}],\"parcoords\":[{\"line\":{\"colorbar\":{\"outlinewidth\":0,\"ticks\":\"\"}},\"type\":\"parcoords\"}],\"pie\":[{\"automargin\":true,\"type\":\"pie\"}],\"scatter3d\":[{\"line\":{\"colorbar\":{\"outlinewidth\":0,\"ticks\":\"\"}},\"marker\":{\"colorbar\":{\"outlinewidth\":0,\"ticks\":\"\"}},\"type\":\"scatter3d\"}],\"scattercarpet\":[{\"marker\":{\"colorbar\":{\"outlinewidth\":0,\"ticks\":\"\"}},\"type\":\"scattercarpet\"}],\"scattergeo\":[{\"marker\":{\"colorbar\":{\"outlinewidth\":0,\"ticks\":\"\"}},\"type\":\"scattergeo\"}],\"scattergl\":[{\"marker\":{\"line\":{\"color\":\"#283442\"}},\"type\":\"scattergl\"}],\"scattermapbox\":[{\"marker\":{\"colorbar\":{\"outlinewidth\":0,\"ticks\":\"\"}},\"type\":\"scattermapbox\"}],\"scatterpolargl\":[{\"marker\":{\"colorbar\":{\"outlinewidth\":0,\"ticks\":\"\"}},\"type\":\"scatterpolargl\"}],\"scatterpolar\":[{\"marker\":{\"colorbar\":{\"outlinewidth\":0,\"ticks\":\"\"}},\"type\":\"scatterpolar\"}],\"scatter\":[{\"marker\":{\"line\":{\"color\":\"#283442\"}},\"type\":\"scatter\"}],\"scatterternary\":[{\"marker\":{\"colorbar\":{\"outlinewidth\":0,\"ticks\":\"\"}},\"type\":\"scatterternary\"}],\"surface\":[{\"colorbar\":{\"outlinewidth\":0,\"ticks\":\"\"},\"colorscale\":[[0.0,\"#0d0887\"],[0.1111111111111111,\"#46039f\"],[0.2222222222222222,\"#7201a8\"],[0.3333333333333333,\"#9c179e\"],[0.4444444444444444,\"#bd3786\"],[0.5555555555555556,\"#d8576b\"],[0.6666666666666666,\"#ed7953\"],[0.7777777777777778,\"#fb9f3a\"],[0.8888888888888888,\"#fdca26\"],[1.0,\"#f0f921\"]],\"type\":\"surface\"}],\"table\":[{\"cells\":{\"fill\":{\"color\":\"#506784\"},\"line\":{\"color\":\"rgb(17,17,17)\"}},\"header\":{\"fill\":{\"color\":\"#2a3f5f\"},\"line\":{\"color\":\"rgb(17,17,17)\"}},\"type\":\"table\"}]},\"layout\":{\"annotationdefaults\":{\"arrowcolor\":\"#f2f5fa\",\"arrowhead\":0,\"arrowwidth\":1},\"autotypenumbers\":\"strict\",\"coloraxis\":{\"colorbar\":{\"outlinewidth\":0,\"ticks\":\"\"}},\"colorscale\":{\"diverging\":[[0,\"#8e0152\"],[0.1,\"#c51b7d\"],[0.2,\"#de77ae\"],[0.3,\"#f1b6da\"],[0.4,\"#fde0ef\"],[0.5,\"#f7f7f7\"],[0.6,\"#e6f5d0\"],[0.7,\"#b8e186\"],[0.8,\"#7fbc41\"],[0.9,\"#4d9221\"],[1,\"#276419\"]],\"sequential\":[[0.0,\"#0d0887\"],[0.1111111111111111,\"#46039f\"],[0.2222222222222222,\"#7201a8\"],[0.3333333333333333,\"#9c179e\"],[0.4444444444444444,\"#bd3786\"],[0.5555555555555556,\"#d8576b\"],[0.6666666666666666,\"#ed7953\"],[0.7777777777777778,\"#fb9f3a\"],[0.8888888888888888,\"#fdca26\"],[1.0,\"#f0f921\"]],\"sequentialminus\":[[0.0,\"#0d0887\"],[0.1111111111111111,\"#46039f\"],[0.2222222222222222,\"#7201a8\"],[0.3333333333333333,\"#9c179e\"],[0.4444444444444444,\"#bd3786\"],[0.5555555555555556,\"#d8576b\"],[0.6666666666666666,\"#ed7953\"],[0.7777777777777778,\"#fb9f3a\"],[0.8888888888888888,\"#fdca26\"],[1.0,\"#f0f921\"]]},\"colorway\":[\"#636efa\",\"#EF553B\",\"#00cc96\",\"#ab63fa\",\"#FFA15A\",\"#19d3f3\",\"#FF6692\",\"#B6E880\",\"#FF97FF\",\"#FECB52\"],\"font\":{\"color\":\"#f2f5fa\"},\"geo\":{\"bgcolor\":\"rgb(17,17,17)\",\"lakecolor\":\"rgb(17,17,17)\",\"landcolor\":\"rgb(17,17,17)\",\"showlakes\":true,\"showland\":true,\"subunitcolor\":\"#506784\"},\"hoverlabel\":{\"align\":\"left\"},\"hovermode\":\"closest\",\"mapbox\":{\"style\":\"dark\"},\"paper_bgcolor\":\"rgb(17,17,17)\",\"plot_bgcolor\":\"rgb(17,17,17)\",\"polar\":{\"angularaxis\":{\"gridcolor\":\"#506784\",\"linecolor\":\"#506784\",\"ticks\":\"\"},\"bgcolor\":\"rgb(17,17,17)\",\"radialaxis\":{\"gridcolor\":\"#506784\",\"linecolor\":\"#506784\",\"ticks\":\"\"}},\"scene\":{\"xaxis\":{\"backgroundcolor\":\"rgb(17,17,17)\",\"gridcolor\":\"#506784\",\"gridwidth\":2,\"linecolor\":\"#506784\",\"showbackground\":true,\"ticks\":\"\",\"zerolinecolor\":\"#C8D4E3\"},\"yaxis\":{\"backgroundcolor\":\"rgb(17,17,17)\",\"gridcolor\":\"#506784\",\"gridwidth\":2,\"linecolor\":\"#506784\",\"showbackground\":true,\"ticks\":\"\",\"zerolinecolor\":\"#C8D4E3\"},\"zaxis\":{\"backgroundcolor\":\"rgb(17,17,17)\",\"gridcolor\":\"#506784\",\"gridwidth\":2,\"linecolor\":\"#506784\",\"showbackground\":true,\"ticks\":\"\",\"zerolinecolor\":\"#C8D4E3\"}},\"shapedefaults\":{\"line\":{\"color\":\"#f2f5fa\"}},\"sliderdefaults\":{\"bgcolor\":\"#C8D4E3\",\"bordercolor\":\"rgb(17,17,17)\",\"borderwidth\":1,\"tickwidth\":0},\"ternary\":{\"aaxis\":{\"gridcolor\":\"#506784\",\"linecolor\":\"#506784\",\"ticks\":\"\"},\"baxis\":{\"gridcolor\":\"#506784\",\"linecolor\":\"#506784\",\"ticks\":\"\"},\"bgcolor\":\"rgb(17,17,17)\",\"caxis\":{\"gridcolor\":\"#506784\",\"linecolor\":\"#506784\",\"ticks\":\"\"}},\"title\":{\"x\":0.05},\"updatemenudefaults\":{\"bgcolor\":\"#506784\",\"borderwidth\":0},\"xaxis\":{\"automargin\":true,\"gridcolor\":\"#283442\",\"linecolor\":\"#506784\",\"ticks\":\"\",\"title\":{\"standoff\":15},\"zerolinecolor\":\"#283442\",\"zerolinewidth\":2},\"yaxis\":{\"automargin\":true,\"gridcolor\":\"#283442\",\"linecolor\":\"#506784\",\"ticks\":\"\",\"title\":{\"standoff\":15},\"zerolinecolor\":\"#283442\",\"zerolinewidth\":2}}},\"title\":{\"text\":\"Suicide rate(2019)\"}},                        {\"responsive\": true}                    ).then(function(){\n                            \nvar gd = document.getElementById('0c5a4087-b2b5-46b2-a650-378603f080e1');\nvar x = new MutationObserver(function (mutations, observer) {{\n        var display = window.getComputedStyle(gd).display;\n        if (!display || display === 'none') {{\n            console.log([gd, 'removed!']);\n            Plotly.purge(gd);\n            observer.disconnect();\n        }}\n}});\n\n// Listen for the removal of the full notebook cells\nvar notebookContainer = gd.closest('#notebook-container');\nif (notebookContainer) {{\n    x.observe(notebookContainer, {childList: true});\n}}\n\n// Listen for the clearing of the current output cell\nvar outputEl = gd.closest('.output');\nif (outputEl) {{\n    x.observe(outputEl, {childList: true});\n}}\n\n                        })                };                });            </script>        </div>"
     },
     "metadata": {},
     "output_type": "display_data"
    }
   ],
   "source": [
    "data = dict(\n",
    "    type='choropleth', locations=df['cca3'],\n",
    "    z= df['rank'],\n",
    "    text = df['country'],\n",
    "    colorbar={'title':'rank'}\n",
    ")\n",
    "layout = dict(title = 'Suicide rate(2019)',\n",
    "geo = dict(showframe =  True))\n",
    "choromap7 = go.Figure(data= [data],layout=layout)\n",
    "iplot(choromap7)"
   ]
  },
  {
   "cell_type": "code",
   "execution_count": 36,
   "id": "1449e04c",
   "metadata": {},
   "outputs": [
    {
     "data": {
      "text/plain": "region\nAfrica            6.65\nAsia              5.70\nEurope           11.90\nNorth America     5.30\nOceania          12.55\nSouth America     7.25\nName: rate2019both, dtype: float64"
     },
     "execution_count": 36,
     "metadata": {},
     "output_type": "execute_result"
    }
   ],
   "source": [
    "df.groupby(by='region')['rate2019both'].median()"
   ]
  },
  {
   "cell_type": "code",
   "execution_count": 36,
   "id": "e249f611",
   "metadata": {},
   "outputs": [],
   "source": []
  }
 ],
 "metadata": {
  "kernelspec": {
   "display_name": "Python 3 (ipykernel)",
   "language": "python",
   "name": "python3"
  },
  "language_info": {
   "codemirror_mode": {
    "name": "ipython",
    "version": 3
   },
   "file_extension": ".py",
   "mimetype": "text/x-python",
   "name": "python",
   "nbconvert_exporter": "python",
   "pygments_lexer": "ipython3",
   "version": "3.10.8"
  }
 },
 "nbformat": 4,
 "nbformat_minor": 5
}
